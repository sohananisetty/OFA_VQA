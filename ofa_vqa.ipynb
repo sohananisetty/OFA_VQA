{
 "cells": [
  {
   "cell_type": "code",
   "execution_count": 1,
   "id": "ff98f73d",
   "metadata": {},
   "outputs": [
    {
     "name": "stdout",
     "output_type": "stream",
     "text": [
      "Using device: cuda\n",
      "\n",
      "TITAN Xp\n",
      "Memory Usage:\n",
      "Allocated: 0.0 GB\n",
      "Cached:    0.0 GB\n"
     ]
    }
   ],
   "source": [
    "# setting device on GPU if available, else CPU\n",
    "import torch\n",
    "device = torch.device('cuda' if torch.cuda.is_available() else 'cpu')\n",
    "print('Using device:', device)\n",
    "print()\n",
    "\n",
    "#Additional Info when using cuda\n",
    "if device.type == 'cuda':\n",
    "    print(torch.cuda.get_device_name(0))\n",
    "    print('Memory Usage:')\n",
    "    print('Allocated:', round(torch.cuda.memory_allocated(0)/1024**3,1), 'GB')\n",
    "    \n",
    "    print('Cached:   ', round(torch.cuda.memory_reserved(0)/1024**3,1), 'GB')\n",
    "if torch.cuda.device_count() > 1:\n",
    "    print(\"Using \", torch.cuda.device_count(), \"GPUs!\")"
   ]
  },
  {
   "cell_type": "code",
   "execution_count": 2,
   "id": "a9557b63",
   "metadata": {},
   "outputs": [],
   "source": [
    "%load_ext autoreload\n",
    "%autoreload 2"
   ]
  },
  {
   "cell_type": "code",
   "execution_count": 3,
   "id": "162b27ef",
   "metadata": {},
   "outputs": [],
   "source": [
    "import copy\n",
    "import os\n",
    "import random\n",
    "import cv2\n",
    "import numpy as np\n",
    "from PIL import Image\n",
    "import matplotlib.pyplot as plt\n",
    "from glob import glob\n",
    "import functools\n",
    "from PIL import Image\n",
    "import argparse\n",
    "import os\n",
    "import numpy as np\n",
    "import random\n",
    "import time\n",
    "import datetime\n",
    "import json\n",
    "from pathlib import Path\n",
    "\n",
    "\n",
    "import torch\n",
    "import torch.nn as nn\n",
    "import torch.nn.functional as F\n",
    "from torch.utils.data import DataLoader\n",
    "import transformers"
   ]
  },
  {
   "cell_type": "code",
   "execution_count": 4,
   "id": "90cd98bd",
   "metadata": {},
   "outputs": [],
   "source": [
    "from PIL import Image\n",
    "from torchvision import transforms\n",
    "from core.ofa import OFATokenizer, OFAModel\n",
    "from core.ofa.generate import sequence_generator"
   ]
  },
  {
   "cell_type": "code",
   "execution_count": 14,
   "id": "422b9ec0",
   "metadata": {},
   "outputs": [],
   "source": [
    "from core.datasets.vqa_gen_dataset import VqaGenDataset , VQACollator, VqaDataset, VqaStackDataset\n",
    "from core.ofa.label_smoothed_cross_entropy import AdjustLabelSmoothedCrossEntropyCriterion\n",
    "from core.ofa import OFATokenizer\n",
    "from core.ofa.modeling_ofa import OFAModelForVQA\n",
    "from core.ofa.configuration_ofa import OFAConfig\n",
    "from accelerate import Accelerator\n",
    "from accelerate.utils import DistributedDataParallelKwargs\n",
    "from accelerate import DistributedType"
   ]
  },
  {
   "cell_type": "code",
   "execution_count": 6,
   "id": "9ec3bc1c",
   "metadata": {},
   "outputs": [],
   "source": [
    "import transformers"
   ]
  },
  {
   "cell_type": "markdown",
   "id": "e336ce8a",
   "metadata": {},
   "source": [
    "## Convert pt to pretrained bin"
   ]
  },
  {
   "cell_type": "code",
   "execution_count": 8,
   "id": "75b6a473",
   "metadata": {},
   "outputs": [],
   "source": [
    "pretrained ='/coc/scratch/sanisetty3/DLM/OFA-base-vqa/'\n",
    "fine_tuned =\"/srv/scratch/sanisetty3/DLM/OFA_VQA/checkpoints/base_vqa/ofa_vqa.14500.pt\"\n"
   ]
  },
  {
   "cell_type": "code",
   "execution_count": 9,
   "id": "3d6cf87f",
   "metadata": {},
   "outputs": [],
   "source": [
    "kwargs = DistributedDataParallelKwargs(find_unused_parameters = True)\n",
    "accelerator = Accelerator(kwargs_handlers = [kwargs])"
   ]
  },
  {
   "cell_type": "code",
   "execution_count": 10,
   "id": "964852e2",
   "metadata": {},
   "outputs": [],
   "source": [
    "# fine_tuned =\"/srv/scratch/sanisetty3/DLM/OFA_VQA/checkpoints/results/ofa_vqa.32000.pt\"\n",
    "pkg = torch.load(fine_tuned, map_location = 'cpu')"
   ]
  },
  {
   "cell_type": "code",
   "execution_count": 11,
   "id": "db7c83e0",
   "metadata": {},
   "outputs": [
    {
     "name": "stderr",
     "output_type": "stream",
     "text": [
      "/srv/share2/sanisetty3/miniconda3/envs/ai-choreo/lib/python3.7/site-packages/torch/functional.py:504: UserWarning: torch.meshgrid: in an upcoming release, it will be required to pass the indexing argument. (Triggered internally at /opt/conda/conda-bld/pytorch_1670525553989/work/aten/src/ATen/native/TensorShape.cpp:3190.)\n",
      "  return _VF.meshgrid(tensors, **kwargs)  # type: ignore[attr-defined]\n"
     ]
    }
   ],
   "source": [
    "ofa_config = OFAConfig.from_pretrained('/coc/scratch/sanisetty3/DLM/OFA-base-vqa/')\n",
    "vqa_model = OFAModelForVQA(ofa_config)"
   ]
  },
  {
   "cell_type": "code",
   "execution_count": 12,
   "id": "2ab47d40",
   "metadata": {},
   "outputs": [],
   "source": [
    "unwrapped_model = accelerator.unwrap_model(vqa_model)"
   ]
  },
  {
   "cell_type": "code",
   "execution_count": 13,
   "id": "9f3b0f70",
   "metadata": {},
   "outputs": [
    {
     "data": {
      "text/plain": [
       "<All keys matched successfully>"
      ]
     },
     "execution_count": 13,
     "metadata": {},
     "output_type": "execute_result"
    }
   ],
   "source": [
    "unwrapped_model.load_state_dict(pkg['model'])"
   ]
  },
  {
   "cell_type": "code",
   "execution_count": 14,
   "id": "81fc93a5",
   "metadata": {},
   "outputs": [],
   "source": [
    "unwrapped_model.save_pretrained('/coc/scratch/sanisetty3/DLM/ofa-base-vqa/', save_function=accelerator.save)"
   ]
  },
  {
   "cell_type": "code",
   "execution_count": null,
   "id": "6410b369",
   "metadata": {},
   "outputs": [],
   "source": []
  },
  {
   "cell_type": "code",
   "execution_count": null,
   "id": "ad09bb07",
   "metadata": {},
   "outputs": [],
   "source": []
  },
  {
   "cell_type": "code",
   "execution_count": null,
   "id": "0105424b",
   "metadata": {},
   "outputs": [],
   "source": []
  },
  {
   "cell_type": "markdown",
   "id": "e0e61a25",
   "metadata": {},
   "source": [
    "##  Weight transfer to transformer model"
   ]
  },
  {
   "cell_type": "code",
   "execution_count": 79,
   "id": "739c6e9d",
   "metadata": {},
   "outputs": [],
   "source": [
    "model_b = OFAModelForVQA.from_pretrained(\"OFA-base/\", use_cache=False)\n"
   ]
  },
  {
   "cell_type": "code",
   "execution_count": 81,
   "id": "46e156e2",
   "metadata": {},
   "outputs": [],
   "source": [
    "base = torch.load(\"OFA-base/pytorch_model.bin\")"
   ]
  },
  {
   "cell_type": "code",
   "execution_count": 172,
   "id": "cca25dbf",
   "metadata": {},
   "outputs": [],
   "source": [
    "base_vqa = torch.load(\"vqa_base_best.pt\")[\"model\"]\n",
    "del base_vqa[\"encoder.version\"]\n",
    "del base_vqa[\"decoder.version\"]"
   ]
  },
  {
   "cell_type": "code",
   "execution_count": null,
   "id": "23144c2f",
   "metadata": {},
   "outputs": [],
   "source": []
  },
  {
   "cell_type": "code",
   "execution_count": 173,
   "id": "defc4e1d",
   "metadata": {},
   "outputs": [],
   "source": [
    "def change_key(self, old, new):\n",
    "    for _ in range(len(self)):\n",
    "        k, v = self.popitem(False)\n",
    "        self[new if old == k else k] = v"
   ]
  },
  {
   "cell_type": "code",
   "execution_count": 174,
   "id": "906e7340",
   "metadata": {},
   "outputs": [],
   "source": [
    " my_dic_keys = list(base_vqa.keys())"
   ]
  },
  {
   "cell_type": "code",
   "execution_count": 175,
   "id": "ee4b7eeb",
   "metadata": {},
   "outputs": [
    {
     "name": "stdout",
     "output_type": "stream",
     "text": [
      "encoder.layers.0.attn_ln.weight\n",
      "encoder.layers.0.attn_ln.bias\n",
      "encoder.layers.0.ffn_layernorm.weight\n",
      "encoder.layers.0.ffn_layernorm.bias\n",
      "encoder.layers.1.attn_ln.weight\n",
      "encoder.layers.1.attn_ln.bias\n",
      "encoder.layers.1.ffn_layernorm.weight\n",
      "encoder.layers.1.ffn_layernorm.bias\n",
      "encoder.layers.2.attn_ln.weight\n",
      "encoder.layers.2.attn_ln.bias\n",
      "encoder.layers.2.ffn_layernorm.weight\n",
      "encoder.layers.2.ffn_layernorm.bias\n",
      "encoder.layers.3.attn_ln.weight\n",
      "encoder.layers.3.attn_ln.bias\n",
      "encoder.layers.3.ffn_layernorm.weight\n",
      "encoder.layers.3.ffn_layernorm.bias\n",
      "encoder.layers.4.attn_ln.weight\n",
      "encoder.layers.4.attn_ln.bias\n",
      "encoder.layers.4.ffn_layernorm.weight\n",
      "encoder.layers.4.ffn_layernorm.bias\n",
      "encoder.layers.5.attn_ln.weight\n",
      "encoder.layers.5.attn_ln.bias\n",
      "encoder.layers.5.ffn_layernorm.weight\n",
      "encoder.layers.5.ffn_layernorm.bias\n"
     ]
    }
   ],
   "source": [
    "for i in my_dic_keys:\n",
    "#     print(i)\n",
    "    if \"ffn_layernorm\" in i and \"encoder\" in i:\n",
    "        new = str(i).replace(\"ffn_layernorm\",\"ffn_layer_norm\")\n",
    "        change_key(base_vqa , i , new)\n",
    "        print(i)\n",
    "    if \"attn_ln\" in i and \"encoder\" in i:\n",
    "        new = str(i).replace(\"attn_ln\",\"self_attn_mid_layer_norm\")\n",
    "        change_key(base_vqa , i , new)\n",
    "        print(i)\n",
    "        \n",
    "    if \"encoder_attn\" in i and \"decoder\" in i:\n",
    "        new = str(i).replace(\"encoder_attn\",\"cross_attn\")\n",
    "        change_key(base_vqa , i , new)\n",
    "        \n",
    "    if \"ffn_layernorm\" in i and \"decoder\" in i:\n",
    "        new = str(i).replace(\"ffn_layernorm\",\"ffn_layer_norm\")\n",
    "        change_key(base_vqa , i , new) \n",
    "        \n",
    "    if \"cross_attn_ln\" in i and \"decoder\" in i:\n",
    "        new = str(i).replace(\"cross_attn_ln\",\"cross_attn_mid_layer_norm\")\n",
    "        change_key(base_vqa , i , new) \n",
    "        \n",
    "    if \"self_attn_ln\" in i and \"decoder\" in i:\n",
    "        new = str(i).replace(\"self_attn_ln\",\"self_attn_mid_layer_norm\")\n",
    "        change_key(base_vqa , i , new) "
   ]
  },
  {
   "cell_type": "code",
   "execution_count": 176,
   "id": "d706aea5",
   "metadata": {},
   "outputs": [
    {
     "data": {
      "text/plain": [
       "0"
      ]
     },
     "execution_count": 176,
     "metadata": {},
     "output_type": "execute_result"
    }
   ],
   "source": [
    "mis = []\n",
    "for i in (base_vqa.keys()):\n",
    "    \n",
    "    if i in base.keys():\n",
    "        continue\n",
    "    else:\n",
    "        print(i)\n",
    "        mis.append(i)\n",
    "\n",
    "len(mis)"
   ]
  },
  {
   "cell_type": "code",
   "execution_count": null,
   "id": "3173da88",
   "metadata": {},
   "outputs": [],
   "source": []
  },
  {
   "cell_type": "code",
   "execution_count": null,
   "id": "38b24d5b",
   "metadata": {},
   "outputs": [],
   "source": []
  },
  {
   "cell_type": "code",
   "execution_count": 177,
   "id": "8533e4a1",
   "metadata": {},
   "outputs": [],
   "source": [
    "torch.save(base_vqa , \"OFA-base-vqa/pytorch_model.bin\")"
   ]
  },
  {
   "cell_type": "code",
   "execution_count": 178,
   "id": "13a746d3",
   "metadata": {},
   "outputs": [],
   "source": [
    "model_p = OFAModelForVQA.from_pretrained(\"OFA-base-vqa/\", use_cache=False)\n"
   ]
  },
  {
   "cell_type": "markdown",
   "id": "e204c4b6",
   "metadata": {},
   "source": [
    "## Test VQAv2"
   ]
  },
  {
   "cell_type": "code",
   "execution_count": 7,
   "id": "ea38b937",
   "metadata": {},
   "outputs": [
    {
     "ename": "NameError",
     "evalue": "name 'pretrained' is not defined",
     "output_type": "error",
     "traceback": [
      "\u001b[0;31m---------------------------------------------------------------------------\u001b[0m",
      "\u001b[0;31mNameError\u001b[0m                                 Traceback (most recent call last)",
      "Cell \u001b[0;32mIn[7], line 1\u001b[0m\n\u001b[0;32m----> 1\u001b[0m tokenizer_p \u001b[38;5;241m=\u001b[39m OFATokenizer\u001b[38;5;241m.\u001b[39mfrom_pretrained(\u001b[43mpretrained\u001b[49m)\n",
      "\u001b[0;31mNameError\u001b[0m: name 'pretrained' is not defined"
     ]
    }
   ],
   "source": [
    "tokenizer_p = OFATokenizer.from_pretrained(pretrained)\n"
   ]
  },
  {
   "cell_type": "code",
   "execution_count": null,
   "id": "2e60cf9a",
   "metadata": {},
   "outputs": [],
   "source": [
    "model_p = OFAModelForVQA.from_pretrained(pretrained, use_cache=False)\n",
    "model_f = OFAModelForVQA.from_pretrained('/coc/scratch/sanisetty3/DLM/OFA-tiny-fine-tune/', use_cache=False)"
   ]
  },
  {
   "cell_type": "code",
   "execution_count": null,
   "id": "91f9f899",
   "metadata": {},
   "outputs": [],
   "source": [
    "mean, std = [0.5, 0.5, 0.5], [0.5, 0.5, 0.5]\n",
    "resolution = 480\n",
    "\n",
    "patch_resize_transform = transforms.Compose([\n",
    "    lambda image: image.convert(\"RGB\"),\n",
    "    transforms.Resize((resolution, resolution), interpolation=Image.BICUBIC),\n",
    "    transforms.ToTensor(), \n",
    "    transforms.Normalize(mean=mean, std=std)\n",
    "])"
   ]
  },
  {
   "cell_type": "code",
   "execution_count": 155,
   "id": "758a8d16",
   "metadata": {},
   "outputs": [],
   "source": [
    "ann_file = os.path.join('/srv/scratch/sanisetty3/DLM/AliceMind/mPLUG/data/json/vqa_ocr_object/' ,\"vqa_train_ocr.json\")\n",
    "vqa_root = '/srv/datasets/coco/'\n"
   ]
  },
  {
   "cell_type": "code",
   "execution_count": 156,
   "id": "75bafe73",
   "metadata": {},
   "outputs": [
    {
     "name": "stdout",
     "output_type": "stream",
     "text": [
      "\n"
     ]
    }
   ],
   "source": [
    "ds = VqaDataset(\n",
    "    ann_file=[ann_file],\n",
    "    vqa_root=vqa_root,\n",
    ")\n",
    "data_collator = VQACollator(tokenizer=tokenizer_p, max_seq_length=128)\n",
    "dl = DataLoader(ds, batch_size = 8, collate_fn=data_collator ,num_workers = 0, shuffle = True)\n"
   ]
  },
  {
   "cell_type": "code",
   "execution_count": 157,
   "id": "9b960b8c",
   "metadata": {},
   "outputs": [],
   "source": [
    "for batch in dl:\n",
    "    break"
   ]
  },
  {
   "cell_type": "code",
   "execution_count": 158,
   "id": "428f7e2a",
   "metadata": {},
   "outputs": [
    {
     "name": "stdout",
     "output_type": "stream",
     "text": [
      "[' what fruit is growing on the bush?', ' is the horse outside?', ' is the saddle western?', ' how many frisbees is the man holding?', ' what is his name?', ' where is the clock?', ' does the tennis player have an audience?', ' what are the men looking at online?']\n"
     ]
    }
   ],
   "source": [
    "print(tokenizer_p.batch_decode(batch[\"input_ids\"], skip_special_tokens=True))"
   ]
  },
  {
   "cell_type": "code",
   "execution_count": 159,
   "id": "cca4f710",
   "metadata": {},
   "outputs": [
    {
     "name": "stdout",
     "output_type": "stream",
     "text": [
      "['oranges', 'yes', 'yes', '2', 'lin', 'table', 'no', 'work']\n"
     ]
    }
   ],
   "source": [
    "print(tokenizer_p.batch_decode(batch[\"target\"], skip_special_tokens=True))"
   ]
  },
  {
   "cell_type": "code",
   "execution_count": 160,
   "id": "c26622a3",
   "metadata": {},
   "outputs": [
    {
     "name": "stderr",
     "output_type": "stream",
     "text": [
      "Clipping input data to the valid range for imshow with RGB data ([0..1] for floats or [0..255] for integers).\n"
     ]
    },
    {
     "data": {
      "text/plain": [
       "<matplotlib.image.AxesImage at 0x7f51a9d18c50>"
      ]
     },
     "execution_count": 160,
     "metadata": {},
     "output_type": "execute_result"
    },
    {
     "data": {
      "image/png": "[encoded data removed]",
      "text/plain": [
       "<Figure size 432x288 with 1 Axes>"
      ]
     },
     "metadata": {
      "needs_background": "light"
     },
     "output_type": "display_data"
    }
   ],
   "source": [
    "plt.imshow(batch[\"patch_images\"][0].permute(1,2,0).cpu().numpy())"
   ]
  },
  {
   "cell_type": "code",
   "execution_count": null,
   "id": "b01792bd",
   "metadata": {},
   "outputs": [],
   "source": []
  },
  {
   "cell_type": "code",
   "execution_count": null,
   "id": "c254c810",
   "metadata": {},
   "outputs": [],
   "source": []
  },
  {
   "cell_type": "code",
   "execution_count": null,
   "id": "a93cf7fd",
   "metadata": {},
   "outputs": [],
   "source": []
  },
  {
   "cell_type": "markdown",
   "id": "72e17ce1",
   "metadata": {},
   "source": [
    "## Test Stack"
   ]
  },
  {
   "cell_type": "code",
   "execution_count": 7,
   "id": "401cd81c",
   "metadata": {},
   "outputs": [],
   "source": [
    "pretrained ='/coc/scratch/sanisetty3/DLM/OFA-base-vqa/'\n",
    "finetuned = '/coc/scratch/sanisetty3/DLM/ofa-base-vqa/'"
   ]
  },
  {
   "cell_type": "code",
   "execution_count": 8,
   "id": "0149b7f2",
   "metadata": {},
   "outputs": [
    {
     "name": "stdout",
     "output_type": "stream",
     "text": [
      "/coc/scratch/sanisetty3/DLM/OFA-base-vqa/\n",
      "<super: <class 'OFATokenizer'>, <OFATokenizer object>>\n"
     ]
    },
    {
     "name": "stderr",
     "output_type": "stream",
     "text": [
      "/srv/share2/sanisetty3/miniconda3/envs/DLM/lib/python3.9/site-packages/torch/functional.py:504: UserWarning: torch.meshgrid: in an upcoming release, it will be required to pass the indexing argument. (Triggered internally at ../aten/src/ATen/native/TensorShape.cpp:3190.)\n",
      "  return _VF.meshgrid(tensors, **kwargs)  # type: ignore[attr-defined]\n"
     ]
    }
   ],
   "source": [
    "tokenizer_p = OFATokenizer.from_pretrained(pretrained)\n",
    "model_p = OFAModelForVQA.from_pretrained(pretrained, use_cache=False)\n"
   ]
  },
  {
   "cell_type": "code",
   "execution_count": 9,
   "id": "9449f47c",
   "metadata": {},
   "outputs": [],
   "source": [
    "model_f = OFAModelForVQA.from_pretrained(finetuned, use_cache=False)\n"
   ]
  },
  {
   "cell_type": "code",
   "execution_count": 10,
   "id": "2a184dcb",
   "metadata": {},
   "outputs": [
    {
     "name": "stderr",
     "output_type": "stream",
     "text": [
      "/srv/share2/sanisetty3/miniconda3/envs/DLM/lib/python3.9/site-packages/torchvision/transforms/transforms.py:329: UserWarning: Argument 'interpolation' of type int is deprecated since 0.13 and will be removed in 0.15. Please use InterpolationMode enum.\n",
      "  warnings.warn(\n"
     ]
    }
   ],
   "source": [
    "mean, std = [0.5, 0.5, 0.5], [0.5, 0.5, 0.5]\n",
    "resolution = 480\n",
    "\n",
    "patch_resize_transform = transforms.Compose([\n",
    "    lambda image: image.convert(\"RGB\"),\n",
    "    transforms.Resize((resolution, resolution), interpolation=Image.BICUBIC),\n",
    "    transforms.ToTensor(), \n",
    "    transforms.Normalize(mean=mean, std=std)\n",
    "])"
   ]
  },
  {
   "cell_type": "code",
   "execution_count": 11,
   "id": "31462c23",
   "metadata": {},
   "outputs": [],
   "source": [
    "from core.datasets.vqa_gen_dataset import VQACollator, VqaDataset,VqaStackDataset,CLEVRVQADataset\n"
   ]
  },
  {
   "cell_type": "code",
   "execution_count": 226,
   "id": "32aedff6",
   "metadata": {},
   "outputs": [],
   "source": [
    "ann_file = \"/srv/scratch/sanisetty3/DLM/sornet/data/block_stacking/Relational_dataset/stack_train_questions.json\"\n",
    "vqa_root = \"/srv/scratch/sanisetty3/DLM/sornet/data/block_stacking/Relational_dataset/images\""
   ]
  },
  {
   "cell_type": "code",
   "execution_count": 122,
   "id": "061b5fbb",
   "metadata": {},
   "outputs": [
    {
     "name": "stdout",
     "output_type": "stream",
     "text": [
      "\n"
     ]
    },
    {
     "name": "stderr",
     "output_type": "stream",
     "text": [
      "/srv/share2/sanisetty3/miniconda3/envs/DLM/lib/python3.9/site-packages/torchvision/transforms/transforms.py:329: UserWarning: Argument 'interpolation' of type int is deprecated since 0.13 and will be removed in 0.15. Please use InterpolationMode enum.\n",
      "  warnings.warn(\n"
     ]
    }
   ],
   "source": [
    "ds = VqaStackDataset(\n",
    "    ann_file=ann_file,\n",
    "    vqa_root=vqa_root,\n",
    ")\n",
    "stack_data_collator = VQACollator(tokenizer=tokenizer_p, max_seq_length=128)\n",
    "stack_dl = DataLoader(ds, batch_size = 8, collate_fn=stack_data_collator ,num_workers = 0, shuffle = True)\n"
   ]
  },
  {
   "cell_type": "code",
   "execution_count": 227,
   "id": "b59c990e",
   "metadata": {},
   "outputs": [],
   "source": [
    "ds = CLEVRVQADataset(split=\"valA\")\n",
    "data_collator = VQACollator(tokenizer=tokenizer_p, max_seq_length=128)\n",
    "dl = DataLoader(ds, batch_size = 10, collate_fn=data_collator ,num_workers = 0, shuffle = True)\n"
   ]
  },
  {
   "cell_type": "code",
   "execution_count": 228,
   "id": "dce2defa",
   "metadata": {},
   "outputs": [
    {
     "data": {
      "text/plain": [
       "150000"
      ]
     },
     "execution_count": 228,
     "metadata": {},
     "output_type": "execute_result"
    }
   ],
   "source": [
    "len(ds)"
   ]
  },
  {
   "cell_type": "code",
   "execution_count": 146,
   "id": "67a9a72f",
   "metadata": {},
   "outputs": [],
   "source": [
    "for batch in dl:\n",
    "    break"
   ]
  },
  {
   "cell_type": "code",
   "execution_count": 147,
   "id": "eab6aa18",
   "metadata": {},
   "outputs": [
    {
     "name": "stdout",
     "output_type": "stream",
     "text": [
      "[' the rubber block that is both to the right of the yellow matte thing and in front of the big red object is what color?', ' there is a purple shiny thing that is behind the matte thing; does it have the same shape as the large metal object that is behind the purple shiny cylinder?', ' the sphere that is both behind the shiny cube and left of the large red metallic object is what color?', ' how many things are behind the blue metallic ball and on the right side of the large gray thing?', ' what size is the red ball behind the gray metal object that is in front of the large red rubber object that is in front of the big shiny block?', ' is the number of big yellow blocks that are in front of the tiny red shiny thing greater than the number of tiny brown matte cubes?', ' are there fewer yellow metallic things to the right of the large green thing than tiny balls?', ' there is a tiny shiny object to the left of the small cyan metallic thing; does it have the same color as the big metal object?']\n"
     ]
    }
   ],
   "source": [
    "print(tokenizer_p.batch_decode(batch[\"input_ids\"], skip_special_tokens=True))"
   ]
  },
  {
   "cell_type": "code",
   "execution_count": 148,
   "id": "4820a3c9",
   "metadata": {},
   "outputs": [
    {
     "name": "stdout",
     "output_type": "stream",
     "text": [
      "['gray', 'yes', 'brown', '0', 'large', 'no', 'yes', 'no']\n"
     ]
    }
   ],
   "source": [
    "print(tokenizer_p.batch_decode(batch[\"target\"], skip_special_tokens=True))"
   ]
  },
  {
   "cell_type": "code",
   "execution_count": null,
   "id": "0ab71bd1",
   "metadata": {},
   "outputs": [],
   "source": []
  },
  {
   "cell_type": "markdown",
   "id": "8223d201",
   "metadata": {},
   "source": [
    "### Pretrained"
   ]
  },
  {
   "cell_type": "code",
   "execution_count": 28,
   "id": "0257887e",
   "metadata": {},
   "outputs": [],
   "source": []
  },
  {
   "cell_type": "code",
   "execution_count": null,
   "id": "9d206567",
   "metadata": {},
   "outputs": [],
   "source": []
  },
  {
   "cell_type": "code",
   "execution_count": 149,
   "id": "5386f2ef",
   "metadata": {},
   "outputs": [
    {
     "name": "stdout",
     "output_type": "stream",
     "text": [
      "['gray', 'yes', 'brown', '0', 'large', 'no', 'yes', 'no']\n"
     ]
    }
   ],
   "source": [
    "print(tokenizer_p.batch_decode(batch[\"target\"], skip_special_tokens=True))"
   ]
  },
  {
   "cell_type": "code",
   "execution_count": 150,
   "id": "74d00a03",
   "metadata": {},
   "outputs": [],
   "source": [
    "gen = model_p.generate(batch[\"input_ids\"], patch_images=batch[\"patch_images\"], num_beams=5, no_repeat_ngram_size=3)"
   ]
  },
  {
   "cell_type": "code",
   "execution_count": 151,
   "id": "596211dc",
   "metadata": {},
   "outputs": [
    {
     "data": {
      "text/plain": [
       "[' red', ' no', ' green', ' 2', ' large', ' yes', ' yes', ' yes']"
      ]
     },
     "execution_count": 151,
     "metadata": {},
     "output_type": "execute_result"
    }
   ],
   "source": [
    "tokenizer_p.batch_decode(gen, skip_special_tokens=True)"
   ]
  },
  {
   "cell_type": "code",
   "execution_count": 152,
   "id": "e414e4f4",
   "metadata": {},
   "outputs": [],
   "source": [
    "indx = 2\n",
    "img = batch[\"patch_images\"][indx].permute(1,2,0).cpu().numpy()*[0.5, 0.5, 0.5]+ [0.5, 0.5, 0.5]"
   ]
  },
  {
   "cell_type": "code",
   "execution_count": 153,
   "id": "94dbf0d8",
   "metadata": {},
   "outputs": [
    {
     "name": "stdout",
     "output_type": "stream",
     "text": [
      "question:  the sphere that is both behind the shiny cube and left of the large red metallic object is what color?\n",
      "pred:  green\n",
      "target:  brown\n"
     ]
    },
    {
     "data": {
      "image/png": "[encoded data removed]",
      "text/plain": [
       "<Figure size 640x480 with 1 Axes>"
      ]
     },
     "metadata": {},
     "output_type": "display_data"
    }
   ],
   "source": [
    "plt.imshow(img)\n",
    "print(\"question: \", tokenizer_p.batch_decode(batch[\"input_ids\"], skip_special_tokens=True)[indx].strip())\n",
    "print(\"pred: \",tokenizer_p.batch_decode(gen, skip_special_tokens=True)[indx].strip())\n",
    "print(\"target: \" , tokenizer_p.batch_decode(batch[\"target\"], skip_special_tokens=True)[indx])"
   ]
  },
  {
   "cell_type": "code",
   "execution_count": null,
   "id": "4688b891",
   "metadata": {},
   "outputs": [],
   "source": []
  },
  {
   "cell_type": "code",
   "execution_count": null,
   "id": "924cb584",
   "metadata": {},
   "outputs": [],
   "source": []
  },
  {
   "cell_type": "markdown",
   "id": "481574aa",
   "metadata": {},
   "source": [
    "### Finetuned"
   ]
  },
  {
   "cell_type": "code",
   "execution_count": 154,
   "id": "8a7b30df",
   "metadata": {},
   "outputs": [
    {
     "name": "stdout",
     "output_type": "stream",
     "text": [
      "['gray', 'yes', 'brown', '0', 'large', 'no', 'yes', 'no']\n"
     ]
    }
   ],
   "source": [
    "print(tokenizer_p.batch_decode(batch[\"target\"], skip_special_tokens=True))"
   ]
  },
  {
   "cell_type": "code",
   "execution_count": 155,
   "id": "1aade543",
   "metadata": {},
   "outputs": [],
   "source": [
    "gen_fin = model_f.generate(batch[\"input_ids\"], patch_images=batch[\"patch_images\"], num_beams=5, no_repeat_ngram_size=3)"
   ]
  },
  {
   "cell_type": "code",
   "execution_count": null,
   "id": "96ec655e",
   "metadata": {},
   "outputs": [],
   "source": []
  },
  {
   "cell_type": "code",
   "execution_count": 156,
   "id": "0ad92ed3",
   "metadata": {},
   "outputs": [
    {
     "data": {
      "text/plain": [
       "['gray', 'no', 'brown', '0', 'large', 'no', 'yes', 'no']"
      ]
     },
     "execution_count": 156,
     "metadata": {},
     "output_type": "execute_result"
    }
   ],
   "source": [
    "tokenizer_p.batch_decode(gen_fin, skip_special_tokens=True)"
   ]
  },
  {
   "cell_type": "code",
   "execution_count": 157,
   "id": "4d5826ea",
   "metadata": {},
   "outputs": [
    {
     "name": "stdout",
     "output_type": "stream",
     "text": [
      "question:  the sphere that is both behind the shiny cube and left of the large red metallic object is what color?\n",
      "pred:  brown\n",
      "target:  brown\n"
     ]
    },
    {
     "data": {
      "image/png": "[encoded data removed]",
      "text/plain": [
       "<Figure size 640x480 with 1 Axes>"
      ]
     },
     "metadata": {},
     "output_type": "display_data"
    }
   ],
   "source": [
    "plt.imshow(img)\n",
    "print(\"question: \", tokenizer_p.batch_decode(batch[\"input_ids\"], skip_special_tokens=True)[indx].strip())\n",
    "print(\"pred: \",tokenizer_p.batch_decode(gen_fin, skip_special_tokens=True)[indx].strip())\n",
    "print(\"target: \" , tokenizer_p.batch_decode(batch[\"target\"], skip_special_tokens=True)[indx])"
   ]
  },
  {
   "cell_type": "markdown",
   "id": "2b22835c",
   "metadata": {},
   "source": [
    "## Eval script"
   ]
  },
  {
   "cell_type": "code",
   "execution_count": 37,
   "id": "42f9d322",
   "metadata": {},
   "outputs": [],
   "source": [
    "from core.datasets.vqa_gen_dataset import VqaGenDataset , VQACollator, VqaDataset, VqaStackDataset, CLEVRVQADataset\n"
   ]
  },
  {
   "cell_type": "code",
   "execution_count": 7,
   "id": "1857b961",
   "metadata": {},
   "outputs": [],
   "source": [
    "pretrained ='/coc/scratch/sanisetty3/DLM/OFA-base-vqa/'\n",
    "finetuned = '/coc/scratch/sanisetty3/DLM/ofa-base-vqa/'"
   ]
  },
  {
   "cell_type": "code",
   "execution_count": 11,
   "id": "09b0bc80",
   "metadata": {},
   "outputs": [
    {
     "name": "stdout",
     "output_type": "stream",
     "text": [
      "/coc/scratch/sanisetty3/DLM/OFA-base-vqa/\n",
      "<super: <class 'OFATokenizer'>, <OFATokenizer object>>\n"
     ]
    }
   ],
   "source": [
    "tokenizer_p = OFATokenizer.from_pretrained(pretrained)\n",
    "model_p = OFAModelForVQA.from_pretrained(pretrained, use_cache=False).cuda()\n",
    "model_f = OFAModelForVQA.from_pretrained(finetuned, use_cache=False).cuda()\n"
   ]
  },
  {
   "cell_type": "code",
   "execution_count": 12,
   "id": "ca2612be",
   "metadata": {},
   "outputs": [
    {
     "data": {
      "text/plain": [
       "device(type='cuda', index=0)"
      ]
     },
     "execution_count": 12,
     "metadata": {},
     "output_type": "execute_result"
    }
   ],
   "source": [
    "model_f.device"
   ]
  },
  {
   "cell_type": "code",
   "execution_count": 15,
   "id": "8d8d495f",
   "metadata": {},
   "outputs": [
    {
     "name": "stdout",
     "output_type": "stream",
     "text": [
      "\n"
     ]
    },
    {
     "name": "stderr",
     "output_type": "stream",
     "text": [
      "/srv/share2/sanisetty3/miniconda3/envs/DLM/lib/python3.9/site-packages/torchvision/transforms/transforms.py:329: UserWarning: Argument 'interpolation' of type int is deprecated since 0.13 and will be removed in 0.15. Please use InterpolationMode enum.\n",
      "  warnings.warn(\n"
     ]
    }
   ],
   "source": [
    "ann_file = \"/srv/scratch/sanisetty3/DLM/sornet/data/block_stacking/Relational_dataset/stack_train_questions.json\"\n",
    "vqa_root = \"/srv/scratch/sanisetty3/DLM/sornet/data/block_stacking/Relational_dataset/images\"\n",
    "\n",
    "ds = VqaStackDataset(\n",
    "    ann_file=ann_file,\n",
    "    vqa_root=vqa_root,\n",
    ")\n",
    "stack_data_collator = VQACollator(tokenizer=tokenizer_p, max_seq_length=128)\n",
    "stack_dl = DataLoader(ds, batch_size = 8, collate_fn=stack_data_collator ,num_workers = 0, shuffle = True)\n"
   ]
  },
  {
   "cell_type": "code",
   "execution_count": 67,
   "id": "d202981c",
   "metadata": {},
   "outputs": [],
   "source": [
    "ds = CLEVRVQADataset(split=\"valA\")\n",
    "data_collator = VQACollator(tokenizer=tokenizer_p, max_seq_length=128)\n",
    "dl = DataLoader(ds, batch_size = 10, collate_fn=data_collator ,num_workers = 0, shuffle = False)\n"
   ]
  },
  {
   "cell_type": "code",
   "execution_count": 72,
   "id": "f8afd76e",
   "metadata": {},
   "outputs": [],
   "source": [
    "def cycle(dl):\n",
    "    while True:\n",
    "        for data in dl:\n",
    "            yield data"
   ]
  },
  {
   "cell_type": "code",
   "execution_count": 77,
   "id": "baec9511",
   "metadata": {},
   "outputs": [
    {
     "name": "stderr",
     "output_type": "stream",
     "text": [
      "100%|████████████████████████████████████████████████████████| 200/200 [03:12<00:00,  1.04it/s]\n"
     ]
    }
   ],
   "source": [
    "from tqdm import tqdm\n",
    "\n",
    "targets = []\n",
    "pred = []\n",
    "i = 0\n",
    "\n",
    "itr = cycle(stack_dl)\n",
    "\n",
    "for i in tqdm(range(200)):\n",
    "\n",
    "    batch = next(itr)\n",
    "#     try:\n",
    "        \n",
    "    gen_fin = model_p.generate(batch[\"input_ids\"].cuda(), patch_images=batch[\"patch_images\"].cuda(), num_beams=5, no_repeat_ngram_size=3)\n",
    "    pred.append(gen_fin)\n",
    "    targets.append(batch[\"target\"])\n",
    "#     except:\n",
    "#         continue\n",
    "    \n",
    "    \n",
    "    "
   ]
  },
  {
   "cell_type": "code",
   "execution_count": 78,
   "id": "91938caf",
   "metadata": {},
   "outputs": [
    {
     "data": {
      "text/plain": [
       "200"
      ]
     },
     "execution_count": 78,
     "metadata": {},
     "output_type": "execute_result"
    }
   ],
   "source": [
    "len(pred)"
   ]
  },
  {
   "cell_type": "code",
   "execution_count": 79,
   "id": "c93f7d55",
   "metadata": {},
   "outputs": [
    {
     "name": "stderr",
     "output_type": "stream",
     "text": [
      "/tmp/ipykernel_25237/1424390811.py:7: DeprecationWarning: elementwise comparison failed; this will raise an error in the future.\n",
      "  trs = int(sum(np.setdiff1d(targets[i][j],[0,1,2]) == np.setdiff1d(pred[i][j].detach().cpu().numpy(),[0,1,2])))\n"
     ]
    },
    {
     "data": {
      "text/plain": [
       "0.0"
      ]
     },
     "execution_count": 79,
     "metadata": {},
     "output_type": "execute_result"
    }
   ],
   "source": [
    "count = 0\n",
    "for i in range(len(pred)):\n",
    "#     print(i)\n",
    "    for j in range(10):\n",
    "#         print(np.setdiff1d(pred[i][j].detach().cpu().numpy(),[0,1,2]))\n",
    "        try:\n",
    "            trs = int(sum(np.setdiff1d(targets[i][j],[0,1,2]) == np.setdiff1d(pred[i][j].detach().cpu().numpy(),[0,1,2])))\n",
    "            count+=trs\n",
    "        except:\n",
    "            continue\n",
    "count/(10*len(pred))"
   ]
  },
  {
   "cell_type": "code",
   "execution_count": 76,
   "id": "d3e51d31",
   "metadata": {
    "scrolled": true
   },
   "outputs": [
    {
     "name": "stdout",
     "output_type": "stream",
     "text": [
      "['yes', 'rubber', 'metal', 'no', '2', '0', 'small', '2', 'no', 'cylinder']\n",
      "[' yes yes yes no no no yes yesno no nono yes no yes nono no', ' metal', ' plastic', ' no', ' 2', ' 2', ' large red rubber duck', ' 3', ' no', ' round']\n",
      "\n",
      "\n",
      "['yes', 'no', '5', 'small', 'no', 'yes', 'yes', '2', '0', 'yes']\n",
      "[' no', ' no', ' 2', ' large brown block small', ' no', ' yes', ' yes yes yes no no no yes nono no nono yes no yes yesno no', ' 2', ' 2', ' no']\n",
      "\n",
      "\n",
      "['yes', 'no', 'no', 'cube', 'purple', 'no', 'metal', 'yes', 'red', 'yes']\n",
      "[' no', ' no', ' no', ' square', ' blue', ' yes', ' plastic', ' yes', ' green', ' yes']\n",
      "\n",
      "\n",
      "['large', 'purple', '3', '1', 'metal', '1', 'cube', 'yes', '9', '4']\n",
      "[' small', ' red', ' 2', ' 2', ' plastic', ' 5', ' square', ' yes', ' 1', ' 3']\n",
      "\n",
      "\n",
      "['1', 'small', 'no', '0', 'cube', 'yes', 'no', '1', 'no', 'yes']\n",
      "[' 2', ' small', ' yes', ' big blocks', ' square', ' yes', ' yes', ' 2', ' no', ' no']\n",
      "\n",
      "\n",
      "['yes', 'yes', 'yellow', 'green', 'cube', 'metal', 'yes', 'yellow', '5', 'large']\n",
      "[' no', ' yes', ' yellow', ' purple', ' square', ' plastic', ' no', ' purple shiny thing no', ' 5', ' large']\n",
      "\n",
      "\n",
      "['large', 'no', 'cube', 'rubber', 'yes', '3', '2', '1', 'no', '1']\n",
      "[' yes', ' yes', ' yes', ' plastic', ' yes', ' 3', ' 3', ' 1', ' yes', ' 2']\n",
      "\n",
      "\n",
      "['yes', 'no', 'no', 'yes', '1', 'metal', 'rubber', 'no', 'no', 'no']\n",
      "[' no', ' yes', ' no', ' yes', ' 2', ' plastic', ' plastic', ' yes', ' yes', ' no']\n",
      "\n",
      "\n",
      "['purple', 'no', 'small', 'no', 'sphere', 'sphere', '1', 'cyan', 'small', 'yes']\n",
      "[' blue', ' no', ' large', ' yes', ' circle', ' brown sphere in front of cyan sphere', ' 2', ' no', ' small ball on the right side of the large cyan object and behind the tiny red shiny object', ' no']\n",
      "\n",
      "\n",
      "['no', 'metal', 'rubber', 'yes', '0', '1', 'large', '3', 'sphere', 'no']\n",
      "[' no', ' plastic', ' plastic', ' no', ' 2', ' 1', ' large green metal object; small', ' 3', ' circle', ' no']\n",
      "\n",
      "\n",
      "['no', 'metal', 'metal', 'yes', '0', '0', 'large', '1', 'no', 'sphere']\n",
      "[' no', ' metal', ' metal', ' no', ' 1', ' 2', ' large', ' 3', ' no', ' circle']\n",
      "\n",
      "\n",
      "['no', 'no', '2', 'small', 'no', 'yes', 'yes', '5', '1', 'yes']\n",
      "[' no', ' no', ' 5', ' large', ' no', ' yes', ' no', ' 4', ' 2', ' yes']\n",
      "\n",
      "\n",
      "['yes', 'yes', 'no', 'cube', 'purple', 'no', 'metal', 'yes', 'red', 'yes']\n",
      "[' yes', ' yes', ' yes', ' cylindrical', ' purple', ' no', ' yes', ' no', ' marvellously marred by the big gray block red', ' no']\n",
      "\n",
      "\n",
      "['small', 'gray', '1', '1', 'metal', 'cube', 'yes', '1', '1', '1']\n",
      "[' small', ' brown', ' 2', ' 2', ' plastic', ' circle', ' no', ' 0', ' 3', ' 1']\n",
      "\n",
      "\n",
      "['1', 'small', 'no', '0', 'sphere', 'yes', 'yes', '1', 'no', 'yes']\n",
      "[' 5', ' small', ' yes', ' 0', ' round', ' no', ' no', ' 3', ' no', ' no']\n",
      "\n",
      "\n",
      "['no', 'no', 'gray', 'blue', 'small', 'cube', 'rubber', 'yes', 'yellow', '0']\n",
      "[' no', ' yes', ' blue', ' red', ' smallpox virus vaccination vaccination against influenza influenza influenza vaccination influenza influenza vaccine injection no', ' square', ' plastic', ' no', ' purple', ' 2']\n",
      "\n",
      "\n",
      "['large', 'yes', 'cube', 'rubber', 'yes', '4', '0', '4', 'no', '1']\n",
      "[' large', ' no', ' circle', ' rubber', ' no', ' 3', ' 1', ' 4', ' no', ' 2']\n",
      "\n",
      "\n",
      "['yes', 'no', 'no', 'yes', '0', 'metal', 'rubber', 'no', 'no', 'no']\n",
      "[' yes', ' no', ' yes', ' yes', ' 1', ' plastic', ' plastic', ' no', ' no', ' yes']\n",
      "\n",
      "\n",
      "['purple', 'no', 'large', 'no', 'cylinder', 'cylinder', '0', 'brown', 'large', 'no']\n",
      "[' purple', ' yes yes yes no yes no no nono yes nono no no yes yesno no', ' small', ' yes', ' cylindrical', ' red button on the duplicator', ' 1', ' purple', ' smallpoxpox vaccine kit', ' yes']\n",
      "\n",
      "\n",
      "['yes', 'rubber', 'no', '1', 'small', '2', 'cube', 'yes', 'yes', '3']\n",
      "[' no', ' plastic', ' yes', ' 2', ' yes', ' 3', ' cubes', ' no', ' no', ' 2']\n",
      "\n",
      "\n",
      "['yes', 'metal', 'rubber', 'no', '0', '0', '2', 'yes', 'sphere', 'no']\n",
      "[' no', ' plastic', ' plastic', ' no', ' 2', ' 2', ' 3', ' yes', ' circle', ' yes']\n",
      "\n",
      "\n",
      "['large', 'no', '3', 'large', 'no', 'yes', 'no', '3', '2', 'yes']\n",
      "[' small yellow matte thing small', ' no', ' 3', ' large', ' no', ' no', ' no', ' 3', ' 4', ' no']\n",
      "\n",
      "\n",
      "['yes', 'no', 'yes', 'cylinder', 'cyan', 'no', 'rubber', 'no', 'purple', 'no']\n",
      "[' yes', ' no', ' yes', ' circled red circle right of the small metal sphere and behind the big shiny cylinder sphere sphere sphere', ' yellow', ' no', ' plastic', ' yes', ' yellow', ' no']\n",
      "\n",
      "\n",
      "['small', 'yellow', '0', '1', 'metal', '0', 'cube', 'yes', '2', '3']\n",
      "[' large red cylinder', ' silver', ' 2', ' 1', ' yes', ' 5', ' square', ' yes', ' 3', ' 5']\n",
      "\n",
      "\n",
      "['2', 'large', 'yes', '0', 'cylinder', 'yes', 'yes', '2', 'no', 'no']\n",
      "[' 2', ' small', ' no', ' 1', ' cylinder', ' yes', ' no', ' 1', ' yes', ' no']\n",
      "\n",
      "\n",
      "['yes', 'yes', 'purple', 'brown', 'small', 'cylinder', 'metal', 'yes', 'purple', '0']\n",
      "[' no', ' yes', ' purple', ' purple', ' large', ' square', ' plastic', ' no', ' no', ' 4']\n",
      "\n",
      "\n",
      "['small', 'no', 'rubber', 'no', '0', '1', '0', 'yes', '2', 'no']\n",
      "[' small', ' no', ' plastic', ' yes', ' 4', ' 1', ' 3', ' yes', ' 3', ' no']\n",
      "\n",
      "\n",
      "['no', 'no', 'no', '1', 'metal', 'metal', 'no', 'no', 'no', 'cyan']\n",
      "[' no', ' no', ' no', ' 2', ' metal', ' plastic', ' yes', ' no', ' no', ' purple']\n",
      "\n",
      "\n",
      "['sphere', 'no', 'large', 'yes', 'sphere', 'cube', '0', 'red', 'small', 'no']\n",
      "[' circle', ' no', ' small', ' yes', ' no', ' square', ' 2', ' blue', ' very big', ' no']\n",
      "\n",
      "\n",
      "['no', 'metal', 'yes', '1', '1', 'small', '1', 'no', 'cylinder', 'yes']\n",
      "[' yes no no no yes no yes yes nono no nonono no yesno no', ' plastic', ' no', ' 1', ' 1', ' yes', ' 7', ' no', ' round', ' no']\n",
      "\n",
      "\n",
      "['yes', 'metal', 'rubber', 'no', '0', '0', 'large', '1', 'no', 'cylinder']\n",
      "[' no', ' plastic', ' plastic', ' no', ' 1', ' 2', ' small', ' 4', ' no', ' square']\n",
      "\n",
      "\n",
      "['yes', 'yes', '3', 'small', 'no', 'yes', 'no', '3', '0', 'yes']\n",
      "[' no', ' no', ' 2', ' small', ' no', ' no', ' yes', ' 1', ' 2', ' no']\n",
      "\n",
      "\n",
      "['no', 'yes', 'no', 'cylinder', 'green', 'yes', 'metal', 'no', 'cyan', 'yes']\n",
      "[' no', ' yes', ' balls that are on the left', ' circle', ' cyan', ' yes', ' yes', ' no', ' green', ' no']\n",
      "\n",
      "\n",
      "['small', 'brown', '0', '0', 'metal', '1', 'cube', 'no', '2', '4']\n",
      "[' large', ' yellow cube and gray cube', ' 3', ' 2', ' yes yes yes no yes no no no', ' 3', ' square', ' yes', ' 8', ' 3']\n",
      "\n",
      "\n",
      "['0', 'large', 'no', '0', 'sphere', 'yes', 'yes', '2', 'no', 'yes']\n",
      "[' 0', ' small', ' yes', ' 1', ' square', ' yes', ' yes', ' 3', ' no', ' no']\n",
      "\n",
      "\n",
      "['yes', 'no', 'green', 'red', 'large', 'cylinder', 'rubber', 'no', 'green', '1']\n",
      "[' no', ' no', ' green', ' green', ' large', ' candle', ' plastic', ' no', ' red', ' 1']\n",
      "\n",
      "\n",
      "['small', 'yes', 'rubber', 'no', '3', '1', '2', 'no', '1', 'no']\n",
      "[' capsules to left of the red sphere; small', ' no', ' plastic', ' no', ' 5', ' 2', ' 3', ' yes', ' 4', ' no']\n",
      "\n",
      "\n",
      "['sphere', 'no', 'no', 'no', '0', 'rubber', 'metal', 'yes', 'no', 'no']\n",
      "[' square', ' yes', ' no', ' no', ' 3', ' plasticizerizer no matter what kind of plasticsizerizerizer isn’’t', ' plastic', ' yes', ' no', ' no']\n",
      "\n",
      "\n",
      "['green', 'no', 'large', 'yes', 'cube', 'cylinder', '0', 'green', 'small', 'no']\n",
      "[' green', ' no', ' smallpoxpox virus', ' yes', ' circle', ' circle', ' 0', ' green', ' small', ' no']\n",
      "\n",
      "\n",
      "['no', 'rubber', 'metal', 'yes', '1', '1', 'small', '2', 'yes', 'sphere']\n",
      "[' no', ' plastic', ' plastic', ' no', ' 3', ' 1', ' yes', ' 3', ' no', ' square']\n",
      "\n",
      "\n",
      "['no', 'rubber', 'metal', 'yes', '0', '0', 'small', '2', 'no', 'cylinder']\n",
      "[' yes', ' plastic', ' plastic', ' no', ' 2', ' 1', ' smallpoxpox virus vaccination against influenza influenza influenza vaccine influenza virus influenza influenza virus vaccine vaccine vaccine', ' 3', ' no', ' tallest red cube in the middle of tiny gray block left of tiny blue cube']\n",
      "\n",
      "\n",
      "['no', 'no', '4', 'small', 'no', 'yes', 'no', '4', '0', 'yes']\n",
      "[' no', ' no', ' 5', ' large', ' no', ' yes', ' no', ' 2', ' 1', ' no']\n",
      "\n",
      "\n",
      "['no', 'yes', 'no', 'cylinder', 'cyan', 'no', 'metal', 'no', 'green', 'yes']\n",
      "[' yes', ' yes', ' yes', ' circle', ' red', ' no', ' plastic', ' no', ' green', ' no']\n",
      "\n",
      "\n",
      "['large', 'yellow', '0', '0', 'metal', '1', 'cylinder', 'no', '8', '7']\n",
      "[' large', ' green', ' 2', ' 1', ' plastic', ' 5', ' round', ' yes', ' 4', ' 5']\n",
      "\n",
      "\n",
      "['2', 'small', 'no', '1', 'sphere', 'yes', 'no', '1', 'yes', 'no']\n",
      "[' 2', ' small', ' yes', ' 3', ' circle', ' yes', ' yes', ' 3', ' yes', ' no']\n",
      "\n",
      "\n",
      "['no', 'yes', 'cyan', 'cyan', 'large', 'cylinder', 'rubber', 'yes', 'cyan', '1']\n",
      "[' no', ' yes', ' gold', ' green', ' no', ' circled green', ' plastic', ' no', ' green', ' 1']\n",
      "\n",
      "\n",
      "['large', 'no', 'cube', 'rubber', 'no', '2', '0', '2', 'no', '0']\n",
      "[' large', ' no', ' � � ∞ √ � �� � √�� ����', ' plastic', ' no', ' 3', ' 2', ' 5', ' no', ' 2']\n",
      "\n",
      "\n",
      "['no', 'no', 'no', 'no', '0', 'rubber', 'metal', 'no', 'no', 'no']\n",
      "[' no', ' no', ' no', ' no', ' 1', ' plastic', ' plastic', ' no', ' no', ' no']\n",
      "\n",
      "\n",
      "['green', 'no', 'small', 'no', 'cylinder', 'cylinder', '0', 'gray', 'small', 'no']\n",
      "[' red', ' no', ' large', ' yes', ' round', ' circle', ' 2', ' yellow', ' small', ' yes']\n",
      "\n",
      "\n",
      "['yes', 'metal', 'rubber', 'no', '1', '1', 'large', '4', 'yes', 'sphere']\n",
      "[' no', ' no', ' wood', ' no', ' 3', ' 1', ' large', ' 3', ' no', ' round']\n",
      "\n",
      "\n",
      "['no', 'metal', 'rubber', 'no', '0', '0', 'small', '2', 'no', 'cube']\n",
      "[' no', ' yes yes yes no no nono no no', ' blue spherical purple plastic plummet plummet plummet from plummet plummeting plummet plummet... plummet plummet', ' no', ' 3', ' 2', ' large', ' 3', ' no', ' square']\n",
      "\n",
      "\n",
      "['no', 'no', '3', 'large', 'yes', 'no', 'no', '2', '1', 'yes']\n",
      "[' no', ' no', ' 2', ' large', ' yes', ' yes', ' yes', ' blue blocks blue', ' 1', ' no']\n",
      "\n",
      "\n",
      "['no', 'yes', 'no', 'cylinder', 'yellow', 'no', 'rubber', 'no', 'red', 'yes']\n",
      "[' yes', ' no', ' yes', ' circle', ' yes', ' no', ' plastic', ' yes', ' red', ' yes']\n",
      "\n",
      "\n",
      "['small', 'purple', '0', '1', 'rubber', '0', 'cube', 'yes', '2', '2']\n",
      "[' small', ' purple', ' 1', ' 3', ' plastic', ' 3', ' yes', ' yes', ' 4', ' 5']\n",
      "\n",
      "\n",
      "['2', 'small', 'no', '1', 'sphere', 'yes', 'no', '0', 'yes', 'no']\n",
      "[' 3', ' small', ' yes', ' 3', ' circle', ' yes', ' yes', ' 5', ' yes', ' no']\n",
      "\n",
      "\n",
      "['yes', 'yes', 'cyan', 'green', 'small', 'sphere', 'rubber', 'no', 'green', '1']\n",
      "[' no', ' yes', ' gold', ' green', ' small', ' circle', ' plastic', ' no', ' green', ' 4']\n",
      "\n",
      "\n",
      "['small', 'yes', 'rubber', 'no', '1', '0', '1', 'yes', '0', 'no']\n",
      "[' small', ' no', ' plastic', ' no', ' 3', ' 1', ' 3', ' no', ' 2', ' no']\n",
      "\n",
      "\n",
      "['sphere', 'no', 'no', 'yes', '0', 'rubber', 'metal', 'yes', 'no', 'no']\n",
      "[' no', ' no', ' no', ' yes', ' 2', ' plastic', ' plastic', ' no', ' no', ' no']\n",
      "\n",
      "\n",
      "['blue', 'yes', 'small', 'yes', 'cylinder', 'cylinder', '0', 'green', 'small', 'no']\n",
      "[' green', ' no', ' small', ' yes', ' cyan', ' circle', ' 3', ' green', ' small', ' yes']\n",
      "\n",
      "\n",
      "['yes', 'metal', 'yes', '1', '1', 'large', '3', 'sphere', 'yes', 'yes']\n",
      "[' no', ' plastic', ' no', ' 1', ' 1', ' small', ' 3', ' matchstick markers yes yes yes no no nono no no yes nononono no', ' no', ' no']\n",
      "\n",
      "\n",
      "['yes', 'metal', 'yes', '0', '0', 'small', '1', 'no', 'cube', 'yes']\n",
      "[' no', ' plastic', ' no', ' 2', ' 3', ' yes', ' 3', ' no', ' yes', ' no']\n",
      "\n",
      "\n",
      "['yes', '2', 'large', 'no', 'yes', 'no', '2', '1', 'yes', 'yes']\n",
      "[' yes', ' 1', ' small', ' no', ' no', ' no', ' 3', ' 1', ' no', ' yes']\n",
      "\n",
      "\n",
      "['metal', 'no', 'no', 'cube', 'purple', 'no', 'rubber', 'no', 'brown', 'no']\n",
      "[' metal', ' yes', ' yes', ' square', ' yes', ' no', ' plastic', ' no', ' purple', ' no']\n",
      "\n",
      "\n",
      "['large', 'green', '0', '0', 'metal', '0', 'cylinder', 'no', '1', '4']\n",
      "[' smallpoxpoxpox inoculation against polio vaccine against tuberculosis', ' green', ' 4', ' 2', ' plastic', ' 5', ' circle', ' yes', ' metal cylinders in front of the small yellow matte thing 2', ' 3']\n",
      "\n",
      "\n",
      "['1', 'large', 'no', '0', 'sphere', 'yes', 'no', '1', 'no', 'yes']\n",
      "[' 3', ' small', ' yes', ' 1', ' circle', ' no', ' yes', ' 3', ' yes', ' no']\n",
      "\n",
      "\n"
     ]
    },
    {
     "name": "stdout",
     "output_type": "stream",
     "text": [
      "['yes', 'no', 'cyan', 'brown', 'large', 'cylinder', 'metal', 'yes', 'cyan', '0']\n",
      "[' no', ' no', ' silver', ' yellow', ' large', ' round', ' plastic', ' no', ' silver', ' 3']\n",
      "\n",
      "\n",
      "['small', 'yes', 'rubber', 'yes', '4', '0', '2', 'no', '2', 'no']\n",
      "[' small', ' no', ' metal', ' no', ' 4', ' 1', ' 5', ' yes', ' 2', ' no']\n",
      "\n",
      "\n",
      "['cube', 'no', 'yes', 'yes', '0', 'metal', 'metal', 'yes', 'no', 'yes']\n",
      "[' square', ' no', ' no', ' no', ' 4', ' plastic', ' plastic', ' no', ' no', ' no']\n",
      "\n",
      "\n",
      "['yellow', 'no', 'large', 'no', 'cube', 'cube', '1', 'green', 'large', 'yes']\n",
      "[' green', ' yes', ' small', ' yes', ' square', ' square', ' 2', ' green', ' very big', ' yes']\n",
      "\n",
      "\n",
      "['no', 'rubber', 'no', '2', '1', 'large', '4', 'cylinder', 'no', 'no']\n",
      "[' yes yes yes no no no yes no yesno no nono yes nono no yes', ' plastic', ' no', ' 1', ' 1', ' large', ' 3', ' circle', ' no', ' no']\n",
      "\n",
      "\n",
      "['no', 'metal', 'rubber', 'yes', '1', '0', 'small', '2', 'no', 'cylinder']\n",
      "[' yes', ' plastic', ' plastic', ' no', ' 2', ' 2', ' large green matte object yes', ' 3', ' no', ' round']\n",
      "\n",
      "\n",
      "['no', 'no', '2', 'large', 'no', 'yes', 'no', '1', '0', 'yes']\n",
      "[' no', ' no', ' 1', ' small', ' no', ' no', ' no', ' 3', ' 2', ' no']\n",
      "\n",
      "\n",
      "['no', 'no', 'no', 'sphere', 'brown', 'yes', 'rubber', 'no', 'brown', 'yes']\n",
      "[' yes', ' yes', ' yes', ' circle', ' purple', ' no', ' plastic', ' no', ' purple', ' no']\n",
      "\n",
      "\n",
      "['large', 'yellow', '0', '2', 'metal', '2', 'sphere', 'no', '2', '1']\n",
      "[' small', ' blue', ' 3', ' 2', ' rubber', ' 3', ' sphere (round)roundroundround,roundflashflashflashidiumidiumidiumwaveflashflash', ' no', ' 2', ' 1']\n",
      "\n",
      "\n",
      "['0', 'small', 'yes', '0', 'cylinder', 'yes', 'no', '1', 'no', 'yes']\n",
      "[' 3', ' 3 feet', ' yes', ' 0', ' round', ' no', ' yes', ' 3', ' yes', ' no']\n",
      "\n",
      "\n",
      "['yes', 'yes', 'purple', 'purple', 'large', 'cylinder', 'rubber', 'cyan', '0', 'large']\n",
      "[' no', ' no', ' purple', ' purple', ' large', ' cylindrical', ' plastic', ' no', ' 3', ' large']\n",
      "\n",
      "\n",
      "['yes', 'no', 'cylinder', 'metal', 'no', '2', '0', '1', 'no', '0']\n",
      "[' no', ' yes', ' yes', ' plastic', ' no', ' 4', ' 2', ' 5', ' yes yes yes no no no yes nono no nono yes no yes yesno no', ' 3']\n",
      "\n",
      "\n",
      "['yes', 'yes', 'no', 'no', '0', 'rubber', 'rubber', 'no', 'no', 'no']\n",
      "[' yes', ' yes', ' no', ' yes', ' 1', ' plastic', ' plastic', ' no', ' yes', ' no']\n",
      "\n",
      "\n",
      "['brown', 'no', 'large', 'no', 'cylinder', 'cylinder', '0', 'yellow', 'large', 'yes']\n",
      "[' green', ' yes', ' smallpoxpoxpox inoculations against influenza viruses', ' yes', ' � � ∞ √ √√ � � yes yes yes no no no', ' circle', ' 1', ' yellow', ' small', ' no']\n",
      "\n",
      "\n",
      "['yes', 'rubber', 'metal', 'no', '0', '1', 'large', '3', 'sphere', 'yes']\n",
      "[' no', ' plastic', ' plastic', ' no', ' 3', ' 1', ' yes', ' 3', ' round', ' no']\n",
      "\n",
      "\n",
      "['yes', 'rubber', 'metal', 'no', '0', '1', 'small', '1', 'no', 'cylinder']\n",
      "[' no', ' yes', ' plastic', ' no', ' 1', ' 1', ' large', ' 3', ' no', ' circle']\n",
      "\n",
      "\n",
      "['yes', 'no', '4', 'large', 'no', 'yes', 'yes', '2', '1', 'yes']\n",
      "[' no', ' no', ' 2', ' large', ' no', ' no', ' yes yes yes no no no yes yesno no nono yes no yes nono no', ' 1', ' 1', ' no']\n",
      "\n",
      "\n",
      "['yes', 'no', 'no', 'sphere', 'gray', 'no', 'metal', 'no', 'purple', 'yes']\n",
      "[' no', ' yes', ' yes', ' circle', ' gray', ' yes', ' yes', ' yes', ' purple', ' yes']\n",
      "\n",
      "\n",
      "['large', 'yellow', '1', '2', 'rubber', '0', 'cube', 'yes', '2', '4']\n",
      "[' large', ' purple', ' 1', ' 3', ' yes yes yes no yes no no no', ' 5', ' circle', ' no', ' 3', ' 5']\n",
      "\n",
      "\n",
      "['4', 'small', 'yes', '0', 'sphere', 'yes', 'no', '0', 'yes', 'no']\n",
      "[' 4', ' small', ' yes', ' 1', ' circle', ' no', ' no', ' 4', ' yes', ' no']\n",
      "\n",
      "\n",
      "['no', 'no', 'red', 'red', 'large', 'cylinder', 'rubber', 'no', 'red', '1']\n",
      "[' no', ' no', ' red', ' red', ' large', ' square', ' plastic', ' no', ' red', ' 3']\n",
      "\n",
      "\n",
      "['large', 'yes', 'cylinder', 'rubber', 'no', '3', '1', '3', 'no', '1']\n",
      "[' large', ' yes', ' yes', ' legos', ' yes', ' 4', ' 3', ' 3', ' yes', ' 3']\n",
      "\n",
      "\n",
      "['no', 'no', 'no', 'yes', '0', 'metal', 'rubber', 'no', 'no', 'no']\n",
      "[' no', ' yes', ' no', ' no', ' 1', ' plastic', ' plastic', ' no', ' no', ' yes']\n",
      "\n",
      "\n",
      "['purple', 'no', 'small', 'no', 'sphere', 'sphere', '1', 'purple', 'small', 'no']\n",
      "[' green', ' no', ' small', ' yes', ' circle', ' circle', ' 3', ' purple', ' large purple metal sphere yes', ' yes']\n",
      "\n",
      "\n",
      "['no', 'rubber', 'yes', '1', '0', 'large', '4', 'sphere', 'no', 'yes']\n",
      "[' no', ' rubber', ' no', ' 3', ' 1', ' yes', ' 3', ' circle', ' no', ' no']\n",
      "\n",
      "\n",
      "['no', 'metal', 'yes', '0', '0', 'small', '4', 'no', 'cube', 'yes']\n",
      "[' yes yes yes no no no yes nono no nono yes no yes yesno no', ' cardboard', ' yes', ' 3', ' 2', ' large', ' 4', ' no', ' square', ' no']\n",
      "\n",
      "\n",
      "['metal', 'no', '2', 'small', 'no', 'yes', 'yes', '1', '0', 'yes']\n",
      "[' no', ' no', ' 5', ' very big', ' yes', ' no', ' yes', ' 2', ' 5', ' no']\n",
      "\n",
      "\n",
      "['yes', 'no', 'yes', 'cube', 'green', 'no', 'metal', 'no', 'gray', 'yes']\n",
      "[' no', ' yes', ' yes', ' square', ' gray', ' no', ' plastic', ' no', ' yellow', ' no']\n",
      "\n",
      "\n",
      "['small', 'cyan', '1', '1', 'metal', '1', 'cylinder', 'no', '2', '1']\n",
      "[' small', ' green', ' 3', ' 1', ' plastic', ' 3', ' yes', ' yes', ' 4', ' 3']\n",
      "\n",
      "\n",
      "['1', 'small', 'yes', '0', 'cylinder', 'yes', 'no', '3', 'no', 'no']\n",
      "[' 3', ' small', ' no', ' 0', ' circle', ' no', ' no', ' 1', ' yes', ' no']\n",
      "\n",
      "\n",
      "['no', 'yes', 'yellow', 'red', 'small', 'cylinder', 'rubber', 'no', 'gray', '1']\n",
      "[' yes no no no yes no yes yes nono no nonono no yesno no', ' yes', ' green', ' red', ' yes', ' cyan', ' plastic', ' no', ' no', ' 3']\n",
      "\n",
      "\n",
      "['large', 'yes', 'cube', 'metal', 'no', '2', '1', '1', 'yes', '1']\n",
      "[' small', ' no', ' round', ' plastic', ' no', ' 2', ' 3', ' 5', ' no', ' 2']\n",
      "\n",
      "\n",
      "['no', 'no', 'no', 'no', '0', 'metal', 'rubber', 'yes', 'no', 'no']\n",
      "[' no', ' no', ' no', ' no', ' 2', ' plastic', ' plastic', ' no', ' no', ' no']\n",
      "\n",
      "\n",
      "['yellow', 'no', 'small', 'yes', 'cylinder', 'cube', '1', 'gray', 'small', 'yes']\n",
      "[' green', ' no', ' large', ' yes', ' circle', ' square', ' 2', ' yellow block no', ' large', ' yes']\n",
      "\n",
      "\n",
      "['yes', 'rubber', 'no', '1', '1', 'large', '1', 'sphere', 'no', 'yes']\n",
      "[' yes', ' plastic', ' no', ' 2', ' 1', ' large', ' 3', ' cylindrical', ' no', ' no']\n",
      "\n",
      "\n",
      "['yes', 'rubber', 'no', '0', '0', 'small', '4', 'no', 'cube', 'no']\n",
      "[' no', ' plastic', ' no', ' 2', ' 2', ' large', ' 3', ' no', ' square', ' no']\n",
      "\n",
      "\n",
      "['yes', '2', 'large', 'no', 'yes', 'yes', '2', '1', 'yes', 'no']\n",
      "[' no', ' 5', ' large', ' no', ' yes', ' no', ' 3', ' 3', ' no', ' no']\n",
      "\n",
      "\n",
      "['no', 'yes', 'cube', 'blue', 'no', 'rubber', 'no', 'blue', 'no', 'small']\n",
      "[' no', ' no', ' square', ' blue', ' no', ' plastic', ' yes', ' purple', ' no', ' yes']\n",
      "\n",
      "\n",
      "['metal', 'blue', '0', '1', 'rubber', '0', 'sphere', 'no', '1', '1']\n",
      "[' plastic', ' blue', ' 3', ' 2', ' plastic', ' 3', ' circle', ' yes', ' 3', ' 4']\n",
      "\n",
      "\n",
      "['1', 'large', 'no', '0', 'cylinder', 'yes', 'no', '0', 'no', 'yes']\n",
      "[' 2', ' large', ' yes', ' 0', ' circle', ' yes', ' no', ' 3', ' yes', ' no']\n",
      "\n",
      "\n",
      "['yes', 'no', 'red', 'cyan', 'large', 'sphere', 'metal', 'no', 'red', '2']\n",
      "[' no', ' yes', ' yellow', ' yellow', ' yes', ' no such thing as circle', ' plastic', ' no', ' no', ' 5']\n",
      "\n",
      "\n",
      "['small', 'no', 'rubber', 'no', '1', '0', '0', 'yes', '0', 'no']\n",
      "[' large', ' no', ' spheres aren’t radioactive', ' yes yes yes no no no yes yesno no nono yes no yes nono no', ' 3', ' 3', ' 5', ' yes', ' 2', ' yes']\n",
      "\n",
      "\n",
      "['cube', 'no', 'no', 'no', '0', 'metal', 'rubber', 'yes', 'no', 'no']\n",
      "[' circle', ' yes', ' yes', ' no', ' 1', ' metal', ' plastic', ' no', ' no', ' no']\n",
      "\n",
      "\n",
      "['yes', 'large', 'no', '0', 'no', '2', 'no', '3', '2', 'yes']\n",
      "[' no', ' small', ' yes', ' 1', ' no', ' 2', ' yes', ' 2', ' 3', ' no']\n",
      "\n",
      "\n",
      "['blue', 'sphere', 'cylinder', 'brown', 'large', 'no', 'metal', 'yes', '1', '1']\n",
      "[' purple', ' yes', ' yes', ' green', ' very big', ' no', ' sphere akin to sphere or sphere formed by atoms reacting electrons emitted from atoms electrons emitted by atom', ' no', ' 3', ' 1']\n",
      "\n",
      "\n",
      "['no', 'rubber', 'metal', 'no', '1', '0', 'large', '1', 'no', 'sphere']\n",
      "[' no', ' plastic', ' plastic', ' no', ' 2', ' 2', ' large', ' 3', ' no', ' no']\n",
      "\n",
      "\n",
      "['no', 'yes', '2', 'large', 'yes', 'yes', 'yes', '2', '0', 'yes']\n",
      "[' yes yes yes no no no yes nono no yesno no nono yes no yes', ' no', ' 3', ' large', ' no', ' yes', ' no', ' 2', ' 1', ' no']\n",
      "\n",
      "\n",
      "['no', 'no', 'no', 'cube', 'gray', 'yes', 'rubber', 'no', 'purple', 'yes']\n",
      "[' no', ' yes', ' yes', ' capsules bulbs in front of the purple plastic surgeon surgeon’s spheres', ' purple', ' yes', ' plastic', ' yes', ' purple', ' no']\n",
      "\n",
      "\n",
      "['large', 'gray', '0', '0', 'rubber', '0', 'cylinder', 'no', '2', '3']\n",
      "[' yes', ' green', ' 1', ' 1', ' plastic', ' 3', ' cyan', ' yes', ' 1', ' 5']\n",
      "\n",
      "\n",
      "['2', 'large', 'yes', '0', 'cube', 'yes', 'no', '1', 'no', 'no']\n",
      "[' 3', ' large', ' no', ' 2', ' square', ' no', ' yes', ' 3', ' no', ' no']\n",
      "\n",
      "\n",
      "['no', 'blue', 'blue', 'small', 'sphere', 'rubber', 'yes', 'blue', '0', 'small']\n",
      "[' no', ' blue', ' green', ' yes', ' sphere', ' sphere', ' no', ' blue', ' 1', ' large']\n",
      "\n",
      "\n",
      "['no', 'no', 'cube', 'rubber', 'no', '2', '1', '4', 'no', '1']\n",
      "[' no', ' yes', ' no', ' plastic', ' no', ' 3', ' 3', ' 3', ' yes', ' 2']\n",
      "\n",
      "\n",
      "['yes', 'no', 'no', 'yes', '0', 'metal', 'metal', 'no', 'no', 'no']\n",
      "[' yes', ' yes', ' yes no no no yes no yes yes yes nono no nono yes yesno no', ' no', ' 1', ' plastic', ' plastic', ' yes', ' no', ' no']\n",
      "\n",
      "\n",
      "['blue', 'no', 'large', 'yes', 'sphere', 'sphere', '0', 'brown', 'large', 'no']\n",
      "[' brown', ' yes', ' large', ' yes', ' circle', ' yes', ' 1', ' no', ' smallpoxpoxpox virus vaccine vaccine', ' yes']\n",
      "\n",
      "\n",
      "['yes', 'metal', 'rubber', 'yes', '0', '1', 'small', '4', 'cube', 'yes']\n",
      "[' yes', ' plastic', ' stereoscopicoscopicoscopic surgery ( stereotomyotomyotomy) yes yes yes no yes no no', ' no', ' 1', ' 3', ' large', ' 4', ' square', ' no']\n",
      "\n",
      "\n",
      "['yes', 'metal', 'rubber', 'no', '0', '0', 'small', '3', 'no', 'sphere']\n",
      "[' no', ' plastic', ' wood', ' no', ' 1', ' 2', ' large', ' 5', ' no', ' round']\n",
      "\n",
      "\n",
      "['no', 'no', '2', 'large', 'no', 'yes', 'no', '4', '2', 'no']\n",
      "[' no', ' no', ' 3', ' small', ' yes', ' yes', ' no', ' 2', ' 2', ' yes']\n",
      "\n",
      "\n",
      "['yes', 'no', 'no', 'sphere', 'cyan', 'no', 'metal', 'no', 'cyan', 'yes']\n",
      "[' yes', ' no', ' no', ' cyan', ' red', ' yes', ' blue matte block plastic', ' no', ' blue', ' no']\n",
      "\n",
      "\n",
      "['small', 'red', '4', '1', 'metal', '0', 'cylinder', 'no', '4', '7']\n",
      "[' large', ' green', ' 5', ' 3', ' rubber', ' 4', ' yes', ' no', ' 1', ' 4']\n",
      "\n",
      "\n",
      "['1', 'large', 'yes', '1', 'cube', 'yes', 'no', '2', 'no', 'yes']\n",
      "[' 1', ' smallpoxpox vaccine block in front of the large blue metal thing smallpox virus vaccine block', ' no', ' 2', ' rectangle', ' yes', ' yes', ' 2', ' no', ' no']\n",
      "\n",
      "\n",
      "['yes', 'yes', 'yellow', 'blue', 'large', 'sphere', 'rubber', 'yes', 'green', '0']\n",
      "[' no', ' yes', ' yellow', ' yellow', ' large', ' round', ' plastic', ' no', ' no', ' 2']\n",
      "\n",
      "\n",
      "['large', 'no', 'rubber', 'no', '2', '0', '1', 'yes', '2', 'no']\n",
      "[' small', ' no', ' plastic', ' no', ' 3', ' 3', ' 3', ' no', ' 2', ' no']\n",
      "\n",
      "\n",
      "['cylinder', 'no', 'no', 'yes', '0', 'metal', 'metal', 'yes', 'no', 'no']\n",
      "[' circle', ' yes', ' no', ' no', ' 3', ' plastic', ' plastic', ' no', ' no', ' no']\n",
      "\n",
      "\n",
      "['gray', 'no', 'small', 'no', 'sphere', 'cube', '1', 'gray', 'small', 'no']\n",
      "[' green', ' yes yes yes no no no yes nono no nono yes no yes yesno no', ' large', ' yes', ' circle', ' circle', ' 0', ' gray', ' small', ' no']\n",
      "\n",
      "\n",
      "['no', 'rubber', 'metal', 'yes', '1', '1', 'large', '2', 'yes', 'cylinder']\n",
      "[' no', ' plastic', ' plastic', ' no', ' 2', ' 3', ' smallpoxpoxpox vaccine smallpox inoculation vaccine largepoxpox inoc inoc inoculation no', ' 3', ' no', ' round']\n",
      "\n",
      "\n",
      "['yes', 'metal', 'rubber', 'no', '0', '1', 'large', '2', 'no', 'sphere']\n",
      "[' yes', ' yes', ' plastic', ' no', ' 1', ' 3', ' smallpoxpox virus vaccination against rabies vaccination against polio vaccination polio vaccine polio vaccine vaccine vaccine', ' 3', ' no', ' circle']\n",
      "\n",
      "\n",
      "['yes', 'yes', '2', 'large', 'yes', 'no', '3', '0', 'yes', 'yes']\n",
      "[' no', ' no', ' 5', ' large', ' no', ' no', ' 1', ' 0', ' no', ' yes']\n",
      "\n",
      "\n",
      "['no', 'no', 'no', 'cylinder', 'red', 'yes', 'metal', 'no', 'green', 'no']\n",
      "[' no', ' yes', ' no', ' square', ' blue', ' no', ' plastic', ' yes', ' blue', ' yes']\n",
      "\n",
      "\n",
      "['small', 'cyan', '0', '0', 'metal', '1', 'cylinder', 'yes', '3', '2']\n",
      "[' small', ' gray', ' 3', ' 3', ' yes', ' 3', ' round', ' no', ' 3', ' 5']\n",
      "\n",
      "\n",
      "['0', 'large', 'no', '1', 'cube', 'yes', 'no', '1', 'yes', 'yes']\n",
      "[' 3', ' small', ' yes', ' 2', ' square', ' no', ' yes', ' 3', ' yes', ' yes']\n",
      "\n",
      "\n",
      "['no', 'yes', 'cyan', 'yellow', 'cylinder', 'rubber', 'no', 'blue', '1', 'small']\n",
      "[' no', ' yes', ' blue', ' blue', ' square', ' plastic', ' no', ' yellow', ' 1', ' small']\n",
      "\n",
      "\n",
      "['large', 'no', 'cube', 'metal', 'no', '4', '0', '2', 'yes', '1']\n",
      "[' small', ' no', ' yes', ' metal', ' no', ' 3', ' 3', ' 5', ' yes', ' 3']\n",
      "\n",
      "\n",
      "['yes', 'yes', 'no', 'no', '0', 'rubber', 'metal', 'yes', 'no', 'no']\n",
      "[' yes', ' yes', ' no', ' no', ' 2', ' plastic', ' plastic', ' no', ' no', ' no']\n",
      "\n",
      "\n",
      "['blue', 'no', 'small', 'no', 'cylinder', 'cube', '2', 'blue', 'small', 'no']\n",
      "[' green', ' yes', ' small', ' yes', ' yes', ' square', ' 1', ' blue', ' large', ' no']\n",
      "\n",
      "\n",
      "['no', 'metal', 'yes', '1', '0', 'small', '3', 'yes', 'cube', 'no']\n",
      "[' no', ' plastic', ' yes', ' 2', ' 2', ' smallpoxpoxpox virus vaccine vaccine', ' 3', ' no', ' square', ' no']\n",
      "\n",
      "\n",
      "['no', 'rubber', 'rubber', 'no', '0', '0', 'small', '1', 'no', 'cube']\n"
     ]
    },
    {
     "name": "stdout",
     "output_type": "stream",
     "text": [
      "[' no', ' plastic', ' plastic', ' no', ' 2', ' 2', ' yes', ' 5', ' no', ' purple spheres on the left of red metal ball sphere']\n",
      "\n",
      "\n",
      "['yes', 'yes', '6', 'large', 'no', 'yes', 'no', '2', '3', 'yes']\n",
      "[' yes', ' no', ' 5', ' very big', ' no', ' yes', ' no', ' 3', ' 3', ' yes']\n",
      "\n",
      "\n",
      "['no', 'no', 'no', 'cylinder', 'green', 'yes', 'rubber', 'yes', 'yellow', 'no']\n",
      "[' no', ' no', ' no', ' round', ' yes', ' no', ' metal', ' no', ' green', ' no']\n",
      "\n",
      "\n",
      "['small', 'green', '1', '1', 'rubber', '1', 'cylinder', 'no', '9', '4']\n",
      "[' yes', ' green', ' 2', ' 2', ' plastic', ' 5', ' round', ' no', ' 3', ' 3']\n",
      "\n",
      "\n",
      "['2', 'large', 'yes', '0', 'cube', 'yes', 'no', '0', 'no', 'no']\n",
      "[' 3', ' large silver cube in front of green thing', ' yes', ' 2', ' circle', ' no', ' no', ' 2', ' no', ' yes']\n",
      "\n",
      "\n",
      "['yes', 'yes', 'yellow', 'brown', 'small', 'cube', 'rubber', 'no', 'purple', '0']\n",
      "[' no', ' no', ' yellow', ' red matte green', ' large', ' circle', ' plastic', ' no', ' green', ' 1']\n",
      "\n",
      "\n",
      "['large', 'yes', 'sphere', 'metal', 'no', '1', '0', '1', 'no', '0']\n",
      "[' small', ' no', ' yes', ' magnets were invented by the big cyan cyan metal ball bearings', ' yes', ' 3', ' 3', ' 3', ' yes', ' 1']\n",
      "\n",
      "\n",
      "['no', 'no', 'no', 'no', '0', 'metal', 'rubber', 'no', 'no', 'no']\n",
      "[' no', ' yes', ' no', ' no', ' 2', ' cardboard', ' cubes are intellectually stimulating toys that defy fear of heights', ' no', ' no', ' no']\n",
      "\n",
      "\n",
      "['purple', 'yes', 'small', 'yes', 'sphere', 'sphere', '0', 'brown', 'large', 'no']\n",
      "[' purple', ' yes yes yes no no no yes nono no nono yes no yes yesno no', ' small', ' no', ' round', ' yes', ' 1', ' purple', ' small', ' yes']\n",
      "\n",
      "\n",
      "['yes', 'metal', 'metal', 'yes', '1', '1', 'large', '3', 'yes', 'sphere']\n",
      "[' yes', ' plastic', ' plastic', ' no', ' 2', ' 3', ' smallpoxpoxpox inoculation against rabies vaccination against polio polio polio vaccine polio vaccine vaccine', ' 3', ' no', ' round']\n",
      "\n",
      "\n",
      "['no', 'rubber', 'rubber', 'no', '0', '0', 'small', '4', 'no', 'cylinder']\n",
      "[' no', ' plastic', ' plastic', ' no', ' 3', ' 1', ' large', ' 7', ' no', ' round']\n",
      "\n",
      "\n",
      "['yes', 'no', '2', 'large', 'yes', 'yes', 'yes', '1', '0', 'no']\n",
      "[' no', ' no', ' 3', ' small', ' yes no no no yes no yes yes nono no nonono no yesno no', ' yes', ' no', ' 0', ' 0', ' no']\n",
      "\n",
      "\n",
      "['no', 'yes', 'no', 'cube', 'cyan', 'yes', 'rubber', 'no', 'gray', 'no']\n",
      "[' yes', ' yes', ' no', ' square', ' red', ' no', ' rubber', ' yes', ' yellow', ' yes']\n",
      "\n",
      "\n",
      "['large', 'gray', '0', '1', 'metal', '0', 'cube', 'yes', '1', '3']\n",
      "[' yes', ' purple', ' 3', ' 2', ' plastic', ' 2', ' circle', ' no', ' 3', ' 5']\n",
      "\n",
      "\n",
      "['1', 'small', 'yes', '0', 'cube', 'yes', 'no', '2', 'yes', 'no']\n",
      "[' 1', ' small', ' yes', ' 2', ' round', ' no', ' no', ' 1', ' yes', ' no']\n",
      "\n",
      "\n",
      "['no', 'yes', 'red', 'blue', 'cube', 'rubber', 'no', '0', 'large', 'yes']\n",
      "[' no', ' yes', ' red', ' yellow', ' round', ' plastic', ' no', ' 4', ' small', ' no']\n",
      "\n",
      "\n",
      "['large', 'purple', 'cylinder', 'rubber', 'yes', '5', '0', '2', 'no', '1']\n",
      "[' small', ' yellow', ' circle', ' toys', ' no', ' 3', ' 4', ' 3', ' yes', ' 3']\n",
      "\n",
      "\n",
      "['no', 'no', 'no', 'yes', '1', 'metal', 'metal', 'yes', 'no', 'no']\n",
      "[' yes', ' yes', ' no', ' no', ' 3', ' wood', ' plastic', ' no', ' no', ' yes']\n",
      "\n",
      "\n",
      "['cyan', 'yes', 'large', 'yes', 'cylinder', 'cube', '0', 'purple', 'small', 'no']\n",
      "[' blue', ' yes', ' small', ' yes', ' cylindrical', ' square', ' 2', ' purple', ' small', ' yes']\n",
      "\n",
      "\n",
      "['yes', 'metal', 'yes', '2', '2', 'sphere', 'no', 'yes', '5', 'small']\n",
      "[' no', ' cup', ' no', ' 3', ' 8', ' circle', ' no', ' no', ' 5', ' small']\n",
      "\n",
      "\n",
      "['no', 'rubber', 'rubber', 'yes', '2', '0', 'small', '4', 'no', 'sphere']\n",
      "[' yes', ' plastic', ' plastic', ' no', ' 3', ' 2', ' large', ' 5', ' no', ' yes']\n",
      "\n",
      "\n",
      "['no', 'no', '2', 'large', 'no', 'yes', 'yes', '1', '3', 'yes']\n",
      "[' no', ' no', ' 9', ' large', ' no', ' no', ' yes', ' 3', ' 2', ' no']\n",
      "\n",
      "\n",
      "['no', 'no', 'no', 'cylinder', 'brown', 'yes', 'rubber', 'yes', 'brown', 'no']\n",
      "[' yes', ' no', ' yes', ' yes', ' purple', ' no', ' metal', ' yes', ' yes', ' no']\n",
      "\n",
      "\n",
      "['large', 'green', '0', '1', 'rubber', '1', 'cylinder', 'no', '2', '2']\n",
      "[' smallpoxpoxpox inoculation against rabies vaccination polio polio polio vaccine polio polio vaccination polio', ' cyan', ' 5', ' 1', ' plastic', ' 4', ' circle', ' yes', ' 3', ' 5']\n",
      "\n",
      "\n",
      "['1', 'small', 'no', '0', 'cylinder', 'yes', 'yes', '0', 'yes', 'no']\n",
      "[' 3', ' large', ' yes', ' 2', ' cube', ' no', ' yes', ' 3', ' yes', ' no']\n",
      "\n",
      "\n",
      "['yes', 'no', 'green', 'brown', 'cube', 'metal', 'yes', 'gray', '0', 'large']\n",
      "[' no', ' no', ' gray', ' green', ' round', ' plastic', ' no', ' green', ' 3', ' small']\n",
      "\n",
      "\n",
      "['small', 'yes', 'sphere', 'rubber', 'no', '4', '1', '4', 'no', '1']\n",
      "[' large', ' yes', ' circle', ' plastic', ' no', ' 3', ' 4', ' 3', ' yes', ' 4']\n",
      "\n",
      "\n",
      "['no', 'no', 'no', 'no', '1', 'rubber', 'rubber', 'no', 'no', 'no']\n",
      "[' no', ' no', ' yes', ' no', ' 1', ' plastic', ' plastic', ' yes', ' no', ' no']\n",
      "\n",
      "\n",
      "['blue', 'no', 'large', 'no', 'sphere', 'cube', '1', 'blue', 'large', 'no']\n",
      "[' blue is on the right side of the gray block blue', ' yes', ' small', ' no', ' circle', ' round', ' 2', ' blue', ' left', ' no']\n",
      "\n",
      "\n",
      "['yes', 'metal', 'no', '1', 'large', '2', 'cube', 'yes', 'yes', '3']\n",
      "[' no', ' metal', ' no', ' 2', ' large gray rubber object small', ' 3', ' cube', ' no', ' no', ' 4']\n",
      "\n",
      "\n",
      "['no', 'metal', 'metal', 'yes', '0', '0', 'large', '3', 'no', 'cube']\n",
      "[' yes', ' plastic', ' plastic', ' no', ' 3', ' 1', ' small', ' 3', ' no', ' square']\n",
      "\n",
      "\n",
      "['no', 'no', '4', 'large', 'no', 'yes', 'yes', '1', '3', 'yes']\n",
      "[' no', ' no', ' 3', ' small', ' no', ' yes', ' no', ' 2', ' 2', ' no']\n",
      "\n",
      "\n",
      "['yes', 'no', 'no', 'cube', 'blue', 'no', 'rubber', 'no', 'yellow', 'yes']\n",
      "[' no', ' yes', ' yes', ' round', ' purple', ' yes', ' plastic', ' yes', ' green', ' no']\n",
      "\n",
      "\n",
      "['small', 'cyan', '1', '1', 'metal', '0', 'sphere', 'no', '5', '3']\n",
      "[' smallpoxpox inoculation against polio vaccines against polio', ' green shiny sphere green', ' 2', ' 1', ' cyan matte paint', ' 4', ' no', ' yes', ' 1', ' 5']\n",
      "\n",
      "\n",
      "['1', 'small', 'yes', '1', 'cylinder', 'yes', 'no', '1', 'yes', 'no']\n",
      "[' 3', ' large enough to fit all sorts of shapes, sizes, sizes and sizes needlesies needlesies', ' no', ' 3', ' circle', ' no', ' no', ' 2', ' yes', ' no']\n",
      "\n",
      "\n",
      "['no', 'yes', 'blue', 'blue', 'sphere', 'rubber', 'yes', 'yellow', '0', 'small']\n",
      "[' no', ' yes', ' blue', ' blue', ' square', ' plastic', ' no', ' yellow', ' 4', ' large']\n",
      "\n",
      "\n",
      "['small', 'yes', 'cube', 'rubber', 'no', '3', '3', '1', 'no', '3']\n",
      "[' no', ' yes', ' no', ' plastic', ' no', ' 5', ' 3', ' 3', ' yes no no no yes no yes yes nono no nonono no yesno no', ' 1']\n",
      "\n",
      "\n",
      "['no', 'no', 'no', 'no', '0', 'metal', 'metal', 'yes', 'no', 'no']\n",
      "[' yes', ' yes', ' no', ' no', ' 3', ' plastic', ' plastic', ' yes', ' no', ' no']\n",
      "\n",
      "\n",
      "['green', 'no', 'large', 'no', 'cube', 'cylinder', '0', 'green', 'small', 'yes']\n",
      "[' green', ' no', ' small', ' yes', ' circle', ' yes', ' 3', ' no', ' no', ' yes']\n",
      "\n",
      "\n",
      "['yes', 'rubber', 'no', '2', '1', 'small', '2', 'yes', 'sphere', 'yes']\n",
      "[' no', ' plastic', ' no', ' 3', ' 1', ' large', ' 2', ' no', ' round', ' no']\n",
      "\n",
      "\n",
      "['yes', 'rubber', 'rubber', 'no', '0', '1', 'large', '3', 'no', 'cylinder']\n",
      "[' yes', ' plastic', ' plastic', ' no', ' 2', ' 2', ' yes', ' 3', ' no', ' circle']\n",
      "\n",
      "\n",
      "['no', 'yes', '2', 'large', 'no', 'yes', 'no', '2', '0', 'no']\n",
      "[' no', ' no', ' 1', ' no', ' no', ' yes', ' no', ' 0', ' 0', ' yes']\n",
      "\n",
      "\n",
      "['no', 'yes', 'no', 'cylinder', 'brown', 'yes', 'metal', 'no', 'brown', 'no']\n",
      "[' yes', ' yes', ' no', ' square', ' green', ' yes', ' plastic', ' no', ' blue', ' no']\n",
      "\n",
      "\n",
      "['small', 'cyan', '1', '0', 'metal', '1', 'cylinder', 'no', '4', '4']\n",
      "[' large', ' green', ' 2', ' 1', ' plastic', ' 3', ' yes', ' yes', ' 1', ' 5']\n",
      "\n",
      "\n",
      "['0', 'large', 'yes', '0', 'sphere', 'yes', 'no', '1', 'no', 'no']\n",
      "[' 3', ' yes', ' no', ' 3', ' circle', ' no', ' yes', ' 3', ' yes', ' no']\n",
      "\n",
      "\n",
      "['yes', 'no', 'green', 'cyan', 'small', 'sphere', 'rubber', 'yes', 'green', '1']\n",
      "[' yes', ' yes', ' yellow', ' yellow', ' no', ' yes', ' plastic', ' no', ' green', ' 4']\n",
      "\n",
      "\n",
      "['small', 'yes', 'cylinder', 'rubber', 'yes', '8', '0', '3', 'yes', '1']\n",
      "[' yes', ' no', ' circle', ' plastic', ' no', ' 3', ' 3', ' 3', ' no', ' 3']\n",
      "\n",
      "\n",
      "['no', 'yes', 'no', 'no', '1', 'rubber', 'rubber', 'no', 'no', 'no']\n",
      "[' no', ' no', ' yes', ' no', ' 1', ' plastic', ' plastic', ' no', ' yes yes yes no no no yes nono no nono yes no yes yesno no', ' no']\n",
      "\n",
      "\n",
      "['yellow', 'no', 'small', 'no', 'cube', 'cube', '1', 'brown', 'small', 'yes']\n",
      "[' green', ' no', ' large', ' yes', ' � � ∩ √ √√ ∞ � ∗ ∝ �', ' square', ' 1', ' no', ' small', ' yes']\n",
      "\n",
      "\n",
      "['no', 'metal', 'metal', 'yes', '1', '0', 'small', '4', 'yes', 'cube']\n",
      "[' no', ' plastic', ' plastic', ' no', ' 1', ' 1', ' large', ' 3', ' no', ' yes']\n",
      "\n",
      "\n",
      "['yes', 'rubber', 'rubber', 'yes', '0', '0', 'small', '2', 'no', 'cube']\n",
      "[' yes', ' no', ' plastic', ' yes', ' 4', ' 1', ' large', ' 4', ' no', ' circle']\n",
      "\n",
      "\n",
      "['no', 'no', '1', 'large', 'no', 'yes', 'no', '3', '1', 'yes']\n",
      "[' yes', ' no', ' 3', ' small', ' no', ' yes', ' yes yes yes no no no yes nono no nono yes no yes yesno no', ' 3', ' 1', ' no']\n",
      "\n",
      "\n",
      "['no', 'no', 'no', 'cube', 'blue', 'no', 'rubber', 'yes', 'blue', 'yes']\n",
      "[' yes', ' yes', ' no', ' round', ' blue', ' no', ' plastic', ' yes', ' blue', ' no']\n",
      "\n",
      "\n",
      "['large', 'gray', '0', '0', 'metal', '0', 'cylinder', 'no', '2', '0']\n",
      "[' yes', ' gray', ' 1', ' 1', ' metal', ' 2', ' round', ' yes', ' 3', ' 3']\n",
      "\n",
      "\n",
      "['1', 'small', 'yes', '0', 'cube', 'yes', 'no', '1', 'no', 'yes']\n",
      "[' 5', ' medium-large enough for small childrens toys; large enough to be large enough for 3', ' yes', ' 1', ' round', ' yes', ' no', ' 3', ' no', ' no']\n",
      "\n",
      "\n",
      "['yes', 'yes', 'green', 'yellow', 'large', 'cube', 'metal', 'no', 'green', '0']\n",
      "[' no', ' yes', ' green', ' yellow', ' small', ' circle', ' plastic', ' no', ' silver', ' 1']\n",
      "\n",
      "\n",
      "['large', 'yes', 'cube', 'metal', 'no', '3', '2', '3', 'no', '1']\n",
      "[' small', ' no', ' yes', ' plastic', ' yes', ' 3', ' 3', ' 3', ' yes', ' big purple spheres 1']\n",
      "\n",
      "\n",
      "['no', 'no', 'no', 'no', '0', 'metal', 'rubber', 'yes', 'no', 'no']\n",
      "[' yes', ' yes', ' yes', ' no', ' 2', ' plastic', ' plastic', ' no', ' no', ' no']\n",
      "\n",
      "\n",
      "['red', 'yes', 'large', 'yes', 'cylinder', 'cube', '1', 'gray', 'large', 'no']\n",
      "[' red', ' no', ' small', ' no', ' cylinder', ' square', ' 3', ' red', ' large', ' no']\n",
      "\n",
      "\n",
      "['no', 'metal', 'metal', 'no', '1', '1', 'large', '1', 'yes', 'cylinder']\n",
      "[' no', ' plastic', ' plastic', ' no no yes no no nono no no', ' 3', ' 2', ' large', ' 3', ' no', ' circle']\n",
      "\n",
      "\n"
     ]
    }
   ],
   "source": [
    "for i in zip(targets , pred):\n",
    "    print(tokenizer_p.batch_decode(i[0], skip_special_tokens=True))\n",
    "    print(tokenizer_p.batch_decode(i[1], skip_special_tokens=True))\n",
    "    print(\"\\n\")"
   ]
  },
  {
   "cell_type": "code",
   "execution_count": 40,
   "id": "14706066",
   "metadata": {},
   "outputs": [
    {
     "data": {
      "text/plain": [
       "0.9"
      ]
     },
     "execution_count": 40,
     "metadata": {},
     "output_type": "execute_result"
    }
   ],
   "source": [
    "##Val A f\n",
    "count/(10*len(pred))"
   ]
  },
  {
   "cell_type": "code",
   "execution_count": 21,
   "id": "71253573",
   "metadata": {},
   "outputs": [
    {
     "data": {
      "text/plain": [
       "0.0"
      ]
     },
     "execution_count": 21,
     "metadata": {},
     "output_type": "execute_result"
    }
   ],
   "source": [
    "## ValB = 0.4\n",
    "count/(10*len(pred))"
   ]
  },
  {
   "cell_type": "code",
   "execution_count": 26,
   "id": "eafd17b9",
   "metadata": {},
   "outputs": [
    {
     "data": {
      "text/plain": [
       "0.0"
      ]
     },
     "execution_count": 26,
     "metadata": {},
     "output_type": "execute_result"
    }
   ],
   "source": []
  },
  {
   "cell_type": "code",
   "execution_count": 211,
   "id": "0bd69dd7",
   "metadata": {},
   "outputs": [
    {
     "data": {
      "text/plain": [
       "0.625"
      ]
     },
     "execution_count": 211,
     "metadata": {},
     "output_type": "execute_result"
    }
   ],
   "source": [
    "count/(8*604)"
   ]
  },
  {
   "cell_type": "markdown",
   "id": "de2de991",
   "metadata": {},
   "source": [
    "### finetuned\n",
    "\n",
    "Stack : 0.625\n",
    "ClevrA : 0.90\n",
    "ClevrB : 0.6\n"
   ]
  },
  {
   "cell_type": "markdown",
   "id": "54cf6533",
   "metadata": {},
   "source": [
    "### Pretrained\n",
    "\n",
    "valA: 0 1000\n",
    "\n"
   ]
  },
  {
   "cell_type": "code",
   "execution_count": 206,
   "id": "1d35f36d",
   "metadata": {},
   "outputs": [
    {
     "name": "stdout",
     "output_type": "stream",
     "text": [
      "[42692]\n",
      "[7748 8293]\n",
      "[246]\n",
      "[12354]\n",
      "[ 260 4469]\n",
      "[2362]\n",
      "[10932]\n",
      "[2362]\n"
     ]
    }
   ],
   "source": [
    "count = 0\n",
    "for i in range(len(pred[3])):\n",
    "    print(np.setdiff1d(targets[3][i],[0,1,2]))\n",
    "    count+=int(sum(np.setdiff1d(targets[3][i],[0,1,2]) == np.setdiff1d(pred[3][i],[0,1,2])))\n"
   ]
  },
  {
   "cell_type": "code",
   "execution_count": 207,
   "id": "6da3c722",
   "metadata": {},
   "outputs": [
    {
     "data": {
      "text/plain": [
       "5"
      ]
     },
     "execution_count": 207,
     "metadata": {},
     "output_type": "execute_result"
    }
   ],
   "source": [
    "count"
   ]
  },
  {
   "cell_type": "code",
   "execution_count": null,
   "id": "cf21d580",
   "metadata": {},
   "outputs": [],
   "source": []
  },
  {
   "cell_type": "code",
   "execution_count": 168,
   "id": "02db2107",
   "metadata": {},
   "outputs": [
    {
     "ename": "TypeError",
     "evalue": "only size-1 arrays can be converted to Python scalars",
     "output_type": "error",
     "traceback": [
      "\u001b[0;31m---------------------------------------------------------------------------\u001b[0m",
      "\u001b[0;31mTypeError\u001b[0m                                 Traceback (most recent call last)",
      "Cell \u001b[0;32mIn[168], line 1\u001b[0m\n\u001b[0;32m----> 1\u001b[0m final_score \u001b[38;5;241m=\u001b[39m \u001b[43mmetric\u001b[49m\u001b[38;5;241;43m.\u001b[39;49m\u001b[43mcompute\u001b[49m\u001b[43m(\u001b[49m\u001b[43mpredictions\u001b[49m\u001b[38;5;241;43m=\u001b[39;49m\u001b[43mpred\u001b[49m\u001b[43m,\u001b[49m\u001b[43m \u001b[49m\u001b[43mreferences\u001b[49m\u001b[38;5;241;43m=\u001b[39;49m\u001b[43mtargets\u001b[49m\u001b[43m)\u001b[49m\n",
      "File \u001b[0;32m/srv/share2/sanisetty3/miniconda3/envs/DLM/lib/python3.9/site-packages/datasets/metric.py:442\u001b[0m, in \u001b[0;36mMetric.compute\u001b[0;34m(self, predictions, references, **kwargs)\u001b[0m\n\u001b[1;32m    439\u001b[0m compute_kwargs \u001b[38;5;241m=\u001b[39m {k: kwargs[k] \u001b[38;5;28;01mfor\u001b[39;00m k \u001b[38;5;129;01min\u001b[39;00m kwargs \u001b[38;5;28;01mif\u001b[39;00m k \u001b[38;5;129;01mnot\u001b[39;00m \u001b[38;5;129;01min\u001b[39;00m \u001b[38;5;28mself\u001b[39m\u001b[38;5;241m.\u001b[39mfeatures}\n\u001b[1;32m    441\u001b[0m \u001b[38;5;28;01mif\u001b[39;00m \u001b[38;5;28many\u001b[39m(v \u001b[38;5;129;01mis\u001b[39;00m \u001b[38;5;129;01mnot\u001b[39;00m \u001b[38;5;28;01mNone\u001b[39;00m \u001b[38;5;28;01mfor\u001b[39;00m v \u001b[38;5;129;01min\u001b[39;00m inputs\u001b[38;5;241m.\u001b[39mvalues()):\n\u001b[0;32m--> 442\u001b[0m     \u001b[38;5;28;43mself\u001b[39;49m\u001b[38;5;241;43m.\u001b[39;49m\u001b[43madd_batch\u001b[49m\u001b[43m(\u001b[49m\u001b[38;5;241;43m*\u001b[39;49m\u001b[38;5;241;43m*\u001b[39;49m\u001b[43minputs\u001b[49m\u001b[43m)\u001b[49m\n\u001b[1;32m    443\u001b[0m \u001b[38;5;28mself\u001b[39m\u001b[38;5;241m.\u001b[39m_finalize()\n\u001b[1;32m    445\u001b[0m \u001b[38;5;28mself\u001b[39m\u001b[38;5;241m.\u001b[39mcache_file_name \u001b[38;5;241m=\u001b[39m \u001b[38;5;28;01mNone\u001b[39;00m\n",
      "File \u001b[0;32m/srv/share2/sanisetty3/miniconda3/envs/DLM/lib/python3.9/site-packages/datasets/metric.py:494\u001b[0m, in \u001b[0;36mMetric.add_batch\u001b[0;34m(self, predictions, references, **kwargs)\u001b[0m\n\u001b[1;32m    492\u001b[0m batch \u001b[38;5;241m=\u001b[39m {\u001b[38;5;124m\"\u001b[39m\u001b[38;5;124mpredictions\u001b[39m\u001b[38;5;124m\"\u001b[39m: predictions, \u001b[38;5;124m\"\u001b[39m\u001b[38;5;124mreferences\u001b[39m\u001b[38;5;124m\"\u001b[39m: references, \u001b[38;5;241m*\u001b[39m\u001b[38;5;241m*\u001b[39mkwargs}\n\u001b[1;32m    493\u001b[0m batch \u001b[38;5;241m=\u001b[39m {intput_name: batch[intput_name] \u001b[38;5;28;01mfor\u001b[39;00m intput_name \u001b[38;5;129;01min\u001b[39;00m \u001b[38;5;28mself\u001b[39m\u001b[38;5;241m.\u001b[39mfeatures}\n\u001b[0;32m--> 494\u001b[0m batch \u001b[38;5;241m=\u001b[39m \u001b[38;5;28;43mself\u001b[39;49m\u001b[38;5;241;43m.\u001b[39;49m\u001b[43minfo\u001b[49m\u001b[38;5;241;43m.\u001b[39;49m\u001b[43mfeatures\u001b[49m\u001b[38;5;241;43m.\u001b[39;49m\u001b[43mencode_batch\u001b[49m\u001b[43m(\u001b[49m\u001b[43mbatch\u001b[49m\u001b[43m)\u001b[49m\n\u001b[1;32m    495\u001b[0m \u001b[38;5;28;01mif\u001b[39;00m \u001b[38;5;28mself\u001b[39m\u001b[38;5;241m.\u001b[39mwriter \u001b[38;5;129;01mis\u001b[39;00m \u001b[38;5;28;01mNone\u001b[39;00m:\n\u001b[1;32m    496\u001b[0m     \u001b[38;5;28mself\u001b[39m\u001b[38;5;241m.\u001b[39m_init_writer()\n",
      "File \u001b[0;32m/srv/share2/sanisetty3/miniconda3/envs/DLM/lib/python3.9/site-packages/datasets/features/features.py:1827\u001b[0m, in \u001b[0;36mFeatures.encode_batch\u001b[0;34m(self, batch)\u001b[0m\n\u001b[1;32m   1825\u001b[0m \u001b[38;5;28;01mfor\u001b[39;00m key, column \u001b[38;5;129;01min\u001b[39;00m batch\u001b[38;5;241m.\u001b[39mitems():\n\u001b[1;32m   1826\u001b[0m     column \u001b[38;5;241m=\u001b[39m cast_to_python_objects(column)\n\u001b[0;32m-> 1827\u001b[0m     encoded_batch[key] \u001b[38;5;241m=\u001b[39m [encode_nested_example(\u001b[38;5;28mself\u001b[39m[key], obj) \u001b[38;5;28;01mfor\u001b[39;00m obj \u001b[38;5;129;01min\u001b[39;00m column]\n\u001b[1;32m   1828\u001b[0m \u001b[38;5;28;01mreturn\u001b[39;00m encoded_batch\n",
      "File \u001b[0;32m/srv/share2/sanisetty3/miniconda3/envs/DLM/lib/python3.9/site-packages/datasets/features/features.py:1827\u001b[0m, in \u001b[0;36m<listcomp>\u001b[0;34m(.0)\u001b[0m\n\u001b[1;32m   1825\u001b[0m \u001b[38;5;28;01mfor\u001b[39;00m key, column \u001b[38;5;129;01min\u001b[39;00m batch\u001b[38;5;241m.\u001b[39mitems():\n\u001b[1;32m   1826\u001b[0m     column \u001b[38;5;241m=\u001b[39m cast_to_python_objects(column)\n\u001b[0;32m-> 1827\u001b[0m     encoded_batch[key] \u001b[38;5;241m=\u001b[39m [\u001b[43mencode_nested_example\u001b[49m\u001b[43m(\u001b[49m\u001b[38;5;28;43mself\u001b[39;49m\u001b[43m[\u001b[49m\u001b[43mkey\u001b[49m\u001b[43m]\u001b[49m\u001b[43m,\u001b[49m\u001b[43m \u001b[49m\u001b[43mobj\u001b[49m\u001b[43m)\u001b[49m \u001b[38;5;28;01mfor\u001b[39;00m obj \u001b[38;5;129;01min\u001b[39;00m column]\n\u001b[1;32m   1828\u001b[0m \u001b[38;5;28;01mreturn\u001b[39;00m encoded_batch\n",
      "File \u001b[0;32m/srv/share2/sanisetty3/miniconda3/envs/DLM/lib/python3.9/site-packages/datasets/features/features.py:1267\u001b[0m, in \u001b[0;36mencode_nested_example\u001b[0;34m(schema, obj, level)\u001b[0m\n\u001b[1;32m   1264\u001b[0m \u001b[38;5;66;03m# Object with special encoding:\u001b[39;00m\n\u001b[1;32m   1265\u001b[0m \u001b[38;5;66;03m# ClassLabel will convert from string to int, TranslationVariableLanguages does some checks\u001b[39;00m\n\u001b[1;32m   1266\u001b[0m \u001b[38;5;28;01melif\u001b[39;00m \u001b[38;5;28misinstance\u001b[39m(schema, (Audio, Image, ClassLabel, TranslationVariableLanguages, Value, _ArrayXD)):\n\u001b[0;32m-> 1267\u001b[0m     \u001b[38;5;28;01mreturn\u001b[39;00m \u001b[43mschema\u001b[49m\u001b[38;5;241;43m.\u001b[39;49m\u001b[43mencode_example\u001b[49m\u001b[43m(\u001b[49m\u001b[43mobj\u001b[49m\u001b[43m)\u001b[49m \u001b[38;5;28;01mif\u001b[39;00m obj \u001b[38;5;129;01mis\u001b[39;00m \u001b[38;5;129;01mnot\u001b[39;00m \u001b[38;5;28;01mNone\u001b[39;00m \u001b[38;5;28;01melse\u001b[39;00m \u001b[38;5;28;01mNone\u001b[39;00m\n\u001b[1;32m   1268\u001b[0m \u001b[38;5;66;03m# Other object should be directly convertible to a native Arrow type (like Translation and Translation)\u001b[39;00m\n\u001b[1;32m   1269\u001b[0m \u001b[38;5;28;01mreturn\u001b[39;00m obj\n",
      "File \u001b[0;32m/srv/share2/sanisetty3/miniconda3/envs/DLM/lib/python3.9/site-packages/datasets/features/features.py:506\u001b[0m, in \u001b[0;36mValue.encode_example\u001b[0;34m(self, value)\u001b[0m\n\u001b[1;32m    504\u001b[0m     \u001b[38;5;28;01mreturn\u001b[39;00m \u001b[38;5;28mbool\u001b[39m(value)\n\u001b[1;32m    505\u001b[0m \u001b[38;5;28;01melif\u001b[39;00m pa\u001b[38;5;241m.\u001b[39mtypes\u001b[38;5;241m.\u001b[39mis_integer(\u001b[38;5;28mself\u001b[39m\u001b[38;5;241m.\u001b[39mpa_type):\n\u001b[0;32m--> 506\u001b[0m     \u001b[38;5;28;01mreturn\u001b[39;00m \u001b[38;5;28;43mint\u001b[39;49m\u001b[43m(\u001b[49m\u001b[43mvalue\u001b[49m\u001b[43m)\u001b[49m\n\u001b[1;32m    507\u001b[0m \u001b[38;5;28;01melif\u001b[39;00m pa\u001b[38;5;241m.\u001b[39mtypes\u001b[38;5;241m.\u001b[39mis_floating(\u001b[38;5;28mself\u001b[39m\u001b[38;5;241m.\u001b[39mpa_type):\n\u001b[1;32m    508\u001b[0m     \u001b[38;5;28;01mreturn\u001b[39;00m \u001b[38;5;28mfloat\u001b[39m(value)\n",
      "\u001b[0;31mTypeError\u001b[0m: only size-1 arrays can be converted to Python scalars"
     ]
    }
   ],
   "source": [
    "final_score = metric.compute(predictions=pred, references=targets)"
   ]
  },
  {
   "cell_type": "code",
   "execution_count": null,
   "id": "e9cdf7c0",
   "metadata": {},
   "outputs": [],
   "source": []
  },
  {
   "cell_type": "markdown",
   "id": "bbf9f863",
   "metadata": {},
   "source": [
    "## Custom image and question"
   ]
  },
  {
   "cell_type": "code",
   "execution_count": 64,
   "id": "9180fdc5",
   "metadata": {},
   "outputs": [],
   "source": [
    "pretrained ='/coc/scratch/sanisetty3/DLM/OFA-base-vqa/'\n",
    "fine_tuned =\"/srv/scratch/sanisetty3/DLM/ofa-vqa-tiny/\"\n"
   ]
  },
  {
   "cell_type": "code",
   "execution_count": 65,
   "id": "8d4f7f10",
   "metadata": {},
   "outputs": [
    {
     "name": "stdout",
     "output_type": "stream",
     "text": [
      "/coc/scratch/sanisetty3/DLM/OFA-base-vqa/\n",
      "<super: <class 'OFATokenizer'>, <OFATokenizer object>>\n"
     ]
    }
   ],
   "source": [
    "tokenizer_p = OFATokenizer.from_pretrained(pretrained)\n",
    "model_p = OFAModelForVQA.from_pretrained(pretrained, use_cache=False)"
   ]
  },
  {
   "cell_type": "code",
   "execution_count": 66,
   "id": "f77fe416",
   "metadata": {},
   "outputs": [],
   "source": [
    "model_f = OFAModelForVQA.from_pretrained(fine_tuned, use_cache=False)"
   ]
  },
  {
   "cell_type": "code",
   "execution_count": 67,
   "id": "ad0f3e44",
   "metadata": {},
   "outputs": [
    {
     "name": "stderr",
     "output_type": "stream",
     "text": [
      "/srv/share2/sanisetty3/miniconda3/envs/DLM/lib/python3.9/site-packages/torchvision/transforms/transforms.py:329: UserWarning: Argument 'interpolation' of type int is deprecated since 0.13 and will be removed in 0.15. Please use InterpolationMode enum.\n",
      "  warnings.warn(\n"
     ]
    }
   ],
   "source": [
    "mean, std = [0.5, 0.5, 0.5], [0.5, 0.5, 0.5]\n",
    "resolution = 480\n",
    "\n",
    "patch_resize_transform = transforms.Compose([\n",
    "    lambda image: image.convert(\"RGB\"),\n",
    "    transforms.Resize((resolution, resolution), interpolation=Image.BICUBIC),\n",
    "    transforms.ToTensor(), \n",
    "    transforms.Normalize(mean=mean, std=std)\n",
    "])"
   ]
  },
  {
   "cell_type": "code",
   "execution_count": 68,
   "id": "caf7452b",
   "metadata": {},
   "outputs": [
    {
     "data": {
      "image/png": "[encoded data removed]",
      "text/plain": [
       "<PIL.PngImagePlugin.PngImageFile image mode=RGBA size=304x231>"
      ]
     },
     "execution_count": 68,
     "metadata": {},
     "output_type": "execute_result"
    }
   ],
   "source": [
    "txt = \"Is the yellow block on top of the red block?\"\n",
    "inputs = tokenizer_p([txt], return_tensors=\"pt\").input_ids\n",
    "img = Image.open('./samples/00.png')\n",
    "patch_img = patch_resize_transform(img).unsqueeze(0)\n",
    "img"
   ]
  },
  {
   "cell_type": "code",
   "execution_count": null,
   "id": "e722391a",
   "metadata": {},
   "outputs": [],
   "source": []
  },
  {
   "cell_type": "markdown",
   "id": "99ccc0d0",
   "metadata": {},
   "source": [
    "### Pretrained"
   ]
  },
  {
   "cell_type": "code",
   "execution_count": 69,
   "id": "1371a429",
   "metadata": {},
   "outputs": [],
   "source": [
    "custom_gen = model_p.generate(inputs, patch_images=patch_img, num_beams=5, no_repeat_ngram_size=3)"
   ]
  },
  {
   "cell_type": "code",
   "execution_count": 70,
   "id": "28ef6a38",
   "metadata": {},
   "outputs": [
    {
     "data": {
      "image/png": "[encoded data removed]",
      "text/plain": [
       "<PIL.PngImagePlugin.PngImageFile image mode=RGBA size=304x231>"
      ]
     },
     "metadata": {},
     "output_type": "display_data"
    },
    {
     "name": "stdout",
     "output_type": "stream",
     "text": [
      "yellow block on top of red block no\n"
     ]
    }
   ],
   "source": [
    "display(img)\n",
    "print(tokenizer_p.batch_decode(custom_gen, skip_special_tokens=True)[0].strip())"
   ]
  },
  {
   "cell_type": "markdown",
   "id": "6d323399",
   "metadata": {},
   "source": [
    "### Fine tuned"
   ]
  },
  {
   "cell_type": "code",
   "execution_count": 71,
   "id": "648a796d",
   "metadata": {},
   "outputs": [],
   "source": [
    "custom_gen_fin = model_f.generate(inputs, patch_images=patch_img, num_beams=5, no_repeat_ngram_size=3)"
   ]
  },
  {
   "cell_type": "code",
   "execution_count": 72,
   "id": "eaeaae71",
   "metadata": {},
   "outputs": [
    {
     "data": {
      "image/png": "[encoded data removed]",
      "text/plain": [
       "<PIL.PngImagePlugin.PngImageFile image mode=RGBA size=304x231>"
      ]
     },
     "metadata": {},
     "output_type": "display_data"
    },
    {
     "name": "stdout",
     "output_type": "stream",
     "text": [
      "no\n"
     ]
    }
   ],
   "source": [
    "display(img)\n",
    "print(tokenizer_p.batch_decode(custom_gen_fin, skip_special_tokens=True)[0].strip())"
   ]
  },
  {
   "cell_type": "markdown",
   "id": "8106fc34",
   "metadata": {},
   "source": [
    "## Push to hub"
   ]
  },
  {
   "cell_type": "code",
   "execution_count": 1,
   "id": "e1e12fac",
   "metadata": {},
   "outputs": [],
   "source": [
    "from core.ofa import OFATokenizer\n",
    "from core.ofa.modeling_ofa import OFAModelForVQA\n",
    "from core.ofa.configuration_ofa import OFAConfig"
   ]
  },
  {
   "cell_type": "code",
   "execution_count": 5,
   "id": "7886faf0",
   "metadata": {},
   "outputs": [
    {
     "name": "stdout",
     "output_type": "stream",
     "text": [
      "/coc/scratch/sanisetty3/DLM/OFA-tiny-vqa-finetune/\n",
      "<super: <class 'OFATokenizer'>, <OFATokenizer object>>\n"
     ]
    }
   ],
   "source": [
    "fine_tuned =\"/coc/scratch/sanisetty3/DLM/OFA-tiny-vqa-finetune/\"\n",
    "pretrained ='/coc/scratch/sanisetty3/DLM/OFA-tiny/'\n",
    "\n",
    "tokenizer_p = OFATokenizer.from_pretrained(fine_tuned)\n"
   ]
  },
  {
   "cell_type": "code",
   "execution_count": null,
   "id": "26fa4002",
   "metadata": {},
   "outputs": [],
   "source": []
  },
  {
   "cell_type": "code",
   "execution_count": 6,
   "id": "ac3c095a",
   "metadata": {},
   "outputs": [
    {
     "name": "stdout",
     "output_type": "stream",
     "text": [
      "Token is valid.\n",
      "\u001b[1m\u001b[31mCannot authenticate through git-credential as no helper is defined on your machine.\n",
      "You might have to re-authenticate when pushing to the Hugging Face Hub.\n",
      "Run the following command in your terminal in case you want to set the 'store' credential helper as default.\n",
      "\n",
      "git config --global credential.helper store\n",
      "\n",
      "Read https://git-scm.com/book/en/v2/Git-Tools-Credential-Storage for more details.\u001b[0m\n",
      "Token has not been saved to git credential helper.\n",
      "Your token has been saved to /nethome/sanisetty3/.cache/huggingface/token\n",
      "Login successful\n"
     ]
    }
   ],
   "source": [
    "from huggingface_hub import notebook_login\n",
    "\n",
    "notebook_login()"
   ]
  },
  {
   "cell_type": "code",
   "execution_count": 8,
   "id": "4374423f",
   "metadata": {},
   "outputs": [
    {
     "name": "stdout",
     "output_type": "stream",
     "text": [
      "\u001b[1m\u001b[31mWARNING! Managing repositories through transformers-cli is deprecated. Please use `huggingface-cli` instead.\u001b[0m\n",
      "\u001b[90mgit version 2.7.4\u001b[0m\n",
      "\u001b[90mgit-lfs/2.7.2 (GitHub; linux amd64; go 1.12.4)\u001b[0m\n",
      "\n",
      "Traceback (most recent call last):\n",
      "  File \"/srv/share2/sanisetty3/miniconda3/envs/DLM/bin/transformers-cli\", line 8, in <module>\n",
      "    sys.exit(main())\n",
      "  File \"/srv/share2/sanisetty3/miniconda3/envs/DLM/lib/python3.9/site-packages/transformers/commands/transformers_cli.py\", line 55, in main\n",
      "    service.run()\n",
      "  File \"/srv/share2/sanisetty3/miniconda3/envs/DLM/lib/python3.9/site-packages/transformers/commands/user.py\", line 177, in run\n",
      "    user, _ = whoami(token)\n",
      "ValueError: too many values to unpack (expected 2)\n"
     ]
    }
   ],
   "source": [
    "!transformers-cli repo create OFA-tiny-vqa-finetune"
   ]
  },
  {
   "cell_type": "code",
   "execution_count": null,
   "id": "0b89c47f",
   "metadata": {},
   "outputs": [],
   "source": []
  }
 ],
 "metadata": {
  "kernelspec": {
   "display_name": "Python 3 (ipykernel)",
   "language": "python",
   "name": "python3"
  },
  "language_info": {
   "codemirror_mode": {
    "name": "ipython",
    "version": 3
   },
   "file_extension": ".py",
   "mimetype": "text/x-python",
   "name": "python",
   "nbconvert_exporter": "python",
   "pygments_lexer": "ipython3",
   "version": "3.9.16"
  }
 },
 "nbformat": 4,
 "nbformat_minor": 5
}
