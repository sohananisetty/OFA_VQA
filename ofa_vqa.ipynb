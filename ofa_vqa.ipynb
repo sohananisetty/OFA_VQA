{
 "cells": [
  {
   "cell_type": "code",
   "execution_count": 44,
   "id": "ff98f73d",
   "metadata": {},
   "outputs": [
    {
     "name": "stdout",
     "output_type": "stream",
     "text": [
      "Using device: cuda\n",
      "\n",
      "GeForce RTX 2080 Ti\n",
      "Memory Usage:\n",
      "Allocated: 0.0 GB\n",
      "Cached:    0.0 GB\n"
     ]
    }
   ],
   "source": [
    "# setting device on GPU if available, else CPU\n",
    "import torch\n",
    "device = torch.device('cuda' if torch.cuda.is_available() else 'cpu')\n",
    "print('Using device:', device)\n",
    "print()\n",
    "\n",
    "#Additional Info when using cuda\n",
    "if device.type == 'cuda':\n",
    "    print(torch.cuda.get_device_name(0))\n",
    "    print('Memory Usage:')\n",
    "    print('Allocated:', round(torch.cuda.memory_allocated(0)/1024**3,1), 'GB')\n",
    "    \n",
    "    print('Cached:   ', round(torch.cuda.memory_reserved(0)/1024**3,1), 'GB')\n",
    "if torch.cuda.device_count() > 1:\n",
    "    print(\"Using \", torch.cuda.device_count(), \"GPUs!\")"
   ]
  },
  {
   "cell_type": "code",
   "execution_count": 45,
   "id": "a9557b63",
   "metadata": {},
   "outputs": [
    {
     "name": "stdout",
     "output_type": "stream",
     "text": [
      "The autoreload extension is already loaded. To reload it, use:\n",
      "  %reload_ext autoreload\n"
     ]
    }
   ],
   "source": [
    "%load_ext autoreload\n",
    "%autoreload 2"
   ]
  },
  {
   "cell_type": "code",
   "execution_count": 46,
   "id": "162b27ef",
   "metadata": {},
   "outputs": [],
   "source": [
    "import copy\n",
    "import os\n",
    "import random\n",
    "import cv2\n",
    "import numpy as np\n",
    "from PIL import Image\n",
    "import matplotlib.pyplot as plt\n",
    "from glob import glob\n",
    "import functools\n",
    "from PIL import Image\n",
    "import argparse\n",
    "import os\n",
    "import numpy as np\n",
    "import random\n",
    "import time\n",
    "import datetime\n",
    "import json\n",
    "from pathlib import Path\n",
    "\n",
    "\n",
    "import torch\n",
    "import torch.nn as nn\n",
    "import torch.nn.functional as F\n",
    "from torch.utils.data import DataLoader\n",
    "import transformers"
   ]
  },
  {
   "cell_type": "code",
   "execution_count": 48,
   "id": "90cd98bd",
   "metadata": {},
   "outputs": [],
   "source": [
    "from PIL import Image\n",
    "from torchvision import transforms\n",
    "from core.ofa import OFATokenizer, OFAModel\n",
    "from core.ofa.generate import sequence_generator"
   ]
  },
  {
   "cell_type": "code",
   "execution_count": 49,
   "id": "f6c5cfdb",
   "metadata": {},
   "outputs": [],
   "source": [
    "from transformers import (\n",
    "    HfArgumentParser,\n",
    "    TrainingArguments,\n",
    ")"
   ]
  },
  {
   "cell_type": "code",
   "execution_count": 53,
   "id": "5b2c987d",
   "metadata": {},
   "outputs": [],
   "source": [
    "from ctl.vqa_arguments import VQAArguments"
   ]
  },
  {
   "cell_type": "code",
   "execution_count": 68,
   "id": "8d37d7d8",
   "metadata": {},
   "outputs": [],
   "source": [
    "from core.ofa.modeling_ofa import OFAModelForVQA"
   ]
  },
  {
   "cell_type": "code",
   "execution_count": null,
   "id": "d20c9884",
   "metadata": {},
   "outputs": [],
   "source": []
  },
  {
   "cell_type": "code",
   "execution_count": null,
   "id": "7ac7c4e2",
   "metadata": {},
   "outputs": [],
   "source": []
  },
  {
   "cell_type": "code",
   "execution_count": null,
   "id": "6bdad179",
   "metadata": {},
   "outputs": [],
   "source": []
  },
  {
   "cell_type": "code",
   "execution_count": null,
   "id": "cb314ed3",
   "metadata": {},
   "outputs": [],
   "source": []
  },
  {
   "cell_type": "code",
   "execution_count": 60,
   "id": "b625d58e",
   "metadata": {},
   "outputs": [],
   "source": [
    "mean, std = [0.5, 0.5, 0.5], [0.5, 0.5, 0.5]\n",
    "resolution = 480"
   ]
  },
  {
   "cell_type": "code",
   "execution_count": 61,
   "id": "91f9f899",
   "metadata": {},
   "outputs": [
    {
     "name": "stderr",
     "output_type": "stream",
     "text": [
      "/srv/share2/sanisetty3/miniconda3/envs/DLM/lib/python3.9/site-packages/torchvision/transforms/transforms.py:332: UserWarning: Argument interpolation should be of type InterpolationMode instead of int. Please, use InterpolationMode enum.\n",
      "  warnings.warn(\n"
     ]
    }
   ],
   "source": [
    "patch_resize_transform = transforms.Compose([\n",
    "    lambda image: image.convert(\"RGB\"),\n",
    "    transforms.Resize((resolution, resolution), interpolation=Image.BICUBIC),\n",
    "    transforms.ToTensor(), \n",
    "    transforms.Normalize(mean=mean, std=std)\n",
    "])"
   ]
  },
  {
   "cell_type": "code",
   "execution_count": 12,
   "id": "e04ccd13",
   "metadata": {},
   "outputs": [
    {
     "data": {
      "text/plain": [
       "'/coc/scratch/sanisetty3/DLM/OFA_VQA'"
      ]
     },
     "execution_count": 12,
     "metadata": {},
     "output_type": "execute_result"
    }
   ],
   "source": [
    "pwd"
   ]
  },
  {
   "cell_type": "code",
   "execution_count": 63,
   "id": "ae8da579",
   "metadata": {},
   "outputs": [
    {
     "name": "stdout",
     "output_type": "stream",
     "text": [
      "./OFA-tiny\n",
      "<super: <class 'OFATokenizer'>, <OFATokenizer object>>\n"
     ]
    }
   ],
   "source": [
    "ckpt_dir='./OFA-tiny'\n",
    "tokenizer = OFATokenizer.from_pretrained(ckpt_dir)"
   ]
  },
  {
   "cell_type": "code",
   "execution_count": 64,
   "id": "758a8d16",
   "metadata": {},
   "outputs": [],
   "source": [
    "txt = \"How many blocks are there?\"\n",
    "inputs = tokenizer([txt], return_tensors=\"pt\").input_ids\n",
    "img = Image.open('./samples/i1.jpeg')\n",
    "patch_img = patch_resize_transform(img).unsqueeze(0)"
   ]
  },
  {
   "cell_type": "code",
   "execution_count": 65,
   "id": "e3c7a88d",
   "metadata": {},
   "outputs": [
    {
     "data": {
      "image/png": "[encoded data removed]",
      "text/plain": [
       "<PIL.JpegImagePlugin.JpegImageFile image mode=RGB size=320x180>"
      ]
     },
     "execution_count": 65,
     "metadata": {},
     "output_type": "execute_result"
    }
   ],
   "source": [
    "img"
   ]
  },
  {
   "cell_type": "code",
   "execution_count": 69,
   "id": "d6fc6de5",
   "metadata": {},
   "outputs": [],
   "source": [
    "model = OFAModelForVQA.from_pretrained(ckpt_dir, use_cache=False)"
   ]
  },
  {
   "cell_type": "code",
   "execution_count": 70,
   "id": "75bafe73",
   "metadata": {},
   "outputs": [],
   "source": [
    "check = torch.load(\"./OFA-tiny/pytorch_model.bin\")"
   ]
  },
  {
   "cell_type": "code",
   "execution_count": null,
   "id": "ad1488ec",
   "metadata": {},
   "outputs": [],
   "source": []
  },
  {
   "cell_type": "code",
   "execution_count": 23,
   "id": "74d00a03",
   "metadata": {},
   "outputs": [],
   "source": [
    "gen = model.generate(inputs, patch_images=patch_img, num_beams=5, no_repeat_ngram_size=3)"
   ]
  },
  {
   "cell_type": "code",
   "execution_count": 18,
   "id": "b0768495",
   "metadata": {},
   "outputs": [],
   "source": [
    "import transformers"
   ]
  },
  {
   "cell_type": "code",
   "execution_count": null,
   "id": "51b35852",
   "metadata": {},
   "outputs": [],
   "source": []
  },
  {
   "cell_type": "code",
   "execution_count": 24,
   "id": "94dbf0d8",
   "metadata": {},
   "outputs": [
    {
     "data": {
      "image/png": "[encoded data removed]",
      "text/plain": [
       "<PIL.JpegImagePlugin.JpegImageFile image mode=RGB size=320x180>"
      ]
     },
     "metadata": {},
     "output_type": "display_data"
    },
    {
     "name": "stdout",
     "output_type": "stream",
     "text": [
      "2\n"
     ]
    }
   ],
   "source": [
    "display(img)\n",
    "print(tokenizer.batch_decode(gen, skip_special_tokens=True)[0].strip())"
   ]
  },
  {
   "cell_type": "code",
   "execution_count": 24,
   "id": "2a5585cb",
   "metadata": {},
   "outputs": [],
   "source": [
    "batch = {\n",
    "            \"input_ids\": inputs,\n",
    "            \"patch_images\":patch_img,\n",
    "            'return_loss': True,\n",
    "            \"target\" :inputs,\n",
    "\n",
    "        }"
   ]
  },
  {
   "cell_type": "code",
   "execution_count": 21,
   "id": "49673517",
   "metadata": {},
   "outputs": [],
   "source": [
    "def f(input_ids,patch_images,return_loss,defrw = 6):\n",
    "    print(input_ids.shape)\n",
    "    print(patch_images.shape)\n",
    "    print(return_loss)"
   ]
  },
  {
   "cell_type": "code",
   "execution_count": 25,
   "id": "ca47e85f",
   "metadata": {},
   "outputs": [
    {
     "ename": "TypeError",
     "evalue": "f() got an unexpected keyword argument 'target'",
     "output_type": "error",
     "traceback": [
      "\u001b[0;31m---------------------------------------------------------------------------\u001b[0m",
      "\u001b[0;31mTypeError\u001b[0m                                 Traceback (most recent call last)",
      "\u001b[0;32m<ipython-input-25-0d8ec8dd9419>\u001b[0m in \u001b[0;36m<module>\u001b[0;34m\u001b[0m\n\u001b[0;32m----> 1\u001b[0;31m \u001b[0mf\u001b[0m\u001b[0;34m(\u001b[0m\u001b[0;34m**\u001b[0m\u001b[0mbatch\u001b[0m\u001b[0;34m)\u001b[0m\u001b[0;34m\u001b[0m\u001b[0;34m\u001b[0m\u001b[0m\n\u001b[0m",
      "\u001b[0;31mTypeError\u001b[0m: f() got an unexpected keyword argument 'target'"
     ]
    }
   ],
   "source": [
    "f(**batch)"
   ]
  },
  {
   "cell_type": "code",
   "execution_count": null,
   "id": "1b50921e",
   "metadata": {},
   "outputs": [],
   "source": []
  },
  {
   "cell_type": "code",
   "execution_count": 71,
   "id": "e402ff9e",
   "metadata": {},
   "outputs": [
    {
     "data": {
      "text/plain": [
       "tensor([[0, 2],\n",
       "        [0, 2]])"
      ]
     },
     "execution_count": 71,
     "metadata": {},
     "output_type": "execute_result"
    }
   ],
   "source": [
    "tokenizer([\"\" , ''], return_tensors=\"pt\").input_ids"
   ]
  },
  {
   "cell_type": "code",
   "execution_count": 31,
   "id": "e216c5b0",
   "metadata": {},
   "outputs": [],
   "source": [
    "inputs = tokenizer([\" What is your name\" , \"hand\" , \"\"], return_tensors=\"pt\" , max_length=128, truncation=True, padding=True)"
   ]
  },
  {
   "cell_type": "code",
   "execution_count": 36,
   "id": "94d0726d",
   "metadata": {},
   "outputs": [],
   "source": [
    "input1 = tokenizer([\" What is your name\"], return_tensors=\"pt\" , max_length=128, truncation=True, padding=True).input_ids\n",
    "input2 = tokenizer([\" hand\"], return_tensors=\"pt\" , max_length=128, truncation=True, padding=True).input_ids"
   ]
  },
  {
   "cell_type": "code",
   "execution_count": 82,
   "id": "ccc89fc0",
   "metadata": {},
   "outputs": [
    {
     "data": {
      "text/plain": [
       "tensor([  0, 653,  16, 110, 766,   2])"
      ]
     },
     "execution_count": 82,
     "metadata": {},
     "output_type": "execute_result"
    }
   ],
   "source": [
    "input1[0]"
   ]
  },
  {
   "cell_type": "code",
   "execution_count": 46,
   "id": "d9acc28e",
   "metadata": {},
   "outputs": [],
   "source": [
    "pad = torch.LongTensor([1])"
   ]
  },
  {
   "cell_type": "code",
   "execution_count": 50,
   "id": "0cb8946e",
   "metadata": {},
   "outputs": [
    {
     "data": {
      "text/plain": [
       "[tensor(6), tensor(3), tensor(2)]"
      ]
     },
     "execution_count": 50,
     "metadata": {},
     "output_type": "execute_result"
    }
   ],
   "source": [
    "[s.ne(pad).long().sum() for s in inputs.input_ids]"
   ]
  },
  {
   "cell_type": "code",
   "execution_count": 32,
   "id": "ffa83574",
   "metadata": {},
   "outputs": [
    {
     "data": {
      "text/plain": [
       "tensor([[1, 1, 1, 1, 1, 1],\n",
       "        [1, 1, 1, 0, 0, 0],\n",
       "        [1, 1, 0, 0, 0, 0]])"
      ]
     },
     "execution_count": 32,
     "metadata": {},
     "output_type": "execute_result"
    }
   ],
   "source": [
    "inputs.attention_mask"
   ]
  },
  {
   "cell_type": "code",
   "execution_count": 43,
   "id": "329b0173",
   "metadata": {},
   "outputs": [
    {
     "data": {
      "text/plain": [
       "tensor([[   0,  653,   16,  110,  766,    2],\n",
       "        [   0, 4539,    2,    1,    1,    1],\n",
       "        [   0,    2,    1,    1,    1,    1]])"
      ]
     },
     "execution_count": 43,
     "metadata": {},
     "output_type": "execute_result"
    }
   ],
   "source": [
    "inputs.input_ids"
   ]
  },
  {
   "cell_type": "code",
   "execution_count": 54,
   "id": "89a9e778",
   "metadata": {},
   "outputs": [],
   "source": [
    "bos = torch.LongTensor([tokenizer.bos_token_id])"
   ]
  },
  {
   "cell_type": "code",
   "execution_count": 68,
   "id": "865a4559",
   "metadata": {},
   "outputs": [
    {
     "data": {
      "text/plain": [
       "[0]"
      ]
     },
     "execution_count": 68,
     "metadata": {},
     "output_type": "execute_result"
    }
   ],
   "source": [
    "bos.tolist()"
   ]
  },
  {
   "cell_type": "code",
   "execution_count": 89,
   "id": "65b94add",
   "metadata": {},
   "outputs": [
    {
     "data": {
      "text/plain": [
       "tensor([], size=(2, 0), dtype=torch.int64)"
      ]
     },
     "execution_count": 89,
     "metadata": {},
     "output_type": "execute_result"
    }
   ],
   "source": [
    "torch.repeat_interleave(bos , len(inputs)).reshape(-1,1)[:, 1:]"
   ]
  },
  {
   "cell_type": "code",
   "execution_count": 72,
   "id": "611f8cdb",
   "metadata": {},
   "outputs": [],
   "source": [
    "def collate_tokens(\n",
    "    values,\n",
    "    pad_idx,\n",
    "    eos_idx=None,\n",
    "    left_pad=False,\n",
    "    move_eos_to_beginning=False,\n",
    "    pad_to_length=None,\n",
    "    pad_to_multiple=1,\n",
    "    pad_to_bsz=None,\n",
    "):\n",
    "    \"\"\"Convert a list of 1d tensors into a padded 2d tensor.\"\"\"\n",
    "    size = max(v.size(0) for v in values)\n",
    "    size = size if pad_to_length is None else max(size, pad_to_length)\n",
    "    if pad_to_multiple != 1 and size % pad_to_multiple != 0:\n",
    "        size = int(((size - 0.1) // pad_to_multiple + 1) * pad_to_multiple)\n",
    "\n",
    "    def copy_tensor(src, dst):\n",
    "        assert dst.numel() == src.numel()\n",
    "        if move_eos_to_beginning:\n",
    "            if eos_idx is None:\n",
    "                # if no eos_idx is specified, then use the last token in src\n",
    "                dst[0] = src[-1]\n",
    "            else:\n",
    "                dst[0] = eos_idx\n",
    "            dst[1:] = src[:-1]\n",
    "        else:\n",
    "            dst.copy_(src)\n",
    "\n",
    "    if values[0].dim() == 1:\n",
    "        res = values[0].new(len(values), size).fill_(pad_idx)\n",
    "    elif values[0].dim() == 2:\n",
    "        assert move_eos_to_beginning is False\n",
    "        res = values[0].new(len(values), size, values[0].size(1)).fill_(pad_idx)\n",
    "    else:\n",
    "        raise NotImplementedError\n",
    "\n",
    "    for i, v in enumerate(values):\n",
    "        copy_tensor(v, res[i][size - len(v) :] if left_pad else res[i][: len(v)])\n",
    "    return res"
   ]
  },
  {
   "cell_type": "code",
   "execution_count": 84,
   "id": "6dafc381",
   "metadata": {},
   "outputs": [],
   "source": [
    "inputs = tokenizer([\" What is your name\" , \" hand\"], return_tensors=\"pt\" , max_length=128, truncation=True, padding=True)"
   ]
  },
  {
   "cell_type": "code",
   "execution_count": 86,
   "id": "c409b031",
   "metadata": {},
   "outputs": [
    {
     "data": {
      "text/plain": [
       "tensor([[0],\n",
       "        [0]])"
      ]
     },
     "execution_count": 86,
     "metadata": {},
     "output_type": "execute_result"
    }
   ],
   "source": [
    "collate_tokens(\n",
    "            [bos,bos],\n",
    "            1,\n",
    "            eos_idx=2,\n",
    "        )"
   ]
  },
  {
   "cell_type": "code",
   "execution_count": 85,
   "id": "ce1eac3d",
   "metadata": {},
   "outputs": [
    {
     "data": {
      "text/plain": [
       "tensor([[  0, 653,  16, 110, 766,   2],\n",
       "        [  0, 865,   2,   1,   1,   1]])"
      ]
     },
     "execution_count": 85,
     "metadata": {},
     "output_type": "execute_result"
    }
   ],
   "source": [
    "inputs.input_ids"
   ]
  },
  {
   "cell_type": "code",
   "execution_count": null,
   "id": "362a743e",
   "metadata": {},
   "outputs": [],
   "source": []
  }
 ],
 "metadata": {
  "kernelspec": {
   "display_name": "Python 3",
   "language": "python",
   "name": "python3"
  },
  "language_info": {
   "codemirror_mode": {
    "name": "ipython",
    "version": 3
   },
   "file_extension": ".py",
   "mimetype": "text/x-python",
   "name": "python",
   "nbconvert_exporter": "python",
   "pygments_lexer": "ipython3",
   "version": "3.9.16"
  }
 },
 "nbformat": 4,
 "nbformat_minor": 5
}
