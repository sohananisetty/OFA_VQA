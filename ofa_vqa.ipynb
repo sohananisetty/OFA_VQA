{
 "cells": [
  {
   "cell_type": "code",
   "execution_count": 1,
   "id": "ff98f73d",
   "metadata": {},
   "outputs": [
    {
     "name": "stdout",
     "output_type": "stream",
     "text": [
      "Using device: cuda\n",
      "\n",
      "GeForce RTX 2080 Ti\n",
      "Memory Usage:\n",
      "Allocated: 0.0 GB\n",
      "Cached:    0.0 GB\n"
     ]
    }
   ],
   "source": [
    "# setting device on GPU if available, else CPU\n",
    "import torch\n",
    "device = torch.device('cuda' if torch.cuda.is_available() else 'cpu')\n",
    "print('Using device:', device)\n",
    "print()\n",
    "\n",
    "#Additional Info when using cuda\n",
    "if device.type == 'cuda':\n",
    "    print(torch.cuda.get_device_name(0))\n",
    "    print('Memory Usage:')\n",
    "    print('Allocated:', round(torch.cuda.memory_allocated(0)/1024**3,1), 'GB')\n",
    "    \n",
    "    print('Cached:   ', round(torch.cuda.memory_reserved(0)/1024**3,1), 'GB')\n",
    "if torch.cuda.device_count() > 1:\n",
    "    print(\"Using \", torch.cuda.device_count(), \"GPUs!\")"
   ]
  },
  {
   "cell_type": "code",
   "execution_count": 2,
   "id": "a9557b63",
   "metadata": {},
   "outputs": [],
   "source": [
    "%load_ext autoreload\n",
    "%autoreload 2"
   ]
  },
  {
   "cell_type": "code",
   "execution_count": 3,
   "id": "162b27ef",
   "metadata": {},
   "outputs": [],
   "source": [
    "import copy\n",
    "import os\n",
    "import random\n",
    "import cv2\n",
    "import numpy as np\n",
    "from PIL import Image\n",
    "import matplotlib.pyplot as plt\n",
    "from glob import glob\n",
    "import functools\n",
    "from PIL import Image\n",
    "import argparse\n",
    "import os\n",
    "import numpy as np\n",
    "import random\n",
    "import time\n",
    "import datetime\n",
    "import json\n",
    "from pathlib import Path\n",
    "\n",
    "\n",
    "import torch\n",
    "import torch.nn as nn\n",
    "import torch.nn.functional as F\n",
    "from torch.utils.data import DataLoader\n",
    "import transformers"
   ]
  },
  {
   "cell_type": "code",
   "execution_count": 4,
   "id": "90cd98bd",
   "metadata": {},
   "outputs": [],
   "source": [
    "from PIL import Image\n",
    "from torchvision import transforms\n",
    "from core.ofa import OFATokenizer, OFAModel\n",
    "from core.ofa.generate import sequence_generator"
   ]
  },
  {
   "cell_type": "code",
   "execution_count": 5,
   "id": "422b9ec0",
   "metadata": {},
   "outputs": [],
   "source": [
    "from core.datasets.vqa_gen_dataset import VqaGenDataset , VQACollator, VqaDataset, VqaStackDataset\n",
    "from core.ofa.label_smoothed_cross_entropy import AdjustLabelSmoothedCrossEntropyCriterion\n",
    "from core.ofa import OFATokenizer\n",
    "from core.ofa.modeling_ofa import OFAModelForVQA\n",
    "from core.ofa.configuration_ofa import OFAConfig\n",
    "from accelerate import Accelerator\n",
    "from accelerate.utils import DistributedDataParallelKwargs\n",
    "from accelerate import DistributedType"
   ]
  },
  {
   "cell_type": "code",
   "execution_count": 6,
   "id": "9ec3bc1c",
   "metadata": {},
   "outputs": [],
   "source": [
    "import transformers"
   ]
  },
  {
   "cell_type": "markdown",
   "id": "e336ce8a",
   "metadata": {},
   "source": [
    "## Convert pt to pretrained bin"
   ]
  },
  {
   "cell_type": "code",
   "execution_count": 7,
   "id": "75b6a473",
   "metadata": {},
   "outputs": [],
   "source": [
    "pretrained ='/coc/scratch/sanisetty3/DLM/OFA-base-vqa/'\n",
    "fine_tuned =\"/srv/scratch/sanisetty3/DLM/OFA_VQA/checkpoints/base_vqa/ofa_vqa.33000.pt\"\n"
   ]
  },
  {
   "cell_type": "code",
   "execution_count": 8,
   "id": "3d6cf87f",
   "metadata": {},
   "outputs": [],
   "source": [
    "kwargs = DistributedDataParallelKwargs(find_unused_parameters = True)\n",
    "accelerator = Accelerator(kwargs_handlers = [kwargs])"
   ]
  },
  {
   "cell_type": "code",
   "execution_count": 9,
   "id": "964852e2",
   "metadata": {},
   "outputs": [],
   "source": [
    "# fine_tuned =\"/srv/scratch/sanisetty3/DLM/OFA_VQA/checkpoints/results/ofa_vqa.32000.pt\"\n",
    "pkg = torch.load(fine_tuned, map_location = 'cpu')"
   ]
  },
  {
   "cell_type": "code",
   "execution_count": 10,
   "id": "db7c83e0",
   "metadata": {},
   "outputs": [
    {
     "name": "stderr",
     "output_type": "stream",
     "text": [
      "/srv/share2/sanisetty3/miniconda3/envs/ai-choreo/lib/python3.7/site-packages/torch/functional.py:504: UserWarning: torch.meshgrid: in an upcoming release, it will be required to pass the indexing argument. (Triggered internally at /opt/conda/conda-bld/pytorch_1670525553989/work/aten/src/ATen/native/TensorShape.cpp:3190.)\n",
      "  return _VF.meshgrid(tensors, **kwargs)  # type: ignore[attr-defined]\n"
     ]
    }
   ],
   "source": [
    "ofa_config = OFAConfig.from_pretrained('/coc/scratch/sanisetty3/DLM/OFA-base-vqa/')\n",
    "vqa_model = OFAModelForVQA(ofa_config)"
   ]
  },
  {
   "cell_type": "code",
   "execution_count": 11,
   "id": "2ab47d40",
   "metadata": {},
   "outputs": [],
   "source": [
    "unwrapped_model = accelerator.unwrap_model(vqa_model)"
   ]
  },
  {
   "cell_type": "code",
   "execution_count": 12,
   "id": "9f3b0f70",
   "metadata": {},
   "outputs": [
    {
     "data": {
      "text/plain": [
       "<All keys matched successfully>"
      ]
     },
     "execution_count": 12,
     "metadata": {},
     "output_type": "execute_result"
    }
   ],
   "source": [
    "unwrapped_model.load_state_dict(pkg['model'])"
   ]
  },
  {
   "cell_type": "code",
   "execution_count": 13,
   "id": "81fc93a5",
   "metadata": {},
   "outputs": [],
   "source": [
    "unwrapped_model.save_pretrained('/coc/scratch/sanisetty3/DLM/ofa-base-vqa/', save_function=accelerator.save)"
   ]
  },
  {
   "cell_type": "code",
   "execution_count": null,
   "id": "6410b369",
   "metadata": {},
   "outputs": [],
   "source": []
  },
  {
   "cell_type": "code",
   "execution_count": null,
   "id": "ad09bb07",
   "metadata": {},
   "outputs": [],
   "source": []
  },
  {
   "cell_type": "code",
   "execution_count": null,
   "id": "0105424b",
   "metadata": {},
   "outputs": [],
   "source": []
  },
  {
   "cell_type": "markdown",
   "id": "e0e61a25",
   "metadata": {},
   "source": [
    "##  Weight transfer to transformer model"
   ]
  },
  {
   "cell_type": "code",
   "execution_count": 79,
   "id": "739c6e9d",
   "metadata": {},
   "outputs": [],
   "source": [
    "model_b = OFAModelForVQA.from_pretrained(\"OFA-base/\", use_cache=False)\n"
   ]
  },
  {
   "cell_type": "code",
   "execution_count": 81,
   "id": "46e156e2",
   "metadata": {},
   "outputs": [],
   "source": [
    "base = torch.load(\"OFA-base/pytorch_model.bin\")"
   ]
  },
  {
   "cell_type": "code",
   "execution_count": 172,
   "id": "cca25dbf",
   "metadata": {},
   "outputs": [],
   "source": [
    "base_vqa = torch.load(\"vqa_base_best.pt\")[\"model\"]\n",
    "del base_vqa[\"encoder.version\"]\n",
    "del base_vqa[\"decoder.version\"]"
   ]
  },
  {
   "cell_type": "code",
   "execution_count": null,
   "id": "23144c2f",
   "metadata": {},
   "outputs": [],
   "source": []
  },
  {
   "cell_type": "code",
   "execution_count": 173,
   "id": "defc4e1d",
   "metadata": {},
   "outputs": [],
   "source": [
    "def change_key(self, old, new):\n",
    "    for _ in range(len(self)):\n",
    "        k, v = self.popitem(False)\n",
    "        self[new if old == k else k] = v"
   ]
  },
  {
   "cell_type": "code",
   "execution_count": 174,
   "id": "906e7340",
   "metadata": {},
   "outputs": [],
   "source": [
    " my_dic_keys = list(base_vqa.keys())"
   ]
  },
  {
   "cell_type": "code",
   "execution_count": 175,
   "id": "ee4b7eeb",
   "metadata": {
    "scrolled": true
   },
   "outputs": [
    {
     "name": "stdout",
     "output_type": "stream",
     "text": [
      "encoder.layers.0.attn_ln.weight\n",
      "encoder.layers.0.attn_ln.bias\n",
      "encoder.layers.0.ffn_layernorm.weight\n",
      "encoder.layers.0.ffn_layernorm.bias\n",
      "encoder.layers.1.attn_ln.weight\n",
      "encoder.layers.1.attn_ln.bias\n",
      "encoder.layers.1.ffn_layernorm.weight\n",
      "encoder.layers.1.ffn_layernorm.bias\n",
      "encoder.layers.2.attn_ln.weight\n",
      "encoder.layers.2.attn_ln.bias\n",
      "encoder.layers.2.ffn_layernorm.weight\n",
      "encoder.layers.2.ffn_layernorm.bias\n",
      "encoder.layers.3.attn_ln.weight\n",
      "encoder.layers.3.attn_ln.bias\n",
      "encoder.layers.3.ffn_layernorm.weight\n",
      "encoder.layers.3.ffn_layernorm.bias\n",
      "encoder.layers.4.attn_ln.weight\n",
      "encoder.layers.4.attn_ln.bias\n",
      "encoder.layers.4.ffn_layernorm.weight\n",
      "encoder.layers.4.ffn_layernorm.bias\n",
      "encoder.layers.5.attn_ln.weight\n",
      "encoder.layers.5.attn_ln.bias\n",
      "encoder.layers.5.ffn_layernorm.weight\n",
      "encoder.layers.5.ffn_layernorm.bias\n"
     ]
    }
   ],
   "source": [
    "for i in my_dic_keys:\n",
    "#     print(i)\n",
    "    if \"ffn_layernorm\" in i and \"encoder\" in i:\n",
    "        new = str(i).replace(\"ffn_layernorm\",\"ffn_layer_norm\")\n",
    "        change_key(base_vqa , i , new)\n",
    "        print(i)\n",
    "    if \"attn_ln\" in i and \"encoder\" in i:\n",
    "        new = str(i).replace(\"attn_ln\",\"self_attn_mid_layer_norm\")\n",
    "        change_key(base_vqa , i , new)\n",
    "        print(i)\n",
    "        \n",
    "    if \"encoder_attn\" in i and \"decoder\" in i:\n",
    "        new = str(i).replace(\"encoder_attn\",\"cross_attn\")\n",
    "        change_key(base_vqa , i , new)\n",
    "        \n",
    "    if \"ffn_layernorm\" in i and \"decoder\" in i:\n",
    "        new = str(i).replace(\"ffn_layernorm\",\"ffn_layer_norm\")\n",
    "        change_key(base_vqa , i , new) \n",
    "        \n",
    "    if \"cross_attn_ln\" in i and \"decoder\" in i:\n",
    "        new = str(i).replace(\"cross_attn_ln\",\"cross_attn_mid_layer_norm\")\n",
    "        change_key(base_vqa , i , new) \n",
    "        \n",
    "    if \"self_attn_ln\" in i and \"decoder\" in i:\n",
    "        new = str(i).replace(\"self_attn_ln\",\"self_attn_mid_layer_norm\")\n",
    "        change_key(base_vqa , i , new) "
   ]
  },
  {
   "cell_type": "code",
   "execution_count": 176,
   "id": "d706aea5",
   "metadata": {},
   "outputs": [
    {
     "data": {
      "text/plain": [
       "0"
      ]
     },
     "execution_count": 176,
     "metadata": {},
     "output_type": "execute_result"
    }
   ],
   "source": [
    "mis = []\n",
    "for i in (base_vqa.keys()):\n",
    "    \n",
    "    if i in base.keys():\n",
    "        continue\n",
    "    else:\n",
    "        print(i)\n",
    "        mis.append(i)\n",
    "\n",
    "len(mis)"
   ]
  },
  {
   "cell_type": "code",
   "execution_count": 177,
   "id": "8533e4a1",
   "metadata": {},
   "outputs": [],
   "source": [
    "torch.save(base_vqa , \"OFA-base-vqa/pytorch_model.bin\")"
   ]
  },
  {
   "cell_type": "code",
   "execution_count": 178,
   "id": "13a746d3",
   "metadata": {},
   "outputs": [],
   "source": [
    "model_p = OFAModelForVQA.from_pretrained(\"OFA-base-vqa/\", use_cache=False)\n"
   ]
  },
  {
   "cell_type": "markdown",
   "id": "e204c4b6",
   "metadata": {},
   "source": [
    "## Test VQAv2"
   ]
  },
  {
   "cell_type": "code",
   "execution_count": 7,
   "id": "ea38b937",
   "metadata": {},
   "outputs": [
    {
     "ename": "NameError",
     "evalue": "name 'pretrained' is not defined",
     "output_type": "error",
     "traceback": [
      "\u001b[0;31m---------------------------------------------------------------------------\u001b[0m",
      "\u001b[0;31mNameError\u001b[0m                                 Traceback (most recent call last)",
      "Cell \u001b[0;32mIn[7], line 1\u001b[0m\n\u001b[0;32m----> 1\u001b[0m tokenizer_p \u001b[38;5;241m=\u001b[39m OFATokenizer\u001b[38;5;241m.\u001b[39mfrom_pretrained(\u001b[43mpretrained\u001b[49m)\n",
      "\u001b[0;31mNameError\u001b[0m: name 'pretrained' is not defined"
     ]
    }
   ],
   "source": [
    "tokenizer_p = OFATokenizer.from_pretrained(pretrained)\n"
   ]
  },
  {
   "cell_type": "code",
   "execution_count": null,
   "id": "2e60cf9a",
   "metadata": {},
   "outputs": [],
   "source": [
    "model_p = OFAModelForVQA.from_pretrained(pretrained, use_cache=False)\n",
    "model_f = OFAModelForVQA.from_pretrained('/coc/scratch/sanisetty3/DLM/OFA-tiny-fine-tune/', use_cache=False)"
   ]
  },
  {
   "cell_type": "code",
   "execution_count": null,
   "id": "91f9f899",
   "metadata": {},
   "outputs": [],
   "source": [
    "mean, std = [0.5, 0.5, 0.5], [0.5, 0.5, 0.5]\n",
    "resolution = 480\n",
    "\n",
    "patch_resize_transform = transforms.Compose([\n",
    "    lambda image: image.convert(\"RGB\"),\n",
    "    transforms.Resize((resolution, resolution), interpolation=Image.BICUBIC),\n",
    "    transforms.ToTensor(), \n",
    "    transforms.Normalize(mean=mean, std=std)\n",
    "])"
   ]
  },
  {
   "cell_type": "code",
   "execution_count": 155,
   "id": "758a8d16",
   "metadata": {},
   "outputs": [],
   "source": [
    "ann_file = os.path.join('/srv/scratch/sanisetty3/DLM/AliceMind/mPLUG/data/json/vqa_ocr_object/' ,\"vqa_train_ocr.json\")\n",
    "vqa_root = '/srv/datasets/coco/'\n"
   ]
  },
  {
   "cell_type": "code",
   "execution_count": 156,
   "id": "75bafe73",
   "metadata": {},
   "outputs": [
    {
     "name": "stdout",
     "output_type": "stream",
     "text": [
      "\n"
     ]
    }
   ],
   "source": [
    "ds = VqaDataset(\n",
    "    ann_file=[ann_file],\n",
    "    vqa_root=vqa_root,\n",
    ")\n",
    "data_collator = VQACollator(tokenizer=tokenizer_p, max_seq_length=128)\n",
    "dl = DataLoader(ds, batch_size = 8, collate_fn=data_collator ,num_workers = 0, shuffle = True)\n"
   ]
  },
  {
   "cell_type": "code",
   "execution_count": 157,
   "id": "9b960b8c",
   "metadata": {},
   "outputs": [],
   "source": [
    "for batch in dl:\n",
    "    break"
   ]
  },
  {
   "cell_type": "code",
   "execution_count": 158,
   "id": "428f7e2a",
   "metadata": {},
   "outputs": [
    {
     "name": "stdout",
     "output_type": "stream",
     "text": [
      "[' what fruit is growing on the bush?', ' is the horse outside?', ' is the saddle western?', ' how many frisbees is the man holding?', ' what is his name?', ' where is the clock?', ' does the tennis player have an audience?', ' what are the men looking at online?']\n"
     ]
    }
   ],
   "source": [
    "print(tokenizer_p.batch_decode(batch[\"input_ids\"], skip_special_tokens=True))"
   ]
  },
  {
   "cell_type": "code",
   "execution_count": 159,
   "id": "cca4f710",
   "metadata": {},
   "outputs": [
    {
     "name": "stdout",
     "output_type": "stream",
     "text": [
      "['oranges', 'yes', 'yes', '2', 'lin', 'table', 'no', 'work']\n"
     ]
    }
   ],
   "source": [
    "print(tokenizer_p.batch_decode(batch[\"target\"], skip_special_tokens=True))"
   ]
  },
  {
   "cell_type": "code",
   "execution_count": 160,
   "id": "c26622a3",
   "metadata": {},
   "outputs": [
    {
     "name": "stderr",
     "output_type": "stream",
     "text": [
      "Clipping input data to the valid range for imshow with RGB data ([0..1] for floats or [0..255] for integers).\n"
     ]
    },
    {
     "data": {
      "text/plain": [
       "<matplotlib.image.AxesImage at 0x7f51a9d18c50>"
      ]
     },
     "execution_count": 160,
     "metadata": {},
     "output_type": "execute_result"
    },
    {
     "data": {
      "image/png": "[encoded data removed]",
      "text/plain": [
       "<Figure size 432x288 with 1 Axes>"
      ]
     },
     "metadata": {
      "needs_background": "light"
     },
     "output_type": "display_data"
    }
   ],
   "source": [
    "plt.imshow(batch[\"patch_images\"][0].permute(1,2,0).cpu().numpy())"
   ]
  },
  {
   "cell_type": "code",
   "execution_count": null,
   "id": "b01792bd",
   "metadata": {},
   "outputs": [],
   "source": []
  },
  {
   "cell_type": "code",
   "execution_count": null,
   "id": "c254c810",
   "metadata": {},
   "outputs": [],
   "source": []
  },
  {
   "cell_type": "code",
   "execution_count": null,
   "id": "a93cf7fd",
   "metadata": {},
   "outputs": [],
   "source": []
  },
  {
   "cell_type": "markdown",
   "id": "72e17ce1",
   "metadata": {},
   "source": [
    "## Test Stack"
   ]
  },
  {
   "cell_type": "code",
   "execution_count": 136,
   "id": "401cd81c",
   "metadata": {},
   "outputs": [],
   "source": [
    "pretrained ='/coc/scratch/sanisetty3/DLM/OFA-base-vqa/'\n",
    "finetuned = '/coc/scratch/sanisetty3/DLM/huggingface/ofa-vqa-base/'"
   ]
  },
  {
   "cell_type": "code",
   "execution_count": 137,
   "id": "0149b7f2",
   "metadata": {},
   "outputs": [
    {
     "name": "stdout",
     "output_type": "stream",
     "text": [
      "/coc/scratch/sanisetty3/DLM/huggingface/ofa-vqa-base/\n",
      "<super: <class 'OFATokenizer'>, <OFATokenizer object>>\n"
     ]
    }
   ],
   "source": [
    "tokenizer_p = OFATokenizer.from_pretrained(finetuned)\n",
    "model_p = OFAModelForVQA.from_pretrained(pretrained, use_cache=False).cuda()\n"
   ]
  },
  {
   "cell_type": "code",
   "execution_count": 58,
   "id": "9449f47c",
   "metadata": {},
   "outputs": [],
   "source": [
    "model_f = OFAModelForVQA.from_pretrained(finetuned, use_cache=False).cuda()\n"
   ]
  },
  {
   "cell_type": "code",
   "execution_count": 22,
   "id": "2a184dcb",
   "metadata": {},
   "outputs": [],
   "source": [
    "mean, std = [0.5, 0.5, 0.5], [0.5, 0.5, 0.5]\n",
    "resolution = 480\n",
    "\n",
    "patch_resize_transform = transforms.Compose([\n",
    "    lambda image: image.convert(\"RGB\"),\n",
    "    transforms.Resize((resolution, resolution), interpolation=Image.BICUBIC),\n",
    "    transforms.ToTensor(), \n",
    "    transforms.Normalize(mean=mean, std=std)\n",
    "])"
   ]
  },
  {
   "cell_type": "code",
   "execution_count": 23,
   "id": "31462c23",
   "metadata": {},
   "outputs": [],
   "source": [
    "from core.datasets.vqa_gen_dataset import VQACollator, VqaDataset,VqaStackDataset,CLEVRVQADataset\n"
   ]
  },
  {
   "cell_type": "code",
   "execution_count": 24,
   "id": "32aedff6",
   "metadata": {},
   "outputs": [],
   "source": [
    "ann_file = \"/srv/scratch/sanisetty3/DLM/sornet/data/block_stacking/stack_train_questions.json\"\n",
    "vqa_root = \"/srv/scratch/sanisetty3/DLM/sornet/data/block_stacking/images\""
   ]
  },
  {
   "cell_type": "code",
   "execution_count": 25,
   "id": "061b5fbb",
   "metadata": {},
   "outputs": [],
   "source": [
    "ds_stck = VqaStackDataset(\n",
    "    ann_file=ann_file,\n",
    "    vqa_root=vqa_root,\n",
    "    patch_image_size = resolution,\n",
    ")\n",
    "stack_data_collator = VQACollator(tokenizer=tokenizer_p, max_seq_length=128)\n",
    "stack_dl = DataLoader(ds_stck, batch_size = 8, collate_fn=stack_data_collator ,num_workers = 0, shuffle = True)\n"
   ]
  },
  {
   "cell_type": "code",
   "execution_count": 27,
   "id": "698cf1f7",
   "metadata": {},
   "outputs": [],
   "source": [
    "ds_bowl = VqaStackDataset(\n",
    "    ann_file='/srv/scratch/sanisetty3/DLM/sornet/data/bowl_place/bowl_train_questions.json',\n",
    "    vqa_root='/srv/scratch/sanisetty3/DLM/sornet/data/bowl_place/images',\n",
    "    patch_image_size = resolution,\n",
    ")\n",
    "bowl_data_collator = VQACollator(tokenizer=tokenizer_p, max_seq_length=128)\n",
    "bowl_dl = DataLoader(ds_bowl, batch_size = 8, collate_fn=bowl_data_collator ,num_workers = 0, shuffle = True)\n"
   ]
  },
  {
   "cell_type": "code",
   "execution_count": 38,
   "id": "b59c990e",
   "metadata": {},
   "outputs": [],
   "source": [
    "ds = CLEVRVQADataset(split=\"valA\" , patch_image_size = resolution,)\n",
    "data_collator = VQACollator(tokenizer=tokenizer_p, max_seq_length=128)\n",
    "dl = DataLoader(ds, batch_size = 10, collate_fn=data_collator ,num_workers = 0, shuffle = True)\n"
   ]
  },
  {
   "cell_type": "code",
   "execution_count": 28,
   "id": "dce2defa",
   "metadata": {},
   "outputs": [
    {
     "data": {
      "text/plain": [
       "12021"
      ]
     },
     "execution_count": 28,
     "metadata": {},
     "output_type": "execute_result"
    }
   ],
   "source": [
    "len(ds_bowl)"
   ]
  },
  {
   "cell_type": "code",
   "execution_count": 29,
   "id": "67a9a72f",
   "metadata": {},
   "outputs": [],
   "source": [
    "for batch in bowl_dl:\n",
    "    break"
   ]
  },
  {
   "cell_type": "code",
   "execution_count": null,
   "id": "9e418c39",
   "metadata": {},
   "outputs": [],
   "source": []
  },
  {
   "cell_type": "code",
   "execution_count": 30,
   "id": "eab6aa18",
   "metadata": {},
   "outputs": [
    {
     "name": "stdout",
     "output_type": "stream",
     "text": [
      "[' are there any blocks on the right side of the red thing?', ' what number of blocks are behind the yellow block?', ' the thing that is above the cyan cube is what color?', ' what color is the cube furthest close to the gray thing?', ' are there any gray things closest to the brown bowl?', ' are there any things closest to the red thing?', ' the block that is farthest to the yellow thing is what color?', ' what color is the thing that is to the right of the green block?']\n"
     ]
    }
   ],
   "source": [
    "print(tokenizer_p.batch_decode(batch[\"input_ids\"], skip_special_tokens=True))"
   ]
  },
  {
   "cell_type": "code",
   "execution_count": 31,
   "id": "4820a3c9",
   "metadata": {},
   "outputs": [
    {
     "name": "stdout",
     "output_type": "stream",
     "text": [
      "['yes', '4', 'gray', 'cyan', 'no', 'yes', 'purple', 'gray']\n"
     ]
    }
   ],
   "source": [
    "print(tokenizer_p.batch_decode(batch[\"target\"], skip_special_tokens=True))"
   ]
  },
  {
   "cell_type": "code",
   "execution_count": null,
   "id": "0ab71bd1",
   "metadata": {},
   "outputs": [],
   "source": []
  },
  {
   "cell_type": "markdown",
   "id": "8223d201",
   "metadata": {},
   "source": [
    "### Pretrained"
   ]
  },
  {
   "cell_type": "code",
   "execution_count": null,
   "id": "0257887e",
   "metadata": {},
   "outputs": [],
   "source": []
  },
  {
   "cell_type": "code",
   "execution_count": null,
   "id": "9d206567",
   "metadata": {},
   "outputs": [],
   "source": []
  },
  {
   "cell_type": "code",
   "execution_count": 32,
   "id": "5386f2ef",
   "metadata": {},
   "outputs": [
    {
     "name": "stdout",
     "output_type": "stream",
     "text": [
      "['yes', '4', 'gray', 'cyan', 'no', 'yes', 'purple', 'gray']\n"
     ]
    }
   ],
   "source": [
    "print(tokenizer_p.batch_decode(batch[\"target\"], skip_special_tokens=True))"
   ]
  },
  {
   "cell_type": "code",
   "execution_count": 33,
   "id": "74d00a03",
   "metadata": {},
   "outputs": [],
   "source": [
    "gen = model_p.generate(batch[\"input_ids\"].cuda(), patch_images=batch[\"patch_images\"].cuda(), num_beams=5, no_repeat_ngram_size=3)"
   ]
  },
  {
   "cell_type": "code",
   "execution_count": 34,
   "id": "596211dc",
   "metadata": {},
   "outputs": [
    {
     "data": {
      "text/plain": [
       "[' yes', ' 1', ' green', ' green', ' yes', ' yes', ' white', ' black']"
      ]
     },
     "execution_count": 34,
     "metadata": {},
     "output_type": "execute_result"
    }
   ],
   "source": [
    "tokenizer_p.batch_decode(gen, skip_special_tokens=True)"
   ]
  },
  {
   "cell_type": "code",
   "execution_count": 35,
   "id": "e414e4f4",
   "metadata": {},
   "outputs": [],
   "source": []
  },
  {
   "cell_type": "code",
   "execution_count": null,
   "id": "960a3858",
   "metadata": {},
   "outputs": [],
   "source": []
  },
  {
   "cell_type": "code",
   "execution_count": 50,
   "id": "94dbf0d8",
   "metadata": {},
   "outputs": [
    {
     "name": "stdout",
     "output_type": "stream",
     "text": [
      "question:  what number of blocks are behind the yellow block?\n",
      "pred:  1\n",
      "target:  4\n"
     ]
    },
    {
     "data": {
      "image/png": "[encoded data removed]",
      "text/plain": [
       "<Figure size 640x480 with 1 Axes>"
      ]
     },
     "metadata": {},
     "output_type": "display_data"
    }
   ],
   "source": [
    "indx = 1\n",
    "img = batch[\"patch_images\"][indx].permute(1,2,0).cpu().numpy()*[0.5, 0.5, 0.5]+ [0.5, 0.5, 0.5]\n",
    "plt.imshow(img)\n",
    "print(\"question: \", tokenizer_p.batch_decode(batch[\"input_ids\"], skip_special_tokens=True)[indx].strip())\n",
    "print(\"pred: \",tokenizer_p.batch_decode(gen, skip_special_tokens=True)[indx].strip())\n",
    "print(\"target: \" , tokenizer_p.batch_decode(batch[\"target\"], skip_special_tokens=True)[indx])"
   ]
  },
  {
   "cell_type": "code",
   "execution_count": null,
   "id": "4688b891",
   "metadata": {},
   "outputs": [],
   "source": []
  },
  {
   "cell_type": "code",
   "execution_count": null,
   "id": "924cb584",
   "metadata": {},
   "outputs": [],
   "source": []
  },
  {
   "cell_type": "markdown",
   "id": "481574aa",
   "metadata": {},
   "source": [
    "### Finetuned"
   ]
  },
  {
   "cell_type": "code",
   "execution_count": 67,
   "id": "584e27c7",
   "metadata": {},
   "outputs": [],
   "source": [
    "for batch in clevr_dl:\n",
    "    break"
   ]
  },
  {
   "cell_type": "code",
   "execution_count": null,
   "id": "3d09697f",
   "metadata": {},
   "outputs": [],
   "source": []
  },
  {
   "cell_type": "code",
   "execution_count": 68,
   "id": "8a7b30df",
   "metadata": {},
   "outputs": [
    {
     "name": "stdout",
     "output_type": "stream",
     "text": [
      "['yellow', '1', 'no', 'yes', '0', 'yes', 'no', 'rubber', 'no', 'no']\n"
     ]
    }
   ],
   "source": [
    "print(tokenizer_p.batch_decode(batch[\"target\"], skip_special_tokens=True))"
   ]
  },
  {
   "cell_type": "code",
   "execution_count": 69,
   "id": "1aade543",
   "metadata": {},
   "outputs": [],
   "source": [
    "gen_fin = model_f.generate(batch[\"input_ids\"].cuda(), patch_images=batch[\"patch_images\"].cuda(), num_beams=5, no_repeat_ngram_size=3)"
   ]
  },
  {
   "cell_type": "code",
   "execution_count": null,
   "id": "96ec655e",
   "metadata": {},
   "outputs": [],
   "source": []
  },
  {
   "cell_type": "code",
   "execution_count": 70,
   "id": "0ad92ed3",
   "metadata": {},
   "outputs": [
    {
     "data": {
      "text/plain": [
       "['yellow', '1', 'no', 'yes', '0', 'yes', 'no', 'rubber', 'yes', 'yes']"
      ]
     },
     "execution_count": 70,
     "metadata": {},
     "output_type": "execute_result"
    }
   ],
   "source": [
    "tokenizer_p.batch_decode(gen_fin, skip_special_tokens=True)"
   ]
  },
  {
   "cell_type": "code",
   "execution_count": 64,
   "id": "4d5826ea",
   "metadata": {},
   "outputs": [
    {
     "name": "stdout",
     "output_type": "stream",
     "text": [
      "question:  how many things are to the right of the green block?\n",
      "pred:  5\n",
      "target:  4\n"
     ]
    },
    {
     "data": {
      "image/png": "[encoded data removed]",
      "text/plain": [
       "<Figure size 640x480 with 1 Axes>"
      ]
     },
     "metadata": {},
     "output_type": "display_data"
    }
   ],
   "source": [
    "indx = 6\n",
    "img = batch[\"patch_images\"][indx].permute(1,2,0).cpu().numpy()*[0.5, 0.5, 0.5]+ [0.5, 0.5, 0.5]\n",
    "plt.imshow(img)\n",
    "print(\"question: \", tokenizer_p.batch_decode(batch[\"input_ids\"], skip_special_tokens=True)[indx].strip())\n",
    "print(\"pred: \",tokenizer_p.batch_decode(gen_fin, skip_special_tokens=True)[indx].strip())\n",
    "print(\"target: \" , tokenizer_p.batch_decode(batch[\"target\"], skip_special_tokens=True)[indx])"
   ]
  },
  {
   "cell_type": "markdown",
   "id": "2b22835c",
   "metadata": {},
   "source": [
    "## Eval script"
   ]
  },
  {
   "cell_type": "code",
   "execution_count": 7,
   "id": "42f9d322",
   "metadata": {},
   "outputs": [],
   "source": [
    "from core.datasets.vqa_gen_dataset import VqaGenDataset , VQACollator, VqaDataset, VqaStackDataset, CLEVRVQADataset,LeonardoVQADataset\n",
    "import itertools"
   ]
  },
  {
   "cell_type": "code",
   "execution_count": 8,
   "id": "1857b961",
   "metadata": {},
   "outputs": [],
   "source": [
    "pretrained ='/coc/scratch/sanisetty3/DLM/OFA-base-vqa/'\n",
    "finetuned = '/coc/scratch/sanisetty3/DLM/ofa-base-vqa/'"
   ]
  },
  {
   "cell_type": "code",
   "execution_count": 9,
   "id": "09b0bc80",
   "metadata": {
    "scrolled": true
   },
   "outputs": [
    {
     "name": "stdout",
     "output_type": "stream",
     "text": [
      "/coc/scratch/sanisetty3/DLM/OFA-base-vqa/\n",
      "<super: <class 'OFATokenizer'>, <OFATokenizer object>>\n"
     ]
    },
    {
     "name": "stderr",
     "output_type": "stream",
     "text": [
      "/srv/share2/sanisetty3/miniconda3/envs/DLM/lib/python3.9/site-packages/torch/functional.py:504: UserWarning: torch.meshgrid: in an upcoming release, it will be required to pass the indexing argument. (Triggered internally at ../aten/src/ATen/native/TensorShape.cpp:3190.)\n",
      "  return _VF.meshgrid(tensors, **kwargs)  # type: ignore[attr-defined]\n"
     ]
    }
   ],
   "source": [
    "tokenizer_p = OFATokenizer.from_pretrained(pretrained)\n",
    "model_p = OFAModelForVQA.from_pretrained(pretrained, use_cache=False).cuda()\n",
    "model_f = OFAModelForVQA.from_pretrained(finetuned, use_cache=False).cuda()\n"
   ]
  },
  {
   "cell_type": "code",
   "execution_count": 10,
   "id": "ca2612be",
   "metadata": {},
   "outputs": [],
   "source": [
    "from evaluate import load\n",
    "bertscore = load(\"bertscore\")"
   ]
  },
  {
   "cell_type": "code",
   "execution_count": null,
   "id": "d34bfc22",
   "metadata": {},
   "outputs": [],
   "source": []
  },
  {
   "cell_type": "code",
   "execution_count": 11,
   "id": "8d8d495f",
   "metadata": {},
   "outputs": [
    {
     "name": "stderr",
     "output_type": "stream",
     "text": [
      "/srv/share2/sanisetty3/miniconda3/envs/DLM/lib/python3.9/site-packages/torchvision/transforms/transforms.py:329: UserWarning: Argument 'interpolation' of type int is deprecated since 0.13 and will be removed in 0.15. Please use InterpolationMode enum.\n",
      "  warnings.warn(\n"
     ]
    }
   ],
   "source": [
    "ann_file = \"/srv/scratch/sanisetty3/DLM/sornet/data/block_stacking/stack_train_questions.json\"\n",
    "vqa_root = \"/srv/scratch/sanisetty3/DLM/sornet/data/block_stacking/images\"\n",
    "\n",
    "stack_ds = VqaStackDataset(\n",
    "    ann_file=ann_file,\n",
    "    vqa_root=vqa_root,\n",
    ")\n",
    "stack_data_collator = VQACollator(tokenizer=tokenizer_p, max_seq_length=128)\n",
    "stack_dl = DataLoader(stack_ds, batch_size = 10, collate_fn=stack_data_collator ,num_workers = 0, shuffle = False)\n"
   ]
  },
  {
   "cell_type": "code",
   "execution_count": null,
   "id": "81aebcd8",
   "metadata": {},
   "outputs": [],
   "source": []
  },
  {
   "cell_type": "code",
   "execution_count": 65,
   "id": "d202981c",
   "metadata": {},
   "outputs": [],
   "source": [
    "clevr_ds = CLEVRVQADataset(split=\"valB\")\n",
    "data_collator = VQACollator(tokenizer=tokenizer_p, max_seq_length=128)\n",
    "clevr_dl = DataLoader(clevr_ds, batch_size = 10, collate_fn=data_collator ,num_workers = 0, shuffle = False)\n"
   ]
  },
  {
   "cell_type": "code",
   "execution_count": 13,
   "id": "91916408",
   "metadata": {},
   "outputs": [
    {
     "name": "stdout",
     "output_type": "stream",
     "text": [
      "7559 150000\n"
     ]
    }
   ],
   "source": [
    "print(len(stack_ds) , len(clevr_ds))"
   ]
  },
  {
   "cell_type": "code",
   "execution_count": 68,
   "id": "b5e9088c",
   "metadata": {},
   "outputs": [],
   "source": [
    "leonardo_ds = LeonardoVQADataset(\n",
    "        data_dir = '/srv/scratch/sanisetty3/DLM/sornet/data/leonardo/',\n",
    "        split=\"valid\",\n",
    "        patch_image_size=480\n",
    "    )"
   ]
  },
  {
   "cell_type": "code",
   "execution_count": 14,
   "id": "f8afd76e",
   "metadata": {},
   "outputs": [],
   "source": [
    "def cycle(dl):\n",
    "    while True:\n",
    "        for data in dl:\n",
    "            yield data"
   ]
  },
  {
   "cell_type": "markdown",
   "id": "0cdc3eb7",
   "metadata": {},
   "source": [
    "## Stack"
   ]
  },
  {
   "cell_type": "code",
   "execution_count": null,
   "id": "baec9511",
   "metadata": {
    "scrolled": true
   },
   "outputs": [],
   "source": []
  },
  {
   "cell_type": "code",
   "execution_count": 15,
   "id": "f09a8ff9",
   "metadata": {},
   "outputs": [],
   "source": [
    "def get_accuracy(pred , targets):\n",
    "    count = 0\n",
    "    for i in range(len(pred)):\n",
    "        for j in range(10):\n",
    "            try:\n",
    "                trs = int(sum(np.setdiff1d(targets[1][1],[0,1,2]) == np.setdiff1d(pred[1][1].detach().cpu().numpy(),[0,1,2])) == len(np.setdiff1d(targets[1][1],[0,1,2])))\n",
    "                #int(sum(np.setdiff1d(targets[i][j],[0,1,2]) == np.setdiff1d(pred[i][j].detach().cpu().numpy(),[0,1,2])))\n",
    "                count+=trs\n",
    "            except:\n",
    "                continue        \n",
    "    print(f\"accuracy on {10*len(pred)} points\" , count/(10*len(pred)))"
   ]
  },
  {
   "cell_type": "code",
   "execution_count": 16,
   "id": "f1c058e1",
   "metadata": {},
   "outputs": [],
   "source": [
    "def get_bert_score(pred,targets):\n",
    "\n",
    "    decoded_preds_ = []\n",
    "    for i in pred:\n",
    "        decoded_preds_.append(tokenizer_p.batch_decode(i, skip_special_tokens=True))\n",
    "    decoded_preds = [item for sublist in decoded_preds_ for item in sublist]\n",
    "\n",
    "    decoded_trg_ = []\n",
    "    for i in targets:\n",
    "        decoded_trg_.append(tokenizer_p.batch_decode(i, skip_special_tokens=True))\n",
    "    decoded_trg = [item for sublist in decoded_preds_ for item in sublist]\n",
    "\n",
    "    results = bertscore.compute(predictions=decoded_preds, references=decoded_trg, lang=\"en\")\n",
    "    print(np.mean(results[\"precision\"]))\n",
    "    print(np.mean(results[\"recall\"]))\n",
    "    print(np.mean(results[\"f1\"]))"
   ]
  },
  {
   "cell_type": "code",
   "execution_count": 71,
   "id": "1c207ac6",
   "metadata": {},
   "outputs": [
    {
     "name": "stderr",
     "output_type": "stream",
     "text": [
      "100%|█████████████████████████████████████████████████████████████████████████████████████████████| 1000/1000 [06:07<00:00,  2.72it/s]\n"
     ]
    },
    {
     "name": "stdout",
     "output_type": "stream",
     "text": [
      "accuracy on 10000 points 1.0\n",
      "0.9999999821186065\n",
      "0.9999999821186065\n",
      "0.9999999821186065\n"
     ]
    }
   ],
   "source": [
    "from tqdm import tqdm\n",
    "\n",
    "targets = []\n",
    "pred = []\n",
    "i = 0\n",
    "for i in tqdm(range(1000)):\n",
    "    \n",
    "    \n",
    "    try:\n",
    "        itr = cycle(clevr_dl)\n",
    "        batch = next(itr)\n",
    "        gen_fin = model_f.generate(batch[\"input_ids\"].cuda(), patch_images=batch[\"patch_images\"].cuda(), num_beams=5, no_repeat_ngram_size=3)\n",
    "        pred.append(gen_fin)\n",
    "        targets.append(batch[\"target\"])\n",
    "    except:\n",
    "        continue\n",
    "        \n",
    "get_accuracy(pred,targets)\n",
    "get_bert_score(pred,targets)\n",
    "\n"
   ]
  },
  {
   "cell_type": "code",
   "execution_count": null,
   "id": "dccc4fdb",
   "metadata": {},
   "outputs": [],
   "source": []
  },
  {
   "cell_type": "code",
   "execution_count": 106,
   "id": "91938caf",
   "metadata": {},
   "outputs": [
    {
     "name": "stderr",
     "output_type": "stream",
     "text": [
      "  0%|                                                                                                         | 0/756 [00:00<?, ?it/s]/srv/share2/sanisetty3/miniconda3/envs/DLM/lib/python3.9/site-packages/transformers/generation/utils.py:1273: UserWarning: Neither `max_length` nor `max_new_tokens` has been set, `max_length` will default to 20 (`generation_config.max_length`). Controlling `max_length` via the config is deprecated and `max_length` will be removed from the config in v5 of Transformers -- we recommend using `max_new_tokens` to control the maximum length of the generation.\n",
      "  warnings.warn(\n",
      "100%|███████████████████████████████████████████████████████████████████████████████████████████████| 756/756 [11:22<00:00,  1.11it/s]\n"
     ]
    },
    {
     "name": "stdout",
     "output_type": "stream",
     "text": [
      "accuracy on 7560 points 0.0\n",
      "1.0000000654239631\n",
      "1.0000000654239631\n",
      "1.0000000654239631\n"
     ]
    }
   ],
   "source": [
    "from tqdm import tqdm\n",
    "\n",
    "targets = []\n",
    "pred = []\n",
    "i = 0\n",
    "\n",
    "# itr = cycle(stack_dl)\n",
    "\n",
    "for batch in tqdm(stack_dl):\n",
    "\n",
    "    try:\n",
    "#         batch = next(itr)\n",
    "        gen_fin = model_p.generate(batch[\"input_ids\"].cuda(), patch_images=batch[\"patch_images\"].cuda(), num_beams=5, no_repeat_ngram_size=3)\n",
    "        pred.append(gen_fin)\n",
    "        targets.append(batch[\"target\"])\n",
    "    except:\n",
    "        continue\n",
    "    \n",
    "get_accuracy(pred,targets)\n",
    "get_bert_score(pred,targets)\n",
    "\n",
    "# count = 0\n",
    "# for i in range(len(pred)):\n",
    "# #     print(i)\n",
    "#     for j in range(10):\n",
    "# #         print(np.setdiff1d(pred[i][j].detach().cpu().numpy(),[0,1,2]))\n",
    "#         try:\n",
    "#             #trs = int(sum(np.setdiff1d(targets[i][j],[0,1,2]) == np.setdiff1d(pred[i][j].detach().cpu().numpy(),[0,1,2])))\n",
    "#             trs = int(sum(np.setdiff1d(targets[1][1],[0,1,2]) == np.setdiff1d(pred[1][1].detach().cpu().numpy(),[0,1,2])) == len(np.setdiff1d(targets[1][1],[0,1,2])))\n",
    "\n",
    "#             count+=trs\n",
    "#         except:\n",
    "#             continue\n",
    "            \n",
    "            \n",
    "# print(f\"pretrained accuracy on {10*len(pred)} points\" , count/(10*len(pred)))"
   ]
  },
  {
   "cell_type": "code",
   "execution_count": 21,
   "id": "c93f7d55",
   "metadata": {},
   "outputs": [
    {
     "name": "stderr",
     "output_type": "stream",
     "text": [
      "100%|█████████████████████████████████████████████████████████████████████████████████████████████| 1000/1000 [16:50<00:00,  1.01s/it]\n"
     ]
    },
    {
     "name": "stdout",
     "output_type": "stream",
     "text": [
      "accuracy on 10000 points 0.0\n",
      "1.000000073170662\n",
      "1.000000073170662\n",
      "1.000000073170662\n"
     ]
    }
   ],
   "source": [
    "from tqdm import tqdm\n",
    "\n",
    "targets = []\n",
    "pred = []\n",
    "i = 0\n",
    "for i in tqdm(range(1000)):\n",
    "    \n",
    "    \n",
    "    try:\n",
    "        itr = cycle(clevr_dl)\n",
    "        batch = next(itr)\n",
    "        gen_fin = model_p.generate(batch[\"input_ids\"].cuda(), patch_images=batch[\"patch_images\"].cuda(), num_beams=5, no_repeat_ngram_size=3)\n",
    "        pred.append(gen_fin)\n",
    "        targets.append(batch[\"target\"])\n",
    "    except:\n",
    "        continue\n",
    "        \n",
    "get_accuracy(pred,targets)\n",
    "get_bert_score(pred,targets)\n",
    "\n"
   ]
  },
  {
   "cell_type": "code",
   "execution_count": null,
   "id": "58090921",
   "metadata": {},
   "outputs": [],
   "source": []
  },
  {
   "cell_type": "markdown",
   "id": "c39dbd09",
   "metadata": {},
   "source": [
    "## CLEVR"
   ]
  },
  {
   "cell_type": "code",
   "execution_count": null,
   "id": "e5107f17",
   "metadata": {},
   "outputs": [],
   "source": [
    "from tqdm import tqdm\n",
    "\n",
    "targets = []\n",
    "pred = []\n",
    "i = 0\n",
    "\n",
    "# itr = cycle(stack_dl)\n",
    "#         batch = next(itr)\n",
    "\n",
    "for batch in stack_dl:\n",
    "\n",
    "    try:\n",
    "#         batch = next(itr)\n",
    "        gen_fin = model_f.generate(batch[\"input_ids\"].cuda(), patch_images=batch[\"patch_images\"].cuda(), num_beams=5, no_repeat_ngram_size=3)\n",
    "        pred.append(gen_fin)\n",
    "        targets.append(batch[\"target\"])\n",
    "    except:\n",
    "        continue\n",
    "    \n",
    "    \n",
    "    "
   ]
  },
  {
   "cell_type": "code",
   "execution_count": null,
   "id": "b65547d8",
   "metadata": {},
   "outputs": [],
   "source": []
  },
  {
   "cell_type": "code",
   "execution_count": null,
   "id": "643f79af",
   "metadata": {},
   "outputs": [],
   "source": []
  },
  {
   "cell_type": "code",
   "execution_count": null,
   "id": "c00ba41e",
   "metadata": {},
   "outputs": [],
   "source": []
  },
  {
   "cell_type": "code",
   "execution_count": null,
   "id": "26e976cd",
   "metadata": {},
   "outputs": [],
   "source": []
  },
  {
   "cell_type": "code",
   "execution_count": 66,
   "id": "d3e51d31",
   "metadata": {
    "scrolled": true
   },
   "outputs": [
    {
     "name": "stdout",
     "output_type": "stream",
     "text": [
      "['0', '2', '1', '0', '1', 'no', 'yes', 'no', 'yes', 'yes']\n",
      "['0', '1', '1', '1', '1', 'no', 'yes', 'no', 'yes', 'yes']\n",
      "\n",
      "\n",
      "['gray', 'cyan', 'cyan', 'gray', 'gray', '1', '0', '0', '1', '0']\n",
      "['gray', 'cyan', 'cyan', 'gray', 'gray', '0', '0', '0', '1', '0']\n",
      "\n",
      "\n",
      "['no', 'no', 'yes', 'no', 'yes', 'green', 'green', 'green', 'green', 'red']\n",
      "['no', 'no', 'no', 'no', 'yes', 'green', 'green', 'green', 'green', 'red']\n",
      "\n",
      "\n",
      "['2', '2', '1', '2', '0', 'yes', 'no', 'no', 'yes', 'no']\n",
      "['0', '1', '0', '0', '0', 'yes', 'no', 'yes', 'no', 'no']\n",
      "\n",
      "\n",
      "['blue', 'blue', 'blue', 'blue', 'blue', '1', '0', '1', '0', '3']\n",
      "['blue', 'blue', 'blue', 'brown', 'blue', '0', '0', '0', '0', '1']\n",
      "\n",
      "\n",
      "['yes', 'yes', 'no', 'yes', 'no', 'red', 'red', 'red', 'red', 'red']\n",
      "['no', 'yes', 'yes', 'yes', 'no', 'red', 'red', 'red', 'green', 'red']\n",
      "\n",
      "\n",
      "['1', '0', '1', '0', '1', 'no', 'no', 'yes', 'no', 'yes']\n",
      "['2', '0', '1', '0', '1', 'no', 'no', 'yes', 'yes', 'yes']\n",
      "\n",
      "\n",
      "['gray', 'purple', 'gray', 'purple', 'gray', '0', '1', '0', '0', '1']\n",
      "['red', 'purple', 'gray', 'purple', 'purple', '0', '1', '0', '0', '1']\n",
      "\n",
      "\n",
      "['no', 'yes', 'no', 'yes', 'no', 'yellow', 'yellow', 'cyan', 'cyan', 'cyan']\n",
      "['no', 'yes', 'no', 'yes', 'no', 'yellow', 'yellow', 'cyan', 'cyan', 'cyan']\n",
      "\n",
      "\n",
      "['1', '0', '0', '1', '0', 'yes', 'no', 'yes', 'no', 'yes']\n",
      "['2', '0', '0', '0', '0', 'yes', 'no', 'no', 'no', 'yes']\n",
      "\n",
      "\n",
      "['green', 'red', 'green', 'green', 'red', '1', '0', '1', '0', '1']\n",
      "['green', 'red', 'green', 'green', 'red', '1', '0', '0', '0', '0']\n",
      "\n",
      "\n",
      "['no', 'yes', 'yes', 'no', 'yes', 'blue', 'blue', 'cyan', 'cyan', 'cyan']\n",
      "['no', 'yes', 'yes', 'no', 'yes', 'blue', 'blue', 'cyan', 'cyan', 'cyan']\n",
      "\n",
      "\n",
      "['0', '1', '1', '1', '1', 'no', 'no', 'no', 'yes', 'yes']\n",
      "['0', '1', '0', '2', '1', 'no', 'no', 'no', 'yes', 'yes']\n",
      "\n",
      "\n",
      "['blue', 'blue', 'purple', 'purple', 'purple', '0', '0', '0', '2', '0']\n",
      "['blue', 'blue', 'purple', 'purple', 'purple', '0', '0', '0', '0', '0']\n",
      "\n",
      "\n",
      "['no', 'no', 'yes', 'yes', 'no', 'yellow', 'yellow', 'yellow', 'yellow', 'yellow']\n",
      "['no', 'no', 'yes', 'yes', 'no', 'purple', 'yellow', 'yellow', 'yellow', 'yellow']\n",
      "\n",
      "\n",
      "['0', '1', '0', '1', '0', 'no', 'yes', 'no', 'yes', 'no']\n",
      "['0', '0', '0', '0', '0', 'no', 'yes', 'no', 'yes', 'no']\n",
      "\n",
      "\n",
      "['green', 'green', 'green', 'blue', 'blue', '1', '2', '1', '2', '1']\n",
      "['green', 'green', 'green', 'blue', 'blue', '1', '2', '1', '2', '1']\n",
      "\n",
      "\n",
      "['yes', 'no', 'yes', 'yes', 'no', 'yellow', 'yellow', 'yellow', 'blue', 'yellow']\n",
      "['yes', 'no', 'yes', 'yes', 'no', 'yellow', 'yellow', 'yellow', 'blue', 'yellow']\n",
      "\n",
      "\n",
      "['2', '2', '2', '2', '2', 'no', 'yes', 'no', 'no', 'yes']\n",
      "['1', '2', '1', '0', '2', 'no', 'yes', 'no', 'no', 'yes']\n",
      "\n",
      "\n",
      "['blue', 'gray', 'gray', 'gray', 'gray', '2', '2', '2', '2', '2']\n",
      "['blue', 'gray', 'gray', 'gray', 'gray', '1', '1', '2', '2', '2']\n",
      "\n",
      "\n",
      "['no', 'yes', 'no', 'yes', 'yes', 'yellow', 'green', 'yellow', 'green', 'green']\n",
      "['no', 'yes', 'no', 'yes', 'no', 'yellow', 'green', 'yellow', 'green', 'green']\n",
      "\n",
      "\n",
      "['2', '2', '2', '2', '2', 'no', 'no', 'yes', 'no', 'yes']\n",
      "['2', '1', '2', '0', '3', 'no', 'no', 'no', 'yes', 'yes']\n",
      "\n",
      "\n",
      "['red', 'cyan', 'red', 'red', 'cyan', '2', '2', '2', '2', 'no']\n",
      "['red', 'cyan', 'red', 'red', 'cyan', '1', '1', '1', '1', 'no']\n",
      "\n",
      "\n",
      "['yes', 'no', 'yes', 'no', 'blue', 'blue', 'cyan', 'cyan', 'cyan', '3']\n",
      "['yes', 'no', 'yes', 'no', 'blue', 'blue', 'cyan', 'cyan', 'cyan', '2']\n",
      "\n",
      "\n",
      "['3', '3', '3', '3', 'yes', 'no', 'yes', 'no', 'no', 'brown']\n",
      "['2', '2', '3', '2', 'yes', 'no', 'yes', 'no', 'no', 'brown']\n",
      "\n",
      "\n",
      "['cyan', 'cyan', 'cyan', 'cyan', '3', '3', '3', '3', '3', 'yes']\n",
      "['cyan', 'cyan', 'cyan', 'cyan', '1', '3', '2', '3', '2', 'yes']\n",
      "\n",
      "\n",
      "['no', 'yes', 'no', 'yes', 'purple', 'purple', 'purple', 'purple', 'purple', '3']\n",
      "['no', 'yes', 'no', 'no', 'purple', 'purple', 'purple', 'purple', 'cyan', '1']\n",
      "\n",
      "\n",
      "['3', '3', '3', '3', 'no', 'yes', 'no', 'yes', 'no', 'gray']\n",
      "['3', '3', '3', '3', 'no', 'no', 'no', 'no', 'no', 'gray']\n",
      "\n",
      "\n",
      "['gray', 'gray', 'gray', 'blue', 'yes', 'no', 'yes', 'no', 'yes', 'red']\n",
      "['gray', 'gray', 'gray', 'gray', 'no', 'no', 'yes', 'no', 'yes', 'purple']\n",
      "\n",
      "\n",
      "['purple', 'purple', 'red', 'purple', 'no', 'yes', 'no', 'yes', 'no', 'cyan']\n",
      "['purple', 'purple', 'gray', 'purple', 'no', 'yes', 'no', 'no', 'yes', 'cyan']\n",
      "\n",
      "\n",
      "['blue', 'cyan', 'blue', 'blue', 'no', 'yes', 'no', 'yes', 'no', 'cyan']\n",
      "['cyan', 'cyan', 'blue', 'cyan', 'no', 'yes', 'yes', 'yes', 'no', 'cyan']\n",
      "\n",
      "\n",
      "['blue', 'cyan', 'blue', 'cyan', 'yes', 'no', 'yes', 'no', 'yes', '3']\n",
      "['cyan', 'cyan', 'cyan', 'cyan', 'yes', 'no', 'yes', 'no', 'yes', '3']\n",
      "\n",
      "\n",
      "['3', '3', '3', '3', '3', '3', '3', '3', '3', 'purple']\n",
      "['3', '3', '1', '3', '3', '3', '2', '3', '3', 'purple']\n",
      "\n",
      "\n",
      "['brown', 'brown', 'purple', 'brown', 'no', 'yes', 'no', 'yes', 'no', 'green']\n",
      "['brown', 'brown', 'purple', 'brown', 'no', 'yes', 'no', 'no', 'yes', 'green']\n",
      "\n",
      "\n",
      "['green', 'green', 'green', 'green', 'yes', 'no', 'yes', 'no', 'yes', 'red']\n",
      "['green', 'green', 'green', 'green', 'no', 'no', 'no', 'no', 'no', 'red']\n",
      "\n",
      "\n",
      "['red', 'red', 'red', 'red', 'no', 'no', 'yes', 'no', 'yes', 'green']\n",
      "['red', 'red', 'red', 'red', 'no', 'no', 'no', 'no', 'yes', 'green']\n",
      "\n",
      "\n",
      "['green', 'green', 'green', 'green', 'no', 'yes', 'no', 'yes', 'no', 'brown']\n",
      "['green', 'green', 'green', 'green', 'no', 'yes', 'no', 'yes', 'yes', 'red']\n",
      "\n",
      "\n",
      "['cyan', 'brown', 'brown', 'brown', 'yes', 'no', 'yes', 'yes', 'no', 'purple']\n",
      "['cyan', 'brown', 'red', 'brown', 'yes', 'no', 'yes', 'yes', 'no', 'purple']\n",
      "\n",
      "\n",
      "['gray', 'purple', 'gray', 'gray', 'no', 'yes', 'no', 'yes', 'no', 'yellow']\n",
      "['gray', 'purple', 'gray', 'gray', 'no', 'yes', 'no', 'no', 'no', 'yellow']\n",
      "\n",
      "\n",
      "['yellow', 'yellow', 'yellow', 'yellow', 'yes', 'yes', 'yes', 'no', 'no', 'green']\n",
      "['yellow', 'yellow', 'yellow', 'yellow', 'no', 'yes', 'yes', 'no', 'no', 'green']\n",
      "\n",
      "\n",
      "['green', 'green', 'cyan', 'cyan', 'no', 'yes', 'no', 'no', 'yes', 'cyan']\n",
      "['green', 'green', 'cyan', 'cyan', 'no', 'no', 'no', 'no', 'yes', 'cyan']\n",
      "\n",
      "\n",
      "['cyan', 'cyan', 'cyan', 'red', 'no', 'yes', 'no', 'yes', 'yes', 'red']\n",
      "['cyan', 'cyan', 'blue', 'red', 'no', 'yes', 'no', 'yes', 'no', 'red']\n",
      "\n",
      "\n",
      "['red', 'red', 'red', 'red', 'no', 'no', 'yes', 'no', 'yes', 'yellow']\n",
      "['red', 'red', 'red', 'red', 'no', 'no', 'no', 'no', 'yes', 'yellow']\n",
      "\n",
      "\n",
      "['brown', 'yellow', 'brown', 'brown', 'no', 'yes', 'no', 'no', 'yes', 'green']\n",
      "['brown', 'yellow', 'yellow', 'brown', 'no', 'yes', 'no', 'no', 'yes', 'green']\n",
      "\n",
      "\n",
      "['green', 'green', 'green', 'green', 'no', 'yes', 'yes', 'no', 'no', 'yellow']\n",
      "['green', 'green', 'green', 'green', 'no', 'yes', 'yes', 'no', 'no', 'yellow']\n",
      "\n",
      "\n",
      "['purple', 'purple', 'purple', 'purple', 'yes', 'no', 'yes', 'no', 'yes', 'cyan']\n",
      "['brown', 'brown', 'brown', 'brown', 'yes', 'no', 'yes', 'no', 'yes', 'cyan']\n",
      "\n",
      "\n",
      "['blue', 'blue', 'blue', 'cyan', 'no', 'yes', 'no', 'yes', 'no', 'purple']\n",
      "['cyan', 'cyan', 'blue', 'cyan', 'no', 'yes', 'no', 'yes', 'no', 'purple']\n",
      "\n",
      "\n",
      "['cyan', 'purple', 'purple', 'cyan', 'yes', 'yes', 'no', 'no', 'no', 'brown']\n",
      "['cyan', 'purple', 'purple', 'cyan', 'yes', 'no', 'no', 'no', 'no', 'brown']\n",
      "\n",
      "\n",
      "['brown', 'brown', 'brown', 'blue', 'yes', 'no', 'yes', 'no', 'yes', 'blue']\n",
      "['brown', 'brown', 'brown', 'blue', 'yes', 'no', 'no', 'no', 'no', 'blue']\n",
      "\n",
      "\n",
      "['blue', 'purple', 'blue', 'purple', 'no', 'yes', 'no', 'yes', 'no', 'purple']\n",
      "['blue', 'purple', 'blue', 'purple', 'no', 'yes', 'no', 'no', 'no', 'purple']\n",
      "\n",
      "\n",
      "['purple', 'purple', 'purple', 'purple', 'yes', 'no', 'yes', 'yes', 'no', 'purple']\n",
      "['purple', 'purple', 'purple', 'purple', 'yes', 'no', 'yes', 'yes', 'no', 'purple']\n",
      "\n",
      "\n",
      "['brown', 'brown', 'purple', 'brown', 'no', 'yes', 'yes', 'yes', 'no', 'brown']\n",
      "['brown', 'brown', 'purple', 'brown', 'no', 'yes', 'yes', 'no', 'no', 'brown']\n",
      "\n",
      "\n",
      "['brown', 'yellow', 'yellow', 'brown', 'yes', 'no', 'yes', 'no', 'yes', 'blue']\n",
      "['brown', 'brown', 'yellow', 'brown', 'yes', 'yes', 'yes', 'no', 'yes', 'blue']\n",
      "\n",
      "\n",
      "['blue', 'gray', 'blue', 'gray', 'no', 'yes', 'yes', 'no', 'no', 'purple']\n",
      "['blue', 'gray', 'blue', 'gray', 'no', 'yes', 'yes', 'no', 'no', 'purple']\n",
      "\n",
      "\n",
      "['green', 'purple', 'green', 'purple', 'no', 'yes', 'no', 'no', 'yes', 'red']\n",
      "['green', 'purple', 'green', 'purple', 'no', 'yes', 'no', 'no', 'no', 'red']\n",
      "\n",
      "\n",
      "['green', 'green', 'green', 'red', 'no', 'no', 'yes', 'no', 'yes', 'blue']\n",
      "['green', 'green', 'green', 'red', 'yes', 'no', 'yes', 'no', 'yes', 'gray']\n",
      "\n",
      "\n",
      "['blue', 'blue', 'cyan', 'blue', 'no', 'no', 'yes', 'no', 'yes', 'cyan']\n",
      "['gray', 'blue', 'blue', 'gray', 'no', 'yes', 'yes', 'no', 'yes', 'cyan']\n",
      "\n",
      "\n",
      "['cyan', 'cyan', 'cyan', 'cyan', 'no', 'yes', 'yes', 'no', 'no', 'purple']\n",
      "['cyan', 'cyan', 'cyan', 'cyan', 'no', 'yes', 'no', 'no', 'yes', 'purple']\n",
      "\n",
      "\n",
      "['purple', 'red', 'red', 'red', 'yes', 'no', 'yes', 'no', 'yes', 'red']\n",
      "['purple', 'red', 'red', 'red', 'yes', 'yes', 'yes', 'no', 'yes', 'red']\n",
      "\n",
      "\n",
      "['red', 'red', 'red', 'red', 'no', 'yes', 'no', 'yes', 'no', 'yellow']\n",
      "['red', 'red', 'red', 'red', 'no', 'no', 'no', 'yes', 'no', 'red']\n",
      "\n",
      "\n",
      "['yellow', 'yellow', 'brown', 'yellow', 'yes', 'no', 'no', 'yes', 'no', 'green']\n",
      "['red', 'red', 'brown', 'red', 'yes', 'no', 'no', 'yes', 'no', 'green']\n",
      "\n",
      "\n",
      "['green', 'green', 'green', 'green', 'yes', 'no', 'yes', 'no', 'yes', 'gray']\n",
      "['cyan', 'blue', 'green', 'green', 'yes', 'no', 'yes', 'no', 'no', 'purple']\n",
      "\n",
      "\n",
      "['gray', 'gray', 'gray', 'gray', 'no', 'yes', 'no', 'yes', 'no', 'yellow']\n",
      "['purple', 'gray', 'purple', 'gray', 'no', 'yes', 'no', 'no', 'no', 'yellow']\n",
      "\n",
      "\n",
      "['yellow', 'yellow', 'yellow', 'yellow', 'yes', 'no', 'yes', 'no', 'yes', 'green']\n",
      "['yellow', 'yellow', 'yellow', 'yellow', 'yes', 'no', 'yes', 'yes', 'yes', 'red']\n",
      "\n",
      "\n",
      "['red', 'green', 'red', 'red', 'no', 'yes', 'no', 'no', 'yes', 'red']\n",
      "['red', 'green', 'red', 'red', 'no', 'yes', 'no', 'no', 'yes', 'red']\n",
      "\n",
      "\n",
      "['red', 'red', 'red', 'red', 'yes', 'no', 'no', 'yes', 'no', 'red']\n",
      "['red', 'red', 'red', 'red', 'yes', 'no', 'no', 'yes', 'no', 'red']\n",
      "\n",
      "\n",
      "['red', 'red', 'red', 'red', 'yes', 'no', 'yes', 'no', 'yes', 'purple']\n",
      "['red', 'red', 'red', 'red', 'no', 'no', 'yes', 'no', 'yes', 'purple']\n",
      "\n",
      "\n",
      "['purple', 'purple', 'purple', 'purple', 'no', 'yes', 'no', 'yes', 'no', 'blue']\n",
      "['purple', 'purple', 'purple', 'purple', 'no', 'yes', 'no', 'yes', 'no', 'blue']\n",
      "\n",
      "\n",
      "['blue', 'blue', 'blue', 'blue', 'yes', 'no', 'yes', 'no', 'yes', 'brown']\n",
      "['blue', 'blue', 'blue', 'blue', 'no', 'no', 'yes', 'no', 'yes', 'brown']\n",
      "\n",
      "\n",
      "['brown', 'gray', 'gray', 'gray', 'no', 'no', 'yes', 'no', 'yes', 'brown']\n",
      "['brown', 'gray', 'gray', 'gray', 'no', 'no', 'yes', 'no', 'yes', 'brown']\n",
      "\n",
      "\n",
      "['brown', 'brown', 'brown', 'brown', 'yes', 'no', 'no', 'yes', 'yes', 'gray']\n",
      "['brown', 'brown', 'brown', 'brown', 'yes', 'no', 'no', 'no', 'yes', 'gray']\n",
      "\n",
      "\n",
      "['gray', 'gray', 'gray', 'gray', 'no', 'no', 'yes', 'yes', 'no', 'red']\n",
      "['gray', 'gray', 'gray', 'gray', 'no', 'no', 'no', 'no', 'no', 'cyan']\n",
      "\n",
      "\n",
      "['cyan', 'cyan', 'cyan', 'cyan', 'no', 'yes', 'no', 'yes', 'no', 'purple']\n",
      "['cyan', 'cyan', 'cyan', 'cyan', 'no', 'no', 'no', 'yes', 'no', 'purple']\n",
      "\n",
      "\n",
      "['purple', 'purple', 'purple', 'purple', 'no', 'yes', 'no', 'yes', 'no', 'green']\n",
      "['purple', 'purple', 'purple', 'purple', 'no', 'yes', 'no', 'yes', 'no', 'green']\n",
      "\n",
      "\n",
      "['green', 'green', 'green', 'green', 'yes', 'no', 'yes', 'yes', 'no', 'green']\n",
      "['green', 'green', 'green', 'green', 'no', 'no', 'no', 'yes', 'no', 'green']\n",
      "\n",
      "\n",
      "['gray', 'red', 'red', 'gray', 'yes', 'no', 'no', 'yes', 'no', 'yellow']\n",
      "['gray', 'red', 'red', 'gray', 'no', 'no', 'yes', 'no', 'no', 'yellow']\n",
      "\n",
      "\n",
      "['yellow', 'yellow', 'yellow', 'yellow', 'yes', 'yes', 'no', 'yes', 'no', 'cyan']\n",
      "['yellow', 'yellow', 'yellow', 'yellow', 'yes', 'yes', 'no', 'yes', 'no', 'cyan']\n",
      "\n",
      "\n",
      "['cyan', 'purple', 'cyan', 'purple', 'no', 'no', 'yes', 'no', 'yes', 'gray']\n",
      "['cyan', 'purple', 'cyan', 'purple', 'no', 'no', 'yes', 'no', 'no', 'gray']\n",
      "\n",
      "\n",
      "['purple', 'purple', 'cyan', 'cyan', 'no', 'yes', 'no', 'yes', 'no', 'green']\n",
      "['purple', 'purple', 'cyan', 'cyan', 'no', 'yes', 'no', 'yes', 'no', 'green']\n",
      "\n",
      "\n",
      "['green', 'green', 'green', 'green', 'yes', 'no', 'yes', 'no', 'yes', 'gray']\n",
      "['green', 'green', 'green', 'green', 'yes', 'no', 'yes', 'no', 'yes', 'gray']\n",
      "\n",
      "\n",
      "['gray', 'gray', 'blue', 'blue', 'no', 'yes', 'no', 'yes', 'no', 'red']\n",
      "['gray', 'gray', 'blue', 'blue', 'no', 'yes', 'no', 'yes', 'no', 'red']\n",
      "\n",
      "\n",
      "['blue', 'blue', 'blue', 'blue', 'yes', 'no', 'no', 'yes', 'yes', 'green']\n",
      "['blue', 'blue', 'blue', 'blue', 'no', 'no', 'no', 'yes', 'yes', 'green']\n",
      "\n",
      "\n",
      "['cyan', 'cyan', 'cyan', 'cyan', 'no', 'no', 'yes', 'yes', 'yes', 'green']\n",
      "['cyan', 'cyan', 'cyan', 'cyan', 'no', 'no', 'yes', 'no', 'yes', 'green']\n",
      "\n",
      "\n",
      "['gray', 'green', 'green', 'gray', 'yes', 'no', 'no', 'yes', 'no', 'purple']\n",
      "['gray', 'green', 'green', 'gray', 'yes', 'no', 'no', 'yes', 'no', 'purple']\n",
      "\n",
      "\n",
      "['purple', 'purple', 'purple', 'purple', 'no', 'yes', 'no', 'no', 'yes', 'purple']\n",
      "['purple', 'purple', 'purple', 'purple', 'no', 'yes', 'no', 'no', 'no', 'purple']\n",
      "\n",
      "\n",
      "['green', 'purple', 'green', 'green', 'no', 'yes', 'no', 'yes', 'no', 'yellow']\n",
      "['green', 'purple', 'green', 'green', 'no', 'no', 'no', 'no', 'no', 'yellow']\n",
      "\n",
      "\n",
      "['gray', 'yellow', 'yellow', 'gray', 'no', 'yes', 'no', 'yes', 'no', 'red']\n",
      "['gray', 'yellow', 'yellow', 'gray', 'no', 'yes', 'no', 'no', 'no', 'red']\n",
      "\n",
      "\n",
      "['red', 'red', 'red', 'red', 'yes', 'yes', 'yes', 'no', 'no', 'yellow']\n",
      "['red', 'red', 'red', 'red', 'yes', 'yes', 'yes', 'yes', 'no', 'yellow']\n",
      "\n",
      "\n",
      "['yellow', 'yellow', 'yellow', 'yellow', 'no', 'yes', 'no', 'yes', 'yes', 'cyan']\n",
      "['yellow', 'yellow', 'yellow', 'yellow', 'yes', 'yes', 'no', 'yes', 'yes', 'cyan']\n",
      "\n",
      "\n",
      "['gray', 'cyan', 'gray', 'cyan', 'no', 'no', 'yes', 'no', 'no', 'cyan']\n",
      "['gray', 'cyan', 'gray', 'cyan', 'no', 'no', 'yes', 'no', 'no', 'purple']\n",
      "\n",
      "\n",
      "['cyan', 'cyan', 'cyan', 'purple', 'yes', 'no', 'yes', 'no', 'yes', 'brown']\n",
      "['cyan', 'cyan', 'gray', 'purple', 'yes', 'no', 'yes', 'no', 'yes', 'brown']\n",
      "\n",
      "\n",
      "['brown', 'brown', 'brown', 'brown', 'yes', 'no', 'no', 'yes', 'no', 'gray']\n",
      "['brown', 'brown', 'brown', 'brown', 'yes', 'no', 'no', 'yes', 'no', 'gray']\n",
      "\n",
      "\n",
      "['gray', 'green', 'gray', 'gray', 'yes', 'no', 'yes', 'yes', 'no', 'gray']\n",
      "['gray', 'green', 'gray', 'gray', 'yes', 'no', 'no', 'yes', 'no', 'red']\n",
      "\n",
      "\n",
      "['gray', 'gray', 'gray', 'gray', 'no', 'yes', 'no', 'yes', 'no', 'cyan']\n",
      "['red', 'red', 'red', 'red', 'no', 'no', 'no', 'yes', 'no', 'cyan']\n",
      "\n",
      "\n",
      "['cyan', 'cyan', 'yellow', 'yellow', 'no', 'yes', 'no', 'yes', 'no', 'green']\n",
      "['cyan', 'cyan', 'yellow', 'yellow', 'no', 'yes', 'no', 'yes', 'no', 'green']\n",
      "\n",
      "\n",
      "['purple', 'green', 'purple', 'green', 'yes', 'no', 'yes', 'no', 'yes', 'green']\n",
      "['purple', 'green', 'purple', 'green', 'yes', 'no', 'yes', 'yes', 'no', 'green']\n",
      "\n",
      "\n",
      "['green', 'green', 'green', 'blue', 'no', 'yes', 'no', 'yes', 'no', 'brown']\n",
      "['green', 'green', 'green', 'blue', 'no', 'yes', 'no', 'no', 'no', 'brown']\n",
      "\n",
      "\n",
      "['brown', 'brown', 'brown', 'brown', 'yes', 'no', 'yes', 'no', 'yes', 'cyan']\n",
      "['brown', 'brown', 'brown', 'brown', 'yes', 'no', 'yes', 'no', 'yes', 'cyan']\n",
      "\n",
      "\n",
      "['cyan', 'cyan', 'cyan', 'cyan', 'no', 'no', 'yes', 'yes', 'no', 'green']\n",
      "['cyan', 'cyan', 'cyan', 'cyan', 'no', 'no', 'yes', 'yes', 'no', 'green']\n",
      "\n",
      "\n",
      "['yellow', 'yellow', 'yellow', 'green', 'no', 'yes', 'no', 'yes', 'no', 'red']\n",
      "['yellow', 'yellow', 'green', 'green', 'no', 'yes', 'no', 'yes', 'no', 'red']\n",
      "\n",
      "\n"
     ]
    },
    {
     "name": "stdout",
     "output_type": "stream",
     "text": [
      "['red', 'red', 'red', 'red', 'yes', 'no', 'yes', 'yes', 'no', 'gray']\n",
      "['red', 'red', 'red', 'red', 'yes', 'no', 'yes', 'yes', 'no', 'gray']\n",
      "\n",
      "\n",
      "['red', 'gray', 'gray', 'red', 'no', 'yes', 'yes', 'no', 'no', 'red']\n",
      "['red', 'gray', 'gray', 'red', 'no', 'yes', 'yes', 'no', 'no', 'red']\n",
      "\n",
      "\n",
      "['red', 'red', 'red', 'red', 'yes', 'no', 'no', 'yes', 'no', 'yellow']\n",
      "['red', 'red', 'red', 'red', 'yes', 'no', 'no', 'yes', 'no', 'yellow']\n",
      "\n",
      "\n",
      "['yellow', 'yellow', 'yellow', 'yellow', 'yes', 'yes', 'no', 'no', 'yes', 'purple']\n",
      "['yellow', 'yellow', 'yellow', 'yellow', 'yes', 'yes', 'no', 'no', 'yes', 'purple']\n",
      "\n",
      "\n",
      "['purple', 'purple', 'purple', 'purple', 'no', 'yes', 'no', 'yes', 'no', 'red']\n",
      "['purple', 'purple', 'purple', 'purple', 'no', 'yes', 'no', 'yes', 'no', 'red']\n",
      "\n",
      "\n",
      "['red', 'red', 'red', 'gray', 'yes', 'no', 'yes', 'no', 'yes', 'gray']\n",
      "['gray', 'red', 'red', 'gray', 'yes', 'no', 'yes', 'no', 'no', 'gray']\n",
      "\n",
      "\n",
      "['cyan', 'gray', 'gray', 'cyan', 'no', 'yes', 'no', 'no', 'yes', 'blue']\n",
      "['cyan', 'gray', 'gray', 'cyan', 'no', 'yes', 'no', 'no', 'yes', 'gray']\n",
      "\n",
      "\n",
      "['blue', 'purple', 'purple', 'purple', 'yes', 'yes', 'no', 'no', 'no', 'brown']\n",
      "['blue', 'purple', 'purple', 'purple', 'yes', 'yes', 'no', 'no', 'no', 'brown']\n",
      "\n",
      "\n",
      "['brown', 'brown', 'brown', 'brown', 'yes', 'no', 'yes', 'no', 'yes', 'blue']\n",
      "['brown', 'red', 'brown', 'purple', 'yes', 'no', 'yes', 'no', 'yes', 'blue']\n",
      "\n",
      "\n",
      "['blue', 'yellow', 'yellow', 'yellow', 'no', 'yes', 'no', 'yes', 'yes', 'cyan']\n",
      "['blue', 'yellow', 'yellow', 'yellow', 'no', 'no', 'no', 'yes', 'yes', 'cyan']\n",
      "\n",
      "\n",
      "['cyan', 'cyan', 'cyan', 'cyan', 'yes', 'yes', 'no', 'no', 'no', 'green']\n",
      "['cyan', 'cyan', 'cyan', 'cyan', 'yes', 'yes', 'no', 'no', 'no', 'green']\n",
      "\n",
      "\n",
      "['green', 'green', 'green', 'green', 'yes', 'no', 'no', 'no', 'yes', 'red']\n",
      "['green', 'green', 'green', 'green', 'yes', 'no', 'no', 'no', 'yes', 'red']\n",
      "\n",
      "\n",
      "['green', 'green', 'green', 'green', 'yes', 'no', 'no', 'yes', 'no', 'red']\n",
      "['green', 'green', 'green', 'green', 'no', 'no', 'no', 'no', 'no', 'red']\n",
      "\n",
      "\n",
      "['red', 'red', 'yellow', 'yellow', 'yes', 'no', 'yes', 'no', 'yes', 'purple']\n",
      "['red', 'red', 'yellow', 'yellow', 'no', 'no', 'yes', 'no', 'yes', 'purple']\n",
      "\n",
      "\n",
      "['gray', 'gray', 'gray', 'purple', 'no', 'yes', 'no', 'yes', 'no', 'blue']\n",
      "['gray', 'gray', 'gray', 'purple', 'no', 'yes', 'no', 'yes', 'no', 'blue']\n",
      "\n",
      "\n",
      "['blue', 'blue', 'blue', 'blue', 'no', 'yes', 'no', 'yes', 'no', 'red']\n",
      "['blue', 'blue', 'blue', 'blue', 'no', 'yes', 'no', 'yes', 'no', 'red']\n",
      "\n",
      "\n",
      "['green', 'red', 'red', 'red', 'yes', 'no', 'yes', 'no', 'yes', 'brown']\n",
      "['green', 'red', 'red', 'red', 'no', 'no', 'yes', 'no', 'no', 'brown']\n",
      "\n",
      "\n",
      "['green', 'brown', 'brown', 'brown', 'no', 'yes', 'yes', 'no', 'no', 'green']\n",
      "['green', 'brown', 'brown', 'brown', 'no', 'no', 'no', 'no', 'no', 'green']\n",
      "\n",
      "\n",
      "['green', 'green', 'green', 'green', 'yes', 'no', 'yes', 'no', 'yes', 'yellow']\n",
      "['green', 'purple', 'green', 'green', 'no', 'no', 'yes', 'no', 'no', 'purple']\n",
      "\n",
      "\n",
      "['yellow', 'purple', 'yellow', 'yellow', 'no', 'yes', 'no', 'no', 'yes', 'brown']\n",
      "['yellow', 'purple', 'yellow', 'purple', 'no', 'no', 'no', 'no', 'no', 'purple']\n",
      "\n",
      "\n",
      "['brown', 'brown', 'brown', 'brown', 'no', 'yes', 'no', 'yes', 'no', 'blue']\n",
      "['purple', 'purple', 'purple', 'purple', 'no', 'yes', 'no', 'yes', 'no', 'gray']\n",
      "\n",
      "\n",
      "['blue', 'blue', 'blue', 'blue', 'yes', 'no', 'yes', 'no', 'yes', 'blue']\n",
      "['blue', 'cyan', 'blue', 'cyan', 'yes', 'no', 'yes', 'no', 'yes', 'blue']\n",
      "\n",
      "\n",
      "['blue', 'blue', 'cyan', 'blue', 'no', 'yes', 'no', 'yes', 'no', 'brown']\n",
      "['blue', 'blue', 'cyan', 'blue', 'no', 'yes', 'no', 'yes', 'no', 'brown']\n",
      "\n",
      "\n",
      "['brown', 'brown', 'brown', 'brown', 'yes', 'no', 'no', 'yes', 'no', 'brown']\n",
      "['red', 'brown', 'brown', 'brown', 'yes', 'no', 'no', 'yes', 'no', 'brown']\n",
      "\n",
      "\n",
      "['brown', 'brown', 'brown', 'brown', 'yes', 'no', 'yes', 'no', 'yes', 'brown']\n",
      "['brown', 'brown', 'brown', 'brown', 'yes', 'no', 'yes', 'no', 'yes', 'brown']\n",
      "\n",
      "\n",
      "['brown', 'brown', 'brown', 'brown', 'no', 'yes', 'no', 'yes', 'no', 'purple']\n",
      "['brown', 'brown', 'brown', 'brown', 'no', 'yes', 'no', 'yes', 'no', 'purple']\n",
      "\n",
      "\n",
      "['purple', 'green', 'purple', 'purple', 'yes', 'yes', 'no', 'no', 'yes', 'green']\n",
      "['purple', 'green', 'purple', 'purple', 'no', 'yes', 'no', 'no', 'yes', 'green']\n",
      "\n",
      "\n",
      "['brown', 'brown', 'brown', 'brown', 'no', 'yes', 'no', 'no', 'yes', 'cyan']\n",
      "['brown', 'brown', 'brown', 'brown', 'no', 'yes', 'yes', 'no', 'yes', 'cyan']\n",
      "\n",
      "\n",
      "['red', 'cyan', 'red', 'cyan', 'no', 'yes', 'no', 'yes', 'no', 'red']\n",
      "['red', 'cyan', 'red', 'cyan', 'no', 'yes', 'no', 'yes', 'no', 'red']\n",
      "\n",
      "\n",
      "['red', 'blue', 'red', 'blue', 'yes', 'no', 'yes', 'no', 'yes', 'purple']\n",
      "['red', 'blue', 'red', 'blue', 'yes', 'no', 'yes', 'yes', 'yes', 'purple']\n",
      "\n",
      "\n",
      "['yellow', 'brown', 'yellow', 'brown', 'no', 'yes', 'no', 'yes', 'no', 'green']\n",
      "['purple', 'brown', 'yellow', 'brown', 'no', 'no', 'no', 'no', 'no', 'green']\n",
      "\n",
      "\n",
      "['green', 'yellow', 'yellow', 'green', 'yes', 'no', 'yes', 'no', 'no', 'yellow']\n",
      "['green', 'yellow', 'yellow', 'green', 'yes', 'yes', 'yes', 'no', 'no', 'yellow']\n",
      "\n",
      "\n",
      "['yellow', 'yellow', 'yellow', 'yellow', 'yes', 'no', 'yes', 'no', 'yes', 'cyan']\n",
      "['yellow', 'yellow', 'yellow', 'yellow', 'no', 'no', 'yes', 'no', 'no', 'cyan']\n",
      "\n",
      "\n",
      "['cyan', 'cyan', 'cyan', 'cyan', 'no', 'yes', 'no', 'yes', 'yes', 'gray']\n",
      "['cyan', 'cyan', 'gray', 'cyan', 'no', 'yes', 'no', 'yes', 'yes', 'gray']\n",
      "\n",
      "\n",
      "['gray', 'gray', 'cyan', 'gray', 'no', 'no', 'yes', 'no', 'yes', 'purple']\n",
      "['gray', 'gray', 'cyan', 'gray', 'no', 'no', 'yes', 'no', 'yes', 'purple']\n",
      "\n",
      "\n",
      "['purple', 'purple', 'purple', 'purple', 'no', 'yes', 'no', 'yes', 'no', 'gray']\n",
      "['purple', 'purple', 'purple', 'purple', 'no', 'yes', 'no', 'yes', 'no', 'gray']\n",
      "\n",
      "\n",
      "['gray', 'gray', 'red', 'red', 'yes', 'no', 'no', 'yes', 'no', 'red']\n",
      "['gray', 'gray', 'red', 'red', 'yes', 'no', 'no', 'no', 'no', 'red']\n",
      "\n",
      "\n",
      "['red', 'purple', 'red', 'red', 'yes', 'yes', 'no', 'no', 'yes', 'brown']\n",
      "['red', 'purple', 'red', 'red', 'no', 'yes', 'no', 'no', 'no', 'brown']\n",
      "\n",
      "\n",
      "['gray', 'gray', 'gray', 'brown', 'no', 'yes', 'no', 'yes', 'yes', 'green']\n",
      "['gray', 'gray', 'cyan', 'brown', 'no', 'yes', 'no', 'yes', 'no', 'green']\n",
      "\n",
      "\n",
      "['green', 'green', 'green', 'green', 'no', 'no', 'yes', 'yes', 'no', 'gray']\n",
      "['green', 'green', 'green', 'green', 'no', 'no', 'no', 'yes', 'no', 'gray']\n",
      "\n",
      "\n",
      "['gray', 'brown', 'gray', 'gray', 'no', 'yes', 'no', 'no', 'yes', 'cyan']\n",
      "['gray', 'brown', 'gray', 'gray', 'no', 'yes', 'no', 'no', 'yes', 'cyan']\n",
      "\n",
      "\n",
      "['cyan', 'cyan', 'cyan', 'cyan', 'no', 'yes', 'no', 'yes', 'no', 'brown']\n",
      "['cyan', 'cyan', 'cyan', 'cyan', 'no', 'no', 'no', 'no', 'no', 'brown']\n",
      "\n",
      "\n",
      "['brown', 'brown', 'purple', 'brown', 'yes', 'no', 'yes', 'no', 'yes', 'brown']\n",
      "['brown', 'brown', 'purple', 'brown', 'no', 'no', 'yes', 'no', 'no', 'brown']\n",
      "\n",
      "\n",
      "['brown', 'brown', 'brown', 'brown', 'yes', 'no', 'no', 'yes', 'no', 'gray']\n",
      "['brown', 'brown', 'brown', 'brown', 'yes', 'no', 'no', 'yes', 'no', 'gray']\n",
      "\n",
      "\n",
      "['gray', 'gray', 'gray', 'gray', 'yes', 'no', 'no', 'yes', 'no', 'red']\n",
      "['gray', 'gray', 'gray', 'gray', 'no', 'no', 'no', 'yes', 'no', 'red']\n",
      "\n",
      "\n",
      "['red', 'red', 'purple', 'purple', 'yes', 'no', 'yes', 'no', 'yes', 'green']\n",
      "['red', 'red', 'purple', 'purple', 'yes', 'no', 'yes', 'no', 'yes', 'green']\n",
      "\n",
      "\n",
      "['green', 'green', 'green', 'green', 'no', 'yes', 'no', 'yes', 'no', 'gray']\n",
      "['green', 'green', 'brown', 'brown', 'no', 'yes', 'no', 'yes', 'no', 'gray']\n",
      "\n",
      "\n",
      "['gray', 'gray', 'gray', 'gray', 'yes', 'no', 'yes', 'no', 'yes', 'blue']\n",
      "['gray', 'gray', 'gray', 'gray', 'yes', 'no', 'yes', 'no', 'yes', 'blue']\n",
      "\n",
      "\n",
      "['blue', 'blue', 'blue', 'blue', 'no', 'yes', 'no', 'no', 'yes', 'green']\n",
      "['gray', 'cyan', 'blue', 'cyan', 'no', 'yes', 'no', 'no', 'yes', 'green']\n",
      "\n",
      "\n",
      "['brown', 'brown', 'green', 'brown', 'no', 'yes', 'no', 'yes', 'no', 'cyan']\n",
      "['green', 'green', 'green', 'green', 'no', 'yes', 'no', 'yes', 'no', 'cyan']\n",
      "\n",
      "\n",
      "['cyan', 'cyan', 'red', 'red', 'yes', 'no', 'yes', 'yes', 'no', 'red']\n",
      "['cyan', 'cyan', 'red', 'red', 'yes', 'no', 'yes', 'no', 'no', 'red']\n",
      "\n",
      "\n",
      "['red', 'cyan', 'red', 'cyan', 'yes', 'no', 'no', 'yes', 'no', 'green']\n",
      "['red', 'cyan', 'red', 'cyan', 'yes', 'no', 'no', 'no', 'no', 'green']\n",
      "\n",
      "\n",
      "['green', 'gray', 'gray', 'green', 'yes', 'yes', 'no', 'no', 'no', 'green']\n",
      "['green', 'gray', 'gray', 'gray', 'yes', 'yes', 'no', 'no', 'no', 'green']\n",
      "\n",
      "\n",
      "['green', 'red', 'red', 'red', 'yes', 'yes', 'no', 'no', 'yes', 'brown']\n",
      "['green', 'red', 'red', 'red', 'no', 'yes', 'yes', 'yes', 'yes', 'brown']\n",
      "\n",
      "\n",
      "['brown', 'brown', 'brown', 'brown', 'no', 'yes', 'no', 'yes', 'yes', 'yellow']\n",
      "['brown', 'brown', 'brown', 'brown', 'no', 'yes', 'no', 'yes', 'yes', 'yellow']\n",
      "\n",
      "\n",
      "['yellow', 'yellow', 'yellow', 'yellow', 'no', 'no', 'yes', 'no', 'yes', 'brown']\n",
      "['yellow', 'yellow', 'yellow', 'yellow', 'no', 'no', 'yes', 'no', 'yes', 'brown']\n",
      "\n",
      "\n",
      "['brown', 'brown', 'brown', 'brown', 'yes', 'no', 'no', 'yes', 'no', 'gray']\n",
      "['brown', 'brown', 'brown', 'brown', 'yes', 'no', 'no', 'yes', 'no', 'gray']\n",
      "\n",
      "\n",
      "['gray', 'yellow', 'gray', 'gray', 'no', 'yes', 'yes', 'yes', 'no', 'brown']\n",
      "['gray', 'yellow', 'gray', 'gray', 'no', 'yes', 'no', 'yes', 'no', 'brown']\n",
      "\n",
      "\n",
      "['red', 'red', 'red', 'brown', 'yes', 'no', 'no', 'yes', 'no', 'purple']\n",
      "['red', 'red', 'red', 'brown', 'yes', 'no', 'no', 'no', 'no', 'purple']\n",
      "\n",
      "\n",
      "['purple', 'purple', 'purple', 'purple', 'no', 'yes', 'no', 'yes', 'no', 'red']\n",
      "['purple', 'purple', 'purple', 'purple', 'no', 'yes', 'no', 'no', 'no', 'red']\n",
      "\n",
      "\n",
      "['green', 'green', 'red', 'red', 'yes', 'no', 'yes', 'no', 'yes', 'gray']\n",
      "['green', 'green', 'red', 'red', 'yes', 'no', 'yes', 'yes', 'yes', 'gray']\n",
      "\n",
      "\n",
      "['gray', 'gray', 'gray', 'gray', 'no', 'no', 'yes', 'no', 'yes', 'gray']\n",
      "['gray', 'gray', 'gray', 'gray', 'no', 'no', 'no', 'no', 'yes', 'red']\n",
      "\n",
      "\n",
      "['gray', 'gray', 'gray', 'gray', 'no', 'yes', 'no', 'yes', 'no', 'red']\n",
      "['red', 'red', 'red', 'red', 'no', 'no', 'no', 'no', 'no', 'red']\n",
      "\n",
      "\n",
      "['red', 'red', 'red', 'red', 'yes', 'no', 'yes', 'no', 'yes', 'green']\n",
      "['red', 'red', 'red', 'red', 'yes', 'no', 'no', 'no', 'yes', 'green']\n",
      "\n",
      "\n",
      "['green', 'green', 'green', 'green', 'no', 'yes', 'no', 'yes', 'yes', 'red']\n",
      "['green', 'yellow', 'yellow', 'green', 'no', 'no', 'no', 'yes', 'yes', 'red']\n",
      "\n",
      "\n",
      "['red', 'red', 'red', 'red', 'no', 'no', 'no', 'yes', 'no', 'cyan']\n",
      "['red', 'red', 'red', 'red', 'no', 'no', 'no', 'yes', 'no', 'cyan']\n",
      "\n",
      "\n",
      "['cyan', 'blue', 'blue', 'cyan', 'yes', 'no', 'yes', 'no', 'yes', 'purple']\n",
      "['cyan', 'cyan', 'cyan', 'cyan', 'yes', 'no', 'yes', 'no', 'yes', 'purple']\n",
      "\n",
      "\n",
      "['blue', 'blue', 'blue', 'blue', 'no', 'yes', 'yes', 'no', 'no', 'green']\n",
      "['blue', 'blue', 'blue', 'blue', 'no', 'no', 'yes', 'no', 'no', 'green']\n",
      "\n",
      "\n",
      "['green', 'green', 'green', 'green', 'yes', 'yes', 'yes', 'yes', 'no', 'blue']\n",
      "['green', 'green', 'green', 'green', 'no', 'yes', 'no', 'yes', 'yes', 'blue']\n",
      "\n",
      "\n",
      "['blue', 'blue', 'blue', 'blue', 'no', 'no', 'no', 'no', 'yes', 'brown']\n",
      "['gray', 'blue', 'blue', 'purple', 'no', 'no', 'no', 'no', 'yes', 'brown']\n",
      "\n",
      "\n",
      "['brown', 'brown', 'red', 'red', 'no', 'yes', 'no', 'yes', 'no', 'red']\n",
      "['red', 'brown', 'red', 'red', 'no', 'yes', 'no', 'yes', 'no', 'red']\n",
      "\n",
      "\n",
      "['red', 'red', 'red', 'red', 'yes', 'no', 'yes', 'no', 'yes', 'green']\n",
      "['red', 'red', 'red', 'red', 'yes', 'no', 'no', 'no', 'no', 'green']\n",
      "\n",
      "\n",
      "['yellow', 'green', 'green', 'red', 'no', 'yes', 'yes', 'no', 'yes', 'cyan']\n",
      "['yellow', 'green', 'green', 'red', 'no', 'no', 'no', 'no', 'no', 'cyan']\n",
      "\n",
      "\n",
      "['cyan', 'cyan', 'cyan', 'cyan', 'no', 'yes', 'no', 'yes', 'no', 'purple']\n",
      "['cyan', 'cyan', 'cyan', 'cyan', 'no', 'no', 'no', 'no', 'no', 'purple']\n",
      "\n",
      "\n",
      "['cyan', 'cyan', 'purple', 'purple', 'no', 'no', 'yes', 'no', 'yes', 'brown']\n",
      "['cyan', 'cyan', 'purple', 'purple', 'no', 'no', 'yes', 'no', 'yes', 'brown']\n",
      "\n",
      "\n",
      "['cyan', 'cyan', 'cyan', 'cyan', 'no', 'yes', 'no', 'yes', 'no', 'red']\n",
      "['cyan', 'cyan', 'cyan', 'cyan', 'no', 'no', 'no', 'yes', 'no', 'gray']\n",
      "\n",
      "\n",
      "['red', 'red', 'red', 'red', 'yes', 'no', 'yes', 'no', 'yes', 'green']\n",
      "['red', 'purple', 'red', 'red', 'no', 'no', 'yes', 'no', 'no', 'green']\n",
      "\n",
      "\n",
      "['green', 'green', 'green', 'green', 'yes', 'no', 'no', 'yes', 'yes', 'gray']\n",
      "['red', 'green', 'green', 'green', 'no', 'yes', 'no', 'yes', 'yes', 'purple']\n",
      "\n",
      "\n",
      "['gray', 'gray', 'gray', 'gray', 'yes', 'no', 'no', 'no', 'yes', 'purple']\n",
      "['gray', 'purple', 'purple', 'gray', 'yes', 'no', 'no', 'no', 'no', 'purple']\n",
      "\n",
      "\n",
      "['purple', 'purple', 'green', 'green', 'no', 'no', 'yes', 'no', 'yes', 'green']\n",
      "['purple', 'purple', 'green', 'green', 'no', 'no', 'yes', 'no', 'yes', 'green']\n",
      "\n",
      "\n",
      "['cyan', 'green', 'green', 'cyan', 'no', 'yes', 'no', 'yes', 'no', 'yellow']\n",
      "['cyan', 'green', 'green', 'cyan', 'no', 'yes', 'no', 'yes', 'no', 'yellow']\n",
      "\n",
      "\n",
      "['yellow', 'cyan', 'cyan', 'yellow', 'yes', 'no', 'yes', 'no', 'yes', 'blue']\n",
      "['yellow', 'cyan', 'cyan', 'yellow', 'yes', 'no', 'yes', 'no', 'yes', 'blue']\n",
      "\n",
      "\n",
      "['green', 'green', 'blue', 'blue', 'no', 'no', 'yes', 'no', 'yes', 'blue']\n",
      "['green', 'green', 'blue', 'blue', 'no', 'no', 'no', 'no', 'yes', 'blue']\n",
      "\n",
      "\n",
      "['purple', 'purple', 'blue', 'purple', 'no', 'yes', 'yes', 'yes', 'no', 'cyan']\n",
      "['purple', 'purple', 'blue', 'purple', 'no', 'yes', 'yes', 'yes', 'yes', 'gray']\n",
      "\n",
      "\n",
      "['purple', 'cyan', 'cyan', 'cyan', 'yes', 'no', 'no', 'no', 'yes', 'blue']\n",
      "['purple', 'cyan', 'cyan', 'cyan', 'yes', 'no', 'no', 'no', 'yes', 'blue']\n",
      "\n",
      "\n",
      "['blue', 'blue', 'blue', 'blue', 'no', 'yes', 'no', 'yes', 'yes', 'yellow']\n",
      "['blue', 'blue', 'blue', 'blue', 'no', 'yes', 'no', 'no', 'yes', 'yellow']\n",
      "\n",
      "\n",
      "['yellow', 'yellow', 'yellow', 'yellow', 'no', 'no', 'no', 'yes', 'no', 'green']\n",
      "['yellow', 'yellow', 'red', 'red', 'no', 'yes', 'no', 'no', 'no', 'cyan']\n",
      "\n",
      "\n",
      "['green', 'green', 'green', 'green', 'yes', 'no', 'yes', 'no', 'yes', 'brown']\n",
      "['green', 'green', 'green', 'green', 'yes', 'yes', 'yes', 'no', 'yes', 'yellow']\n",
      "\n",
      "\n",
      "['green', 'green', 'green', 'brown', 'no', 'yes', 'no', 'yes', 'no', 'red']\n",
      "['green', 'green', 'green', 'brown', 'no', 'yes', 'no', 'yes', 'no', 'red']\n",
      "\n",
      "\n",
      "['red', 'red', 'red', 'red', 'yes', 'no', 'yes', 'no', 'yes', 'blue']\n",
      "['red', 'red', 'red', 'red', 'no', 'no', 'no', 'no', 'yes', 'blue']\n",
      "\n",
      "\n",
      "['purple', 'purple', 'blue', 'blue', 'yes', 'no', 'no', 'no', 'yes', 'purple']\n",
      "['purple', 'gray', 'blue', 'blue', 'yes', 'no', 'yes', 'no', 'no', 'purple']\n",
      "\n",
      "\n",
      "['purple', 'purple', 'purple', 'purple', 'no', 'yes', 'no', 'yes', 'yes', 'brown']\n",
      "['purple', 'purple', 'purple', 'purple', 'no', 'yes', 'no', 'no', 'yes', 'red']\n",
      "\n",
      "\n",
      "['brown', 'cyan', 'cyan', 'cyan', 'yes', 'no', 'no', 'no', 'yes', 'blue']\n",
      "['red', 'cyan', 'cyan', 'cyan', 'no', 'no', 'no', 'no', 'no', 'blue']\n",
      "\n",
      "\n",
      "['red', 'red', 'blue', 'blue', 'no', 'yes', 'no', 'yes', 'no', 'red']\n",
      "['red', 'red', 'blue', 'blue', 'no', 'yes', 'no', 'yes', 'no', 'red']\n",
      "\n",
      "\n",
      "['red', 'red', 'green', 'red', 'yes', 'no', 'yes', 'no', 'no', 'blue']\n",
      "['red', 'red', 'green', 'red', 'yes', 'no', 'yes', 'no', 'no', 'gray']\n",
      "\n",
      "\n",
      "['blue', 'green', 'green', 'blue', 'yes', 'no', 'yes', 'no', 'yes', 'brown']\n",
      "['gray', 'green', 'green', 'gray', 'yes', 'no', 'yes', 'no', 'yes', 'brown']\n",
      "\n",
      "\n",
      "['brown', 'yellow', 'brown', 'brown', 'yes', 'yes', 'no', 'yes', 'no', 'red']\n"
     ]
    },
    {
     "name": "stdout",
     "output_type": "stream",
     "text": [
      "['brown', 'yellow', 'brown', 'brown', 'no', 'yes', 'yes', 'yes', 'no', 'red']\n",
      "\n",
      "\n",
      "['red', 'red', 'red', 'red', 'no', 'no', 'yes', 'yes', 'yes', 'yellow']\n",
      "['red', 'red', 'red', 'red', 'no', 'no', 'yes', 'yes', 'yes', 'yellow']\n",
      "\n",
      "\n",
      "['yellow', 'yellow', 'yellow', 'yellow', 'yes', 'no', 'no', 'no', 'no', 'green']\n",
      "['yellow', 'yellow', 'yellow', 'yellow', 'yes', 'no', 'no', 'no', 'yes', 'green']\n",
      "\n",
      "\n",
      "['green', 'green', 'gray', 'gray', 'no', 'yes', 'no', 'yes', 'no', 'brown']\n",
      "['green', 'green', 'gray', 'gray', 'no', 'yes', 'no', 'yes', 'no', 'brown']\n",
      "\n",
      "\n",
      "['brown', 'blue', 'brown', 'brown', 'yes', 'no', 'yes', 'yes', 'yes', 'green']\n",
      "['purple', 'blue', 'purple', 'brown', 'yes', 'no', 'yes', 'yes', 'yes', 'green']\n",
      "\n",
      "\n",
      "['green', 'cyan', 'green', 'cyan', 'no', 'no', 'no', 'yes', 'no', 'yellow']\n",
      "['green', 'cyan', 'green', 'cyan', 'no', 'no', 'no', 'yes', 'no', 'yellow']\n",
      "\n",
      "\n",
      "['yellow', 'yellow', 'yellow', 'yellow', 'yes', 'no', 'yes', 'no', 'yes', 'purple']\n",
      "['purple', 'purple', 'purple', 'purple', 'yes', 'no', 'yes', 'no', 'yes', 'purple']\n",
      "\n",
      "\n",
      "['purple', 'purple', 'purple', 'purple', 'no', 'yes', 'no', 'yes', 'no', 'red']\n",
      "['purple', 'purple', 'purple', 'purple', 'no', 'yes', 'no', 'no', 'no', 'red']\n",
      "\n",
      "\n",
      "['cyan', 'cyan', 'cyan', 'red', 'no', 'yes', 'no', 'yes', 'no', 'purple']\n",
      "['cyan', 'cyan', 'cyan', 'red', 'no', 'yes', 'no', 'yes', 'no', 'purple']\n",
      "\n",
      "\n",
      "['purple', 'purple', 'yellow', 'yellow', 'yes', 'no', 'yes', 'no', 'yes', 'green']\n",
      "['purple', 'purple', 'yellow', 'yellow', 'no', 'no', 'yes', 'no', 'yes', 'green']\n",
      "\n",
      "\n",
      "['green', 'green', 'green', 'blue', 'no', 'yes', 'no', 'yes', 'no', 'gray']\n",
      "['green', 'green', 'green', 'blue', 'no', 'yes', 'no', 'yes', 'no', 'gray']\n",
      "\n",
      "\n",
      "['purple', 'gray', 'gray', 'purple', 'yes', 'no', 'no', 'yes', 'no', 'yellow']\n",
      "['purple', 'gray', 'gray', 'purple', 'yes', 'no', 'no', 'yes', 'no', 'yellow']\n",
      "\n",
      "\n",
      "['yellow', 'yellow', 'yellow', 'yellow', 'yes', 'no', 'yes', 'no', 'yes', 'blue']\n",
      "['yellow', 'yellow', 'yellow', 'yellow', 'no', 'no', 'yes', 'no', 'yes', 'blue']\n",
      "\n",
      "\n",
      "['blue', 'blue', 'blue', 'blue', 'no', 'yes', 'no', 'yes', 'no', 'cyan']\n",
      "['blue', 'blue', 'blue', 'blue', 'no', 'yes', 'yes', 'no', 'no', 'cyan']\n",
      "\n",
      "\n",
      "['cyan', 'cyan', 'purple', 'purple', 'yes', 'no', 'yes', 'yes', 'no', 'cyan']\n",
      "['cyan', 'cyan', 'purple', 'purple', 'yes', 'no', 'yes', 'yes', 'no', 'cyan']\n",
      "\n",
      "\n",
      "['cyan', 'brown', 'brown', 'brown', 'no', 'yes', 'no', 'yes', 'no', 'red']\n",
      "['cyan', 'brown', 'brown', 'brown', 'no', 'yes', 'no', 'no', 'no', 'red']\n",
      "\n",
      "\n",
      "['red', 'red', 'red', 'red', 'no', 'yes', 'no', 'yes', 'no', 'green']\n",
      "['red', 'red', 'red', 'red', 'no', 'no', 'no', 'yes', 'no', 'green']\n",
      "\n",
      "\n",
      "['green', 'green', 'green', 'green', 'yes', 'yes', 'no', 'no', 'yes', 'gray']\n",
      "['green', 'green', 'green', 'green', 'yes', 'yes', 'yes', 'yes', 'yes', 'gray']\n",
      "\n",
      "\n",
      "['brown', 'gray', 'gray', 'brown', 'no', 'yes', 'no', 'yes', 'yes', 'purple']\n",
      "['gray', 'gray', 'gray', 'gray', 'yes', 'yes', 'no', 'yes', 'no', 'purple']\n",
      "\n",
      "\n",
      "['purple', 'purple', 'green', 'green', 'no', 'yes', 'no', 'yes', 'no', 'blue']\n",
      "['purple', 'purple', 'green', 'green', 'yes', 'yes', 'no', 'yes', 'no', 'blue']\n",
      "\n",
      "\n",
      "['gray', 'gray', 'gray', 'gray', 'no', 'yes', 'yes', 'no', 'yes', 'purple']\n",
      "['gray', 'gray', 'gray', 'gray', 'no', 'yes', 'no', 'no', 'no', 'purple']\n",
      "\n",
      "\n",
      "['purple', 'purple', 'purple', 'purple', 'no', 'no', 'no', 'yes', 'no', 'cyan']\n",
      "['purple', 'purple', 'purple', 'purple', 'no', 'no', 'no', 'yes', 'no', 'cyan']\n",
      "\n",
      "\n",
      "['cyan', 'cyan', 'cyan', 'cyan', 'yes', 'no', 'yes', 'no', 'yes', 'blue']\n",
      "['cyan', 'cyan', 'cyan', 'cyan', 'yes', 'no', 'yes', 'no', 'yes', 'cyan']\n",
      "\n",
      "\n",
      "['cyan', 'blue', 'cyan', 'cyan', 'no', 'yes', 'no', 'yes', 'yes', 'brown']\n",
      "['cyan', 'cyan', 'cyan', 'cyan', 'no', 'yes', 'no', 'yes', 'yes', 'brown']\n",
      "\n",
      "\n",
      "['brown', 'brown', 'brown', 'brown', 'no', 'no', 'no', 'yes', 'no', 'yellow']\n",
      "['brown', 'brown', 'brown', 'brown', 'no', 'no', 'no', 'yes', 'yes', 'yellow']\n",
      "\n",
      "\n",
      "['cyan', 'yellow', 'cyan', 'cyan', 'yes', 'no', 'yes', 'no', 'yes', 'red']\n",
      "['cyan', 'yellow', 'cyan', 'cyan', 'yes', 'no', 'yes', 'no', 'no', 'red']\n",
      "\n",
      "\n",
      "['red', 'red', 'red', 'red', 'no', 'yes', 'no', 'yes', 'no', 'yellow']\n",
      "['red', 'red', 'red', 'red', 'no', 'no', 'no', 'yes', 'no', 'yellow']\n",
      "\n",
      "\n",
      "['yellow', 'yellow', 'yellow', 'yellow', 'yes', 'yes', 'no', 'no', 'yes', 'cyan']\n",
      "['yellow', 'yellow', 'yellow', 'yellow', 'no', 'yes', 'no', 'yes', 'yes', 'cyan']\n",
      "\n",
      "\n",
      "['cyan', 'cyan', 'cyan', 'cyan', 'no', 'no', 'yes', 'no', 'yes', 'yellow']\n",
      "['cyan', 'cyan', 'cyan', 'cyan', 'no', 'no', 'yes', 'no', 'yes', 'yellow']\n",
      "\n",
      "\n",
      "['yellow', 'yellow', 'yellow', 'yellow', 'no', 'yes', 'no', 'yes', 'no', 'red']\n",
      "['yellow', 'yellow', 'yellow', 'yellow', 'no', 'no', 'no', 'yes', 'no', 'red']\n",
      "\n",
      "\n",
      "['red', 'red', 'red', 'red', 'yes', 'yes', 'yes', 'no', 'yes', 'cyan']\n",
      "['red', 'red', 'red', 'red', 'no', 'yes', 'no', 'yes', 'yes', 'cyan']\n",
      "\n",
      "\n",
      "['cyan', 'cyan', 'cyan', 'cyan', 'no', 'no', 'yes', 'no', 'no', 'red']\n",
      "['cyan', 'cyan', 'cyan', 'cyan', 'no', 'no', 'yes', 'no', 'no', 'red']\n",
      "\n",
      "\n",
      "['red', 'blue', 'blue', 'red', 'yes', 'no', 'no', 'yes', 'no', 'blue']\n",
      "['red', 'blue', 'blue', 'red', 'yes', 'no', 'no', 'yes', 'no', 'blue']\n",
      "\n",
      "\n",
      "['blue', 'blue', 'blue', 'blue', 'yes', 'no', 'yes', 'no', 'yes', 'yellow']\n",
      "['blue', 'blue', 'blue', 'red', 'no', 'yes', 'yes', 'no', 'yes', 'yellow']\n",
      "\n",
      "\n",
      "['yellow', 'yellow', 'yellow', 'yellow', 'no', 'yes', 'no', 'yes', 'no', 'yellow']\n",
      "['yellow', 'yellow', 'yellow', 'yellow', 'no', 'yes', 'no', 'yes', 'yes', 'yellow']\n",
      "\n",
      "\n",
      "['brown', 'brown', 'yellow', 'brown', 'yes', 'yes', 'no', 'no', 'yes', 'green']\n",
      "['brown', 'brown', 'yellow', 'brown', 'yes', 'yes', 'no', 'no', 'yes', 'green']\n",
      "\n",
      "\n",
      "['gray', 'green', 'gray', 'gray', 'no', 'yes', 'no', 'no', 'yes', 'brown']\n",
      "['gray', 'green', 'gray', 'gray', 'no', 'yes', 'no', 'no', 'yes', 'brown']\n",
      "\n",
      "\n",
      "['brown', 'brown', 'brown', 'brown', 'no', 'yes', 'no', 'yes', 'no', 'brown']\n",
      "['brown', 'brown', 'brown', 'brown', 'no', 'yes', 'no', 'yes', 'no', 'brown']\n",
      "\n",
      "\n",
      "['brown', 'brown', 'brown', 'brown', 'yes', 'no', 'yes', 'yes', 'no', 'green']\n",
      "['brown', 'brown', 'brown', 'brown', 'no', 'no', 'no', 'no', 'no', 'green']\n",
      "\n",
      "\n",
      "['purple', 'gray', 'green', 'gray', 'no', 'yes', 'no', 'yes', 'no', 'blue']\n",
      "['purple', 'gray', 'green', 'gray', 'no', 'yes', 'no', 'yes', 'no', 'blue']\n",
      "\n",
      "\n",
      "['blue', 'blue', 'blue', 'blue', 'yes', 'no', 'yes', 'no', 'no', 'yellow']\n",
      "['cyan', 'blue', 'gray', 'blue', 'no', 'no', 'yes', 'yes', 'no', 'yellow']\n",
      "\n",
      "\n",
      "['yellow', 'yellow', 'yellow', 'yellow', 'yes', 'no', 'yes', 'no', 'yes', 'brown']\n",
      "['yellow', 'yellow', 'yellow', 'cyan', 'yes', 'no', 'no', 'no', 'yes', 'brown']\n",
      "\n",
      "\n",
      "['brown', 'brown', 'brown', 'brown', 'yes', 'yes', 'no', 'yes', 'no', 'purple']\n",
      "['brown', 'brown', 'brown', 'brown', 'no', 'no', 'no', 'yes', 'no', 'purple']\n",
      "\n",
      "\n",
      "['purple', 'purple', 'purple', 'purple', 'no', 'no', 'yes', 'no', 'yes', 'gray']\n",
      "['purple', 'purple', 'purple', 'purple', 'no', 'yes', 'yes', 'no', 'yes', 'purple']\n",
      "\n",
      "\n",
      "['green', 'red', 'red', 'red', 'no', 'yes', 'no', 'yes', 'no', 'green']\n",
      "['green', 'red', 'red', 'red', 'no', 'yes', 'no', 'yes', 'no', 'green']\n",
      "\n",
      "\n",
      "['brown', 'brown', 'brown', 'green', 'no', 'yes', 'yes', 'no', 'no', 'blue']\n",
      "['brown', 'brown', 'brown', 'green', 'no', 'yes', 'no', 'no', 'no', 'blue']\n",
      "\n",
      "\n",
      "['gray', 'gray', 'blue', 'blue', 'yes', 'no', 'yes', 'no', 'yes', 'red']\n",
      "['brown', 'gray', 'blue', 'blue', 'yes', 'no', 'no', 'no', 'yes', 'purple']\n",
      "\n",
      "\n",
      "['purple', 'purple', 'purple', 'purple', 'yes', 'no', 'no', 'yes', 'yes', 'gray']\n",
      "['purple', 'purple', 'purple', 'purple', 'yes', 'yes', 'no', 'no', 'yes', 'gray']\n",
      "\n",
      "\n",
      "['gray', 'gray', 'gray', 'gray', 'no', 'no', 'yes', 'no', 'yes', 'blue']\n",
      "['gray', 'gray', 'gray', 'gray', 'no', 'no', 'no', 'no', 'yes', 'blue']\n",
      "\n",
      "\n",
      "['purple', 'purple', 'blue', 'blue', 'no', 'no', 'yes', 'yes', 'yes', 'cyan']\n",
      "['purple', 'purple', 'blue', 'blue', 'no', 'no', 'yes', 'yes', 'yes', 'cyan']\n",
      "\n",
      "\n",
      "['cyan', 'cyan', 'cyan', 'cyan', 'no', 'no', 'no', 'yes', 'yes', 'yellow']\n",
      "['cyan', 'cyan', 'cyan', 'cyan', 'no', 'no', 'no', 'yes', 'no', 'yellow']\n",
      "\n",
      "\n",
      "['yellow', 'yellow', 'yellow', 'yellow', 'no', 'no', 'yes', 'no', 'yes', 'gray']\n",
      "['yellow', 'yellow', 'yellow', 'yellow', 'no', 'no', 'yes', 'no', 'yes', 'red']\n",
      "\n",
      "\n",
      "['gray', 'gray', 'gray', 'gray', 'no', 'yes', 'no', 'yes', 'yes', 'green']\n",
      "['gray', 'gray', 'gray', 'gray', 'no', 'yes', 'no', 'yes', 'yes', 'brown']\n",
      "\n",
      "\n",
      "['brown', 'brown', 'green', 'brown', 'no', 'yes', 'no', 'yes', 'yes', 'yellow']\n",
      "['brown', 'brown', 'green', 'brown', 'no', 'no', 'no', 'no', 'no', 'yellow']\n",
      "\n",
      "\n",
      "['yellow', 'yellow', 'green', 'yellow', 'no', 'no', 'no', 'yes', 'no', 'purple']\n",
      "['yellow', 'yellow', 'green', 'yellow', 'no', 'no', 'no', 'yes', 'no', 'purple']\n",
      "\n",
      "\n",
      "['gray', 'purple', 'gray', 'purple', 'yes', 'no', 'no', 'yes', 'yes', 'cyan']\n",
      "['gray', 'purple', 'brown', 'purple', 'yes', 'no', 'no', 'yes', 'yes', 'purple']\n",
      "\n",
      "\n",
      "['cyan', 'cyan', 'cyan', 'cyan', 'no', 'no', 'yes', 'yes', 'no', 'brown']\n",
      "['cyan', 'cyan', 'cyan', 'purple', 'no', 'no', 'no', 'yes', 'no', 'brown']\n",
      "\n",
      "\n",
      "['brown', 'blue', 'red', 'blue', 'yes', 'no', 'no', 'no', 'yes', 'yellow']\n",
      "['brown', 'blue', 'red', 'blue', 'no', 'no', 'no', 'no', 'yes', 'yellow']\n",
      "\n",
      "\n",
      "['yellow', 'yellow', 'yellow', 'yellow', 'no', 'yes', 'yes', 'no', 'no', 'purple']\n",
      "['yellow', 'yellow', 'yellow', 'yellow', 'no', 'yes', 'no', 'no', 'no', 'purple']\n",
      "\n",
      "\n",
      "['purple', 'purple', 'yellow', 'purple', 'yes', 'no', 'yes', 'no', 'yes', 'blue']\n",
      "['purple', 'purple', 'yellow', 'purple', 'yes', 'no', 'yes', 'yes', 'no', 'blue']\n",
      "\n",
      "\n",
      "['yellow', 'blue', 'blue', 'blue', 'no', 'yes', 'yes', 'no', 'no', 'blue']\n",
      "['yellow', 'blue', 'blue', 'purple', 'no', 'yes', 'yes', 'yes', 'no', 'blue']\n",
      "\n",
      "\n",
      "['blue', 'blue', 'blue', 'blue', 'yes', 'no', 'yes', 'yes', 'yes', 'red']\n",
      "['blue', 'blue', 'blue', 'blue', 'yes', 'no', 'yes', 'yes', 'yes', 'red']\n",
      "\n",
      "\n",
      "['purple', 'red', 'red', 'red', 'no', 'no', 'no', 'no', 'yes', 'red']\n",
      "['purple', 'red', 'red', 'red', 'no', 'no', 'no', 'no', 'no', 'red']\n",
      "\n",
      "\n",
      "['cyan', 'cyan', 'cyan', 'red', 'no', 'yes', 'no', 'yes', 'no', 'green']\n",
      "['cyan', 'cyan', 'cyan', 'red', 'no', 'yes', 'no', 'yes', 'no', 'green']\n",
      "\n",
      "\n",
      "['green', 'cyan', 'green', 'green', 'yes', 'no', 'yes', 'yes', 'no', 'green']\n",
      "['green', 'cyan', 'green', 'green', 'yes', 'yes', 'yes', 'yes', 'no', 'green']\n",
      "\n",
      "\n",
      "['gray', 'red', 'green', 'gray', 'no', 'yes', 'no', 'yes', 'yes', 'cyan']\n",
      "['gray', 'red', 'green', 'gray', 'no', 'yes', 'no', 'yes', 'yes', 'cyan']\n",
      "\n",
      "\n",
      "['cyan', 'green', 'cyan', 'cyan', 'no', 'yes', 'no', 'no', 'yes', 'cyan']\n",
      "['cyan', 'green', 'cyan', 'cyan', 'no', 'no', 'no', 'no', 'no', 'cyan']\n",
      "\n",
      "\n",
      "['cyan', 'cyan', 'cyan', 'cyan', 'yes', 'yes', 'no', 'no', 'no', 'cyan']\n",
      "['cyan', 'cyan', 'cyan', 'cyan', 'yes', 'no', 'no', 'no', 'yes', 'cyan']\n",
      "\n",
      "\n",
      "['cyan', 'cyan', 'cyan', 'cyan', 'no', 'yes', 'no', 'yes', 'no', 'blue']\n",
      "['cyan', 'cyan', 'cyan', 'cyan', 'no', 'yes', 'no', 'yes', 'no', 'gray']\n",
      "\n",
      "\n",
      "['blue', 'blue', 'blue', 'blue', 'yes', 'no', 'yes', 'no', 'yes', 'yellow']\n",
      "['blue', 'purple', 'blue', 'blue', 'yes', 'no', 'yes', 'no', 'yes', 'yellow']\n",
      "\n",
      "\n",
      "['yellow', 'yellow', 'yellow', 'yellow', 'no', 'no', 'yes', 'no', 'yes', 'gray']\n",
      "['yellow', 'yellow', 'yellow', 'yellow', 'no', 'yes', 'yes', 'yes', 'yes', 'gray']\n",
      "\n",
      "\n",
      "['gray', 'gray', 'gray', 'gray', 'no', 'yes', 'no', 'yes', 'no', 'purple']\n",
      "['gray', 'gray', 'gray', 'gray', 'no', 'no', 'no', 'yes', 'no', 'purple']\n",
      "\n",
      "\n",
      "['purple', 'purple', 'purple', 'purple', 'yes', 'no', 'yes', 'no', 'yes', 'gray']\n",
      "['purple', 'purple', 'purple', 'purple', 'no', 'no', 'yes', 'no', 'yes', 'gray']\n",
      "\n",
      "\n",
      "['gray', 'gray', 'gray', 'gray', 'no', 'yes', 'no', 'yes', 'yes', 'blue']\n",
      "['gray', 'gray', 'gray', 'gray', 'no', 'yes', 'no', 'yes', 'yes', 'blue']\n",
      "\n",
      "\n",
      "['blue', 'blue', 'green', 'blue', 'no', 'no', 'no', 'yes', 'no', 'green']\n",
      "['blue', 'blue', 'green', 'blue', 'no', 'no', 'no', 'yes', 'no', 'red']\n",
      "\n",
      "\n",
      "['red', 'green', 'red', 'green', 'yes', 'no', 'yes', 'no', 'yes', 'blue']\n",
      "['red', 'red', 'red', 'red', 'yes', 'no', 'no', 'no', 'yes', 'cyan']\n",
      "\n",
      "\n",
      "['brown', 'brown', 'brown', 'brown', 'no', 'yes', 'no', 'yes', 'no', 'purple']\n",
      "['brown', 'brown', 'brown', 'brown', 'yes', 'yes', 'no', 'yes', 'no', 'purple']\n",
      "\n",
      "\n",
      "['purple', 'purple', 'purple', 'cyan', 'yes', 'yes', 'no', 'yes', 'yes', 'purple']\n",
      "['purple', 'purple', 'purple', 'purple', 'yes', 'yes', 'no', 'yes', 'yes', 'purple']\n",
      "\n",
      "\n",
      "['purple', 'purple', 'purple', 'purple', 'no', 'no', 'no', 'no', 'yes', 'green']\n",
      "['purple', 'purple', 'purple', 'purple', 'no', 'no', 'no', 'no', 'no', 'green']\n",
      "\n",
      "\n",
      "['green', 'cyan', 'green', 'cyan', 'no', 'yes', 'yes', 'yes', 'no', 'yellow']\n",
      "['green', 'cyan', 'green', 'cyan', 'yes', 'no', 'no', 'yes', 'no', 'yellow']\n",
      "\n",
      "\n",
      "['yellow', 'red', 'red', 'red', 'yes', 'no', 'no', 'no', 'yes', 'gray']\n",
      "['yellow', 'red', 'red', 'red', 'no', 'no', 'no', 'no', 'no', 'gray']\n",
      "\n",
      "\n",
      "['purple', 'gray', 'purple', 'purple', 'no', 'yes', 'no', 'yes', 'no', 'blue']\n",
      "['purple', 'gray', 'purple', 'purple', 'no', 'yes', 'no', 'yes', 'no', 'blue']\n",
      "\n",
      "\n",
      "['green', 'blue', 'blue', 'blue', 'yes', 'no', 'yes', 'yes', 'yes', 'gray']\n",
      "['green', 'blue', 'blue', 'purple', 'yes', 'yes', 'yes', 'yes', 'yes', 'gray']\n",
      "\n",
      "\n",
      "['blue', 'blue', 'purple', 'blue', 'no', 'no', 'yes', 'yes', 'yes', 'red']\n",
      "['blue', 'blue', 'purple', 'blue', 'no', 'no', 'no', 'yes', 'yes', 'red']\n",
      "\n",
      "\n",
      "['red', 'red', 'red', 'red', 'yes', 'no', 'no', 'no', 'no', 'gray']\n",
      "['red', 'red', 'red', 'red', 'yes', 'no', 'no', 'no', 'no', 'gray']\n",
      "\n",
      "\n",
      "['green', 'green', 'gray', 'green', 'yes', 'yes', 'no', 'no', 'no', 'yellow']\n",
      "['green', 'green', 'gray', 'green', 'no', 'yes', 'no', 'no', 'no', 'yellow']\n",
      "\n",
      "\n",
      "['gray', 'yellow', 'gray', 'gray', 'no', 'yes', 'no', 'yes', 'yes', 'purple']\n",
      "['gray', 'yellow', 'gray', 'gray', 'no', 'yes', 'no', 'yes', 'no', 'purple']\n",
      "\n",
      "\n",
      "['purple', 'purple', 'purple', 'purple', 'yes', 'no', 'no', 'no', 'yes', 'yellow']\n",
      "['purple', 'purple', 'purple', 'purple', 'yes', 'no', 'no', 'no', 'no', 'yellow']\n",
      "\n",
      "\n",
      "['brown', 'brown', 'brown', 'brown', 'no', 'no', 'yes', 'no', 'yes', 'green']\n",
      "['brown', 'brown', 'brown', 'brown', 'no', 'no', 'yes', 'no', 'no', 'green']\n",
      "\n",
      "\n",
      "['cyan', 'cyan', 'green', 'green', 'yes', 'no', 'no', 'yes', 'yes', 'yellow']\n",
      "['cyan', 'cyan', 'green', 'green', 'yes', 'no', 'no', 'yes', 'yes', 'yellow']\n",
      "\n",
      "\n",
      "['yellow', 'yellow', 'yellow', 'yellow', 'no', 'no', 'yes', 'yes', 'no', 'brown']\n",
      "['yellow', 'yellow', 'yellow', 'yellow', 'no', 'no', 'yes', 'yes', 'no', 'brown']\n",
      "\n",
      "\n",
      "['brown', 'brown', 'yellow', 'yellow', 'no', 'no', 'yes', 'yes', 'no', 'red']\n",
      "['brown', 'brown', 'yellow', 'yellow', 'no', 'no', 'yes', 'yes', 'no', 'red']\n",
      "\n",
      "\n",
      "['red', 'gray', 'red', 'red', 'no', 'yes', 'no', 'yes', 'no', 'red']\n",
      "['red', 'gray', 'red', 'red', 'yes', 'yes', 'no', 'yes', 'no', 'red']\n",
      "\n",
      "\n",
      "['blue', 'red', 'brown', 'brown', 'yes', 'no', 'yes', 'no', 'yes', 'gray']\n",
      "['blue', 'red', 'brown', 'brown', 'yes', 'no', 'yes', 'no', 'yes', 'gray']\n",
      "\n",
      "\n",
      "['red', 'gray', 'gray', 'gray', 'no', 'yes', 'no', 'yes', 'no', 'brown']\n",
      "['red', 'gray', 'gray', 'gray', 'yes', 'yes', 'yes', 'yes', 'no', 'brown']\n",
      "\n",
      "\n",
      "['brown', 'brown', 'brown', 'brown', 'yes', 'no', 'no', 'yes', 'yes', 'green']\n",
      "['brown', 'brown', 'brown', 'brown', 'yes', 'no', 'no', 'yes', 'yes', 'green']\n",
      "\n",
      "\n"
     ]
    },
    {
     "name": "stdout",
     "output_type": "stream",
     "text": [
      "['gray', 'green', 'purple', 'gray', 'yes', 'no', 'yes', 'no', 'no', 'cyan']\n",
      "['gray', 'green', 'purple', 'gray', 'no', 'no', 'yes', 'no', 'no', 'cyan']\n",
      "\n",
      "\n",
      "['cyan', 'red', 'cyan', 'red', 'no', 'yes', 'no', 'yes', 'no', 'cyan']\n",
      "['cyan', 'red', 'cyan', 'cyan', 'no', 'yes', 'no', 'no', 'no', 'cyan']\n",
      "\n",
      "\n",
      "['cyan', 'cyan', 'cyan', 'cyan', 'yes', 'no', 'yes', 'no', 'yes', 'yellow']\n",
      "['cyan', 'cyan', 'red', 'cyan', 'yes', 'no', 'yes', 'no', 'yes', 'yellow']\n",
      "\n",
      "\n",
      "['yellow', 'yellow', 'yellow', 'yellow', 'no', 'yes', 'yes', 'no', 'no', 'brown']\n",
      "['yellow', 'yellow', 'yellow', 'yellow', 'no', 'yes', 'yes', 'yes', 'no', 'brown']\n",
      "\n",
      "\n",
      "['brown', 'brown', 'brown', 'brown', 'no', 'yes', 'no', 'yes', 'no', 'green']\n",
      "['brown', 'purple', 'brown', 'brown', 'no', 'yes', 'no', 'no', 'no', 'green']\n",
      "\n",
      "\n",
      "['green', 'green', 'green', 'green', 'yes', 'yes', 'no', 'no', 'yes', 'purple']\n",
      "['green', 'green', 'green', 'green', 'yes', 'yes', 'no', 'no', 'yes', 'purple']\n",
      "\n",
      "\n",
      "['purple', 'gray', 'gray', 'purple', 'yes', 'no', 'no', 'yes', 'yes', 'yellow']\n",
      "['purple', 'gray', 'gray', 'purple', 'yes', 'no', 'no', 'no', 'yes', 'yellow']\n",
      "\n",
      "\n",
      "['yellow', 'yellow', 'yellow', 'yellow', 'no', 'no', 'yes', 'no', 'yes', 'gray']\n",
      "['green', 'green', 'purple', 'green', 'no', 'no', 'yes', 'no', 'yes', 'gray']\n",
      "\n",
      "\n",
      "['cyan', 'gray', 'gray', 'cyan', 'no', 'no', 'yes', 'no', 'yes', 'red']\n",
      "['cyan', 'gray', 'cyan', 'cyan', 'no', 'no', 'yes', 'yes', 'yes', 'red']\n",
      "\n",
      "\n",
      "['red', 'red', 'red', 'red', 'no', 'yes', 'yes', 'no', 'no', 'cyan']\n",
      "['red', 'red', 'red', 'red', 'no', 'yes', 'no', 'no', 'no', 'cyan']\n",
      "\n",
      "\n",
      "['purple', 'cyan', 'cyan', 'purple', 'yes', 'no', 'yes', 'no', 'yes', 'yellow']\n",
      "['purple', 'cyan', 'cyan', 'purple', 'no', 'no', 'yes', 'no', 'yes', 'yellow']\n",
      "\n",
      "\n",
      "['yellow', 'yellow', 'purple', 'purple', 'no', 'yes', 'no', 'yes', 'no', 'blue']\n",
      "['yellow', 'yellow', 'purple', 'purple', 'yes', 'yes', 'no', 'yes', 'yes', 'blue']\n",
      "\n",
      "\n",
      "['blue', 'blue', 'blue', 'blue', 'no', 'yes', 'yes', 'no', 'no', 'purple']\n",
      "['blue', 'blue', 'blue', 'blue', 'no', 'yes', 'no', 'no', 'no', 'purple']\n",
      "\n",
      "\n",
      "['purple', 'blue', 'purple', 'blue', 'yes', 'no', 'yes', 'no', 'yes', 'purple']\n",
      "['purple', 'blue', 'purple', 'blue', 'yes', 'no', 'no', 'yes', 'yes', 'purple']\n",
      "\n",
      "\n",
      "['purple', 'purple', 'gray', 'purple', 'yes', 'no', 'no', 'yes', 'no', 'blue']\n",
      "['purple', 'purple', 'gray', 'purple', 'yes', 'no', 'no', 'yes', 'no', 'blue']\n",
      "\n",
      "\n",
      "['blue', 'red', 'red', 'blue', 'yes', 'no', 'yes', 'no', 'yes', 'blue']\n",
      "['blue', 'red', 'red', 'blue', 'yes', 'no', 'yes', 'no', 'no', 'red']\n",
      "\n",
      "\n",
      "['blue', 'blue', 'blue', 'blue', 'no', 'no', 'yes', 'yes', 'yes', 'cyan']\n",
      "['red', 'blue', 'blue', 'green', 'no', 'no', 'yes', 'yes', 'yes', 'cyan']\n",
      "\n",
      "\n",
      "['yellow', 'yellow', 'green', 'green', 'no', 'no', 'no', 'yes', 'yes', 'brown']\n",
      "['yellow', 'yellow', 'green', 'green', 'no', 'no', 'no', 'yes', 'yes', 'brown']\n",
      "\n",
      "\n",
      "['brown', 'brown', 'brown', 'brown', 'yes', 'no', 'yes', 'no', 'no', 'brown']\n",
      "['brown', 'brown', 'brown', 'brown', 'yes', 'no', 'no', 'no', 'yes', 'brown']\n",
      "\n",
      "\n",
      "['brown', 'red', 'red', 'red', 'no', 'yes', 'no', 'yes', 'no', 'gray']\n",
      "['brown', 'red', 'red', 'red', 'no', 'yes', 'no', 'no', 'no', 'gray']\n",
      "\n",
      "\n",
      "['green', 'gray', 'gray', 'green', 'yes', 'no', 'no', 'yes', 'no', 'gray']\n",
      "['green', 'gray', 'gray', 'green', 'yes', 'no', 'no', 'no', 'no', 'gray']\n",
      "\n",
      "\n",
      "['gray', 'gray', 'gray', 'gray', 'yes', 'no', 'yes', 'yes', 'no', 'yellow']\n",
      "['gray', 'gray', 'gray', 'gray', 'no', 'no', 'yes', 'yes', 'no', 'yellow']\n",
      "\n",
      "\n",
      "['blue', 'blue', 'cyan', 'blue', 'no', 'yes', 'no', 'yes', 'no', 'yellow']\n",
      "['blue', 'blue', 'cyan', 'blue', 'no', 'yes', 'no', 'yes', 'no', 'yellow']\n",
      "\n",
      "\n",
      "['yellow', 'yellow', 'yellow', 'yellow', 'yes', 'yes', 'no', 'yes', 'no', 'blue']\n",
      "['yellow', 'yellow', 'yellow', 'yellow', 'yes', 'no', 'no', 'yes', 'no', 'blue']\n",
      "\n",
      "\n",
      "['green', 'blue', 'blue', 'blue', 'no', 'yes', 'no', 'yes', 'yes', 'gray']\n",
      "['green', 'blue', 'blue', 'blue', 'no', 'yes', 'no', 'no', 'no', 'gray']\n",
      "\n",
      "\n",
      "['gray', 'gray', 'gray', 'gray', 'no', 'no', 'no', 'yes', 'no', 'gray']\n",
      "['gray', 'gray', 'gray', 'gray', 'no', 'no', 'no', 'no', 'no', 'gray']\n",
      "\n",
      "\n",
      "['gray', 'gray', 'gray', 'gray', 'yes', 'no', 'yes', 'no', 'yes', 'yellow']\n",
      "['gray', 'yellow', 'gray', 'gray', 'yes', 'no', 'yes', 'no', 'yes', 'yellow']\n",
      "\n",
      "\n",
      "['yellow', 'yellow', 'yellow', 'purple', 'no', 'yes', 'no', 'yes', 'no', 'purple']\n",
      "['yellow', 'yellow', 'yellow', 'purple', 'no', 'yes', 'no', 'yes', 'no', 'purple']\n",
      "\n",
      "\n",
      "['purple', 'purple', 'purple', 'purple', 'yes', 'no', 'yes', 'yes', 'no', 'red']\n",
      "['purple', 'purple', 'gray', 'purple', 'yes', 'no', 'no', 'no', 'no', 'red']\n",
      "\n",
      "\n",
      "['red', 'red', 'red', 'red', 'no', 'no', 'yes', 'no', 'yes', 'blue']\n",
      "['red', 'red', 'red', 'red', 'no', 'no', 'no', 'no', 'no', 'blue']\n",
      "\n",
      "\n",
      "['blue', 'blue', 'blue', 'blue', 'no', 'yes', 'no', 'yes', 'no', 'gray']\n",
      "['blue', 'blue', 'blue', 'blue', 'no', 'no', 'no', 'yes', 'no', 'gray']\n",
      "\n",
      "\n",
      "['gray', 'gray', 'gray', 'gray', 'yes', 'yes', 'no', 'no', 'yes', 'blue']\n",
      "['gray', 'gray', 'gray', 'gray', 'yes', 'yes', 'no', 'no', 'no', 'blue']\n",
      "\n",
      "\n",
      "['blue', 'brown', 'brown', 'brown', 'no', 'yes', 'no', 'yes', 'yes', 'purple']\n",
      "['blue', 'brown', 'blue', 'blue', 'no', 'yes', 'no', 'yes', 'yes', 'purple']\n",
      "\n",
      "\n",
      "['brown', 'brown', 'brown', 'brown', 'no', 'yes', 'yes', 'no', 'no', 'blue']\n",
      "['brown', 'brown', 'brown', 'brown', 'no', 'yes', 'yes', 'no', 'no', 'blue']\n",
      "\n",
      "\n",
      "['red', 'red', 'blue', 'red', 'no', 'no', 'yes', 'no', 'yes', 'cyan']\n",
      "['red', 'red', 'red', 'red', 'no', 'no', 'yes', 'no', 'yes', 'brown']\n",
      "\n",
      "\n",
      "['cyan', 'brown', 'brown', 'brown', 'no', 'yes', 'no', 'yes', 'no', 'yellow']\n",
      "['cyan', 'brown', 'brown', 'brown', 'no', 'yes', 'no', 'no', 'no', 'yellow']\n",
      "\n",
      "\n",
      "['yellow', 'yellow', 'yellow', 'green', 'yes', 'no', 'yes', 'no', 'yes', 'blue']\n",
      "['yellow', 'yellow', 'yellow', 'green', 'yes', 'no', 'yes', 'no', 'yes', 'blue']\n",
      "\n",
      "\n",
      "['blue', 'blue', 'blue', 'blue', 'no', 'no', 'yes', 'yes', 'no', 'blue']\n",
      "['blue', 'blue', 'blue', 'blue', 'no', 'no', 'yes', 'yes', 'no', 'blue']\n",
      "\n",
      "\n",
      "['blue', 'blue', 'blue', 'blue', 'no', 'yes', 'yes', 'no', 'yes', 'purple']\n",
      "['blue', 'blue', 'blue', 'blue', 'no', 'no', 'yes', 'no', 'yes', 'purple']\n",
      "\n",
      "\n",
      "['blue', 'purple', 'blue', 'blue', 'no', 'no', 'yes', 'no', 'yes', 'green']\n",
      "['blue', 'purple', 'blue', 'blue', 'no', 'no', 'no', 'no', 'no', 'green']\n",
      "\n",
      "\n",
      "['blue', 'blue', 'green', 'blue', 'yes', 'yes', 'no', 'no', 'no', 'green']\n",
      "['cyan', 'blue', 'green', 'blue', 'yes', 'no', 'yes', 'no', 'no', 'yellow']\n",
      "\n",
      "\n",
      "['green', 'green', 'green', 'green', 'yes', 'yes', 'no', 'no', 'no', 'brown']\n",
      "['yellow', 'yellow', 'green', 'green', 'yes', 'no', 'no', 'no', 'yes', 'brown']\n",
      "\n",
      "\n",
      "['brown', 'brown', 'brown', 'brown', 'yes', 'yes', 'no', 'no', 'yes', 'red']\n",
      "['brown', 'brown', 'brown', 'brown', 'yes', 'yes', 'no', 'no', 'no', 'red']\n",
      "\n",
      "\n",
      "['cyan', 'cyan', 'cyan', 'red', 'no', 'yes', 'no', 'yes', 'yes', 'cyan']\n",
      "['cyan', 'cyan', 'cyan', 'red', 'no', 'no', 'no', 'no', 'yes', 'cyan']\n",
      "\n",
      "\n",
      "['cyan', 'cyan', 'cyan', 'cyan', 'yes', 'no', 'no', 'yes', 'no', 'yellow']\n",
      "['cyan', 'cyan', 'cyan', 'cyan', 'no', 'no', 'no', 'no', 'no', 'yellow']\n",
      "\n",
      "\n",
      "['yellow', 'cyan', 'cyan', 'yellow', 'no', 'yes', 'no', 'yes', 'no', 'brown']\n",
      "['yellow', 'cyan', 'cyan', 'yellow', 'no', 'yes', 'no', 'no', 'no', 'brown']\n",
      "\n",
      "\n",
      "['blue', 'red', 'blue', 'brown', 'yes', 'no', 'yes', 'no', 'no', 'cyan']\n",
      "['red', 'red', 'red', 'brown', 'no', 'no', 'no', 'no', 'no', 'cyan']\n",
      "\n",
      "\n",
      "['cyan', 'gray', 'cyan', 'brown', 'yes', 'no', 'yes', 'no', 'yes', 'purple']\n",
      "['cyan', 'gray', 'cyan', 'brown', 'yes', 'no', 'yes', 'no', 'yes', 'purple']\n",
      "\n",
      "\n",
      "['purple', 'purple', 'purple', 'purple', 'no', 'yes', 'no', 'yes', 'no', 'purple']\n",
      "['purple', 'purple', 'purple', 'purple', 'no', 'no', 'no', 'yes', 'no', 'purple']\n",
      "\n",
      "\n",
      "['gray', 'purple', 'purple', 'purple', 'yes', 'yes', 'no', 'no', 'no', 'brown']\n",
      "['purple', 'purple', 'purple', 'purple', 'yes', 'yes', 'no', 'no', 'no', 'brown']\n",
      "\n",
      "\n",
      "['brown', 'brown', 'brown', 'brown', 'yes', 'no', 'yes', 'no', 'yes', 'blue']\n",
      "['brown', 'brown', 'brown', 'brown', 'yes', 'no', 'yes', 'no', 'no', 'blue']\n",
      "\n",
      "\n",
      "['blue', 'blue', 'blue', 'blue', 'no', 'yes', 'yes', 'no', 'no', 'green']\n",
      "['blue', 'blue', 'cyan', 'red', 'no', 'yes', 'yes', 'no', 'no', 'green']\n",
      "\n",
      "\n",
      "['green', 'green', 'green', 'green', 'yes', 'yes', 'no', 'no', 'yes', 'gray']\n",
      "['green', 'green', 'green', 'green', 'yes', 'yes', 'no', 'no', 'yes', 'gray']\n",
      "\n",
      "\n",
      "['gray', 'yellow', 'yellow', 'yellow', 'yes', 'no', 'no', 'yes', 'no', 'blue']\n",
      "['gray', 'yellow', 'yellow', 'yellow', 'yes', 'no', 'no', 'yes', 'no', 'blue']\n",
      "\n",
      "\n",
      "['yellow', 'red', 'red', 'yellow', 'yes', 'no', 'no', 'yes', 'no', 'purple']\n",
      "['red', 'red', 'red', 'yellow', 'yes', 'no', 'no', 'no', 'no', 'purple']\n",
      "\n",
      "\n",
      "['purple', 'purple', 'purple', 'purple', 'yes', 'no', 'yes', 'no', 'yes', 'purple']\n",
      "['purple', 'purple', 'purple', 'purple', 'yes', 'no', 'yes', 'no', 'no', 'purple']\n",
      "\n",
      "\n",
      "['purple', 'purple', 'purple', 'purple', 'no', 'yes', 'yes', 'yes', 'no', 'yellow']\n",
      "['purple', 'purple', 'purple', 'purple', 'no', 'yes', 'yes', 'no', 'no', 'yellow']\n",
      "\n",
      "\n",
      "['yellow', 'yellow', 'yellow', 'yellow', 'no', 'no', 'yes', 'no', 'yes', 'brown']\n",
      "['yellow', 'yellow', 'yellow', 'yellow', 'no', 'no', 'yes', 'no', 'yes', 'brown']\n",
      "\n",
      "\n",
      "['cyan', 'red', 'red', 'cyan', 'no', 'no', 'yes', 'no', 'yes', 'gray']\n",
      "['cyan', 'red', 'red', 'cyan', 'no', 'no', 'yes', 'no', 'no', 'gray']\n",
      "\n",
      "\n",
      "['gray', 'gray', 'gray', 'gray', 'no', 'yes', 'no', 'yes', 'no', 'brown']\n",
      "['gray', 'gray', 'gray', 'gray', 'no', 'yes', 'yes', 'yes', 'no', 'brown']\n",
      "\n",
      "\n",
      "['red', 'red', 'brown', 'brown', 'yes', 'no', 'yes', 'no', 'yes', 'cyan']\n",
      "['red', 'red', 'brown', 'brown', 'no', 'no', 'yes', 'no', 'yes', 'green']\n",
      "\n",
      "\n",
      "['cyan', 'cyan', 'purple', 'purple', 'no', 'yes', 'no', 'yes', 'yes', 'gray']\n",
      "['cyan', 'cyan', 'purple', 'purple', 'no', 'yes', 'no', 'yes', 'yes', 'gray']\n",
      "\n",
      "\n",
      "['blue', 'purple', 'gray', 'purple', 'no', 'no', 'yes', 'no', 'no', 'blue']\n",
      "['gray', 'purple', 'gray', 'purple', 'no', 'no', 'yes', 'no', 'no', 'blue']\n",
      "\n",
      "\n",
      "['blue', 'blue', 'brown', 'brown', 'yes', 'no', 'yes', 'no', 'yes', 'gray']\n",
      "['blue', 'blue', 'blue', 'brown', 'yes', 'no', 'yes', 'no', 'no', 'gray']\n",
      "\n",
      "\n",
      "['green', 'green', 'gray', 'gray', 'no', 'yes', 'no', 'yes', 'no', 'purple']\n",
      "['green', 'green', 'gray', 'gray', 'yes', 'yes', 'no', 'yes', 'no', 'purple']\n",
      "\n",
      "\n",
      "['gray', 'purple', 'purple', 'gray', 'yes', 'no', 'yes', 'no', 'yes', 'gray']\n",
      "['purple', 'purple', 'purple', 'purple', 'yes', 'yes', 'yes', 'no', 'yes', 'gray']\n",
      "\n",
      "\n",
      "['gray', 'gray', 'gray', 'gray', 'yes', 'no', 'no', 'no', 'yes', 'green']\n",
      "['gray', 'gray', 'gray', 'gray', 'yes', 'no', 'no', 'yes', 'no', 'green']\n",
      "\n",
      "\n",
      "['green', 'green', 'green', 'green', 'no', 'yes', 'no', 'yes', 'no', 'brown']\n",
      "['green', 'green', 'green', 'green', 'no', 'yes', 'no', 'yes', 'yes', 'brown']\n",
      "\n",
      "\n",
      "['brown', 'brown', 'brown', 'brown', 'yes', 'yes', 'no', 'no', 'yes', 'cyan']\n",
      "['brown', 'brown', 'brown', 'brown', 'yes', 'yes', 'no', 'no', 'yes', 'cyan']\n",
      "\n",
      "\n",
      "['cyan', 'purple', 'cyan', 'cyan', 'no', 'yes', 'yes', 'no', 'no', 'cyan']\n",
      "['cyan', 'purple', 'cyan', 'cyan', 'no', 'yes', 'no', 'no', 'yes', 'cyan']\n",
      "\n",
      "\n",
      "['cyan', 'cyan', 'cyan', 'cyan', 'yes', 'no', 'yes', 'yes', 'no', 'cyan']\n",
      "['cyan', 'cyan', 'cyan', 'cyan', 'yes', 'no', 'yes', 'yes', 'no', 'cyan']\n",
      "\n",
      "\n",
      "['cyan', 'cyan', 'cyan', 'cyan', 'no', 'yes', 'no', 'yes', 'no', 'purple']\n",
      "['cyan', 'cyan', 'cyan', 'cyan', 'no', 'yes', 'no', 'yes', 'yes', 'purple']\n",
      "\n",
      "\n",
      "['purple', 'cyan', 'purple', 'purple', 'no', 'yes', 'yes', 'no', 'no', 'purple']\n",
      "['purple', 'cyan', 'purple', 'purple', 'no', 'yes', 'yes', 'no', 'no', 'purple']\n",
      "\n",
      "\n",
      "['purple', 'purple', 'purple', 'purple', 'yes', 'no', 'yes', 'no', 'yes', 'blue']\n",
      "['purple', 'purple', 'purple', 'purple', 'yes', 'no', 'yes', 'no', 'yes', 'blue']\n",
      "\n",
      "\n",
      "['red', 'blue', 'blue', 'blue', 'no', 'yes', 'no', 'yes', 'no', 'brown']\n",
      "['purple', 'blue', 'blue', 'blue', 'yes', 'yes', 'no', 'yes', 'no', 'brown']\n",
      "\n",
      "\n",
      "['yellow', 'brown', 'brown', 'brown', 'no', 'yes', 'no', 'yes', 'no', 'yellow']\n",
      "['yellow', 'brown', 'brown', 'brown', 'no', 'yes', 'no', 'yes', 'no', 'yellow']\n",
      "\n",
      "\n",
      "['yellow', 'yellow', 'cyan', 'yellow', 'yes', 'yes', 'no', 'no', 'yes', 'gray']\n",
      "['yellow', 'yellow', 'green', 'yellow', 'no', 'yes', 'no', 'no', 'no', 'gray']\n",
      "\n",
      "\n",
      "['gray', 'green', 'green', 'gray', 'no', 'yes', 'no', 'yes', 'no', 'red']\n",
      "['gray', 'green', 'green', 'gray', 'yes', 'no', 'yes', 'yes', 'yes', 'red']\n",
      "\n",
      "\n",
      "['green', 'green', 'green', 'red', 'yes', 'no', 'yes', 'no', 'yes', 'green']\n",
      "['green', 'green', 'green', 'red', 'yes', 'no', 'no', 'no', 'yes', 'green']\n",
      "\n",
      "\n",
      "['green', 'green', 'green', 'green', 'yes', 'no', 'no', 'yes', 'no', 'gray']\n",
      "['green', 'green', 'green', 'green', 'no', 'yes', 'yes', 'no', 'no', 'gray']\n",
      "\n",
      "\n",
      "['green', 'green', 'green', 'green', 'no', 'yes', 'no', 'yes', 'no', 'yellow']\n",
      "['green', 'green', 'green', 'green', 'no', 'no', 'no', 'no', 'no', 'yellow']\n",
      "\n",
      "\n",
      "['yellow', 'yellow', 'cyan', 'cyan', 'yes', 'no', 'yes', 'no', 'yes', 'green']\n",
      "['yellow', 'yellow', 'cyan', 'cyan', 'no', 'no', 'no', 'no', 'yes', 'green']\n",
      "\n",
      "\n",
      "['cyan', 'green', 'cyan', 'cyan', 'no', 'yes', 'no', 'yes', 'no', 'red']\n",
      "['cyan', 'green', 'cyan', 'cyan', 'no', 'no', 'no', 'yes', 'no', 'red']\n",
      "\n",
      "\n",
      "['red', 'red', 'red', 'red', 'yes', 'no', 'no', 'yes', 'no', 'gray']\n",
      "['red', 'red', 'red', 'red', 'yes', 'no', 'no', 'yes', 'no', 'gray']\n",
      "\n",
      "\n",
      "['gray', 'gray', 'blue', 'gray', 'yes', 'no', 'yes', 'yes', 'yes', 'blue']\n",
      "['gray', 'gray', 'blue', 'gray', 'yes', 'no', 'no', 'yes', 'no', 'blue']\n",
      "\n",
      "\n",
      "['blue', 'blue', 'blue', 'blue', 'no', 'yes', 'no', 'no', 'no', 'blue']\n",
      "['blue', 'blue', 'blue', 'blue', 'no', 'no', 'no', 'no', 'no', 'blue']\n",
      "\n",
      "\n",
      "['cyan', 'cyan', 'cyan', 'blue', 'yes', 'no', 'yes', 'no', 'yes', 'brown']\n",
      "['cyan', 'cyan', 'cyan', 'blue', 'no', 'no', 'no', 'no', 'no', 'brown']\n",
      "\n",
      "\n",
      "['brown', 'brown', 'brown', 'brown', 'no', 'yes', 'no', 'no', 'yes', 'gray']\n",
      "['brown', 'brown', 'brown', 'brown', 'no', 'yes', 'no', 'no', 'no', 'gray']\n",
      "\n",
      "\n",
      "['gray', 'gray', 'gray', 'gray', 'no', 'yes', 'yes', 'no', 'no', 'green']\n",
      "['gray', 'gray', 'gray', 'gray', 'no', 'yes', 'yes', 'no', 'no', 'green']\n",
      "\n",
      "\n",
      "['green', 'green', 'blue', 'green', 'yes', 'no', 'yes', 'yes', 'yes', 'brown']\n",
      "['gray', 'green', 'blue', 'green', 'yes', 'no', 'no', 'no', 'yes', 'brown']\n",
      "\n",
      "\n",
      "['brown', 'yellow', 'yellow', 'yellow', 'no', 'yes', 'no', 'no', 'no', 'purple']\n",
      "['brown', 'yellow', 'red', 'red', 'yes', 'yes', 'yes', 'no', 'yes', 'purple']\n",
      "\n",
      "\n",
      "['cyan', 'cyan', 'purple', 'cyan', 'yes', 'no', 'yes', 'no', 'yes', 'purple']\n",
      "['cyan', 'cyan', 'purple', 'cyan', 'yes', 'yes', 'yes', 'no', 'yes', 'purple']\n",
      "\n",
      "\n",
      "['purple', 'gray', 'purple', 'purple', 'no', 'yes', 'no', 'no', 'yes', 'blue']\n",
      "['purple', 'gray', 'purple', 'purple', 'no', 'no', 'no', 'no', 'yes', 'blue']\n",
      "\n",
      "\n",
      "['blue', 'blue', 'blue', 'blue', 'no', 'yes', 'no', 'yes', 'yes', 'red']\n",
      "['blue', 'blue', 'blue', 'blue', 'no', 'yes', 'no', 'yes', 'no', 'red']\n",
      "\n",
      "\n",
      "['red', 'red', 'red', 'red', 'no', 'yes', 'yes', 'yes', 'no', 'cyan']\n",
      "['red', 'red', 'red', 'red', 'no', 'yes', 'yes', 'yes', 'no', 'cyan']\n",
      "\n",
      "\n",
      "['cyan', 'cyan', 'cyan', 'cyan', 'no', 'no', 'no', 'yes', 'no', 'blue']\n",
      "['cyan', 'cyan', 'cyan', 'cyan', 'yes', 'no', 'no', 'yes', 'no', 'blue']\n",
      "\n",
      "\n",
      "['blue', 'blue', 'blue', 'purple', 'no', 'yes', 'no', 'yes', 'no', 'purple']\n",
      "['blue', 'blue', 'blue', 'purple', 'no', 'yes', 'no', 'yes', 'no', 'purple']\n",
      "\n",
      "\n",
      "['purple', 'purple', 'purple', 'cyan', 'yes', 'no', 'yes', 'no', 'yes', 'red']\n",
      "['purple', 'purple', 'purple', 'cyan', 'no', 'no', 'no', 'no', 'yes', 'red']\n",
      "\n",
      "\n",
      "['red', 'red', 'red', 'red', 'no', 'yes', 'yes', 'yes', 'no', 'brown']\n",
      "['red', 'red', 'red', 'red', 'no', 'no', 'no', 'no', 'no', 'red']\n",
      "\n",
      "\n",
      "['blue', 'blue', 'blue', 'blue', 'no', 'no', 'yes', 'no', 'yes', 'brown']\n",
      "['blue', 'blue', 'gray', 'gray', 'no', 'no', 'yes', 'no', 'yes', 'red']\n",
      "\n",
      "\n"
     ]
    },
    {
     "name": "stdout",
     "output_type": "stream",
     "text": [
      "['red', 'red', 'red', 'brown', 'no', 'no', 'yes', 'no', 'yes', 'red']\n",
      "['red', 'red', 'red', 'brown', 'yes', 'no', 'yes', 'no', 'yes', 'red']\n",
      "\n",
      "\n",
      "['green', 'green', 'green', 'red', 'no', 'yes', 'no', 'yes', 'no', 'gray']\n",
      "['green', 'green', 'green', 'red', 'no', 'yes', 'no', 'yes', 'no', 'gray']\n",
      "\n",
      "\n",
      "['gray', 'gray', 'gray', 'gray', 'yes', 'no', 'yes', 'no', 'yes', 'red']\n",
      "['gray', 'gray', 'gray', 'gray', 'yes', 'no', 'yes', 'no', 'yes', 'red']\n",
      "\n",
      "\n",
      "['blue', 'blue', 'blue', 'blue', 'yes', 'no', 'no', 'yes', 'no', 'brown']\n",
      "['blue', 'blue', 'blue', 'gray', 'yes', 'no', 'yes', 'no', 'no', 'brown']\n",
      "\n",
      "\n",
      "['brown', 'brown', 'brown', 'brown', 'yes', 'no', 'no', 'yes', 'no', 'blue']\n",
      "['red', 'brown', 'red', 'red', 'yes', 'no', 'no', 'yes', 'no', 'blue']\n",
      "\n",
      "\n",
      "['blue', 'blue', 'blue', 'purple', 'yes', 'yes', 'yes', 'no', 'no', 'gray']\n",
      "['blue', 'blue', 'blue', 'purple', 'yes', 'yes', 'no', 'no', 'no', 'gray']\n",
      "\n",
      "\n",
      "['gray', 'gray', 'gray', 'gray', 'no', 'yes', 'no', 'yes', 'yes', 'gray']\n",
      "['red', 'red', 'gray', 'red', 'no', 'no', 'yes', 'no', 'yes', 'gray']\n",
      "\n",
      "\n",
      "['gray', 'gray', 'gray', 'gray', 'yes', 'no', 'no', 'yes', 'no', 'gray']\n",
      "['gray', 'gray', 'gray', 'gray', 'no', 'no', 'no', 'yes', 'no', 'gray']\n",
      "\n",
      "\n"
     ]
    }
   ],
   "source": [
    "for i in zip(targets , pred):\n",
    "    print(tokenizer_p.batch_decode(i[0], skip_special_tokens=True))\n",
    "    print(tokenizer_p.batch_decode(i[1], skip_special_tokens=True))\n",
    "    print(\"\\n\")"
   ]
  },
  {
   "cell_type": "code",
   "execution_count": 40,
   "id": "14706066",
   "metadata": {},
   "outputs": [
    {
     "data": {
      "text/plain": [
       "0.9"
      ]
     },
     "execution_count": 40,
     "metadata": {},
     "output_type": "execute_result"
    }
   ],
   "source": [
    "##Val A f\n",
    "count/(10*len(pred))"
   ]
  },
  {
   "cell_type": "code",
   "execution_count": 21,
   "id": "71253573",
   "metadata": {},
   "outputs": [
    {
     "data": {
      "text/plain": [
       "0.0"
      ]
     },
     "execution_count": 21,
     "metadata": {},
     "output_type": "execute_result"
    }
   ],
   "source": [
    "## ValB = 0.4\n",
    "count/(10*len(pred))"
   ]
  },
  {
   "cell_type": "code",
   "execution_count": 26,
   "id": "eafd17b9",
   "metadata": {},
   "outputs": [
    {
     "data": {
      "text/plain": [
       "0.0"
      ]
     },
     "execution_count": 26,
     "metadata": {},
     "output_type": "execute_result"
    }
   ],
   "source": []
  },
  {
   "cell_type": "code",
   "execution_count": 211,
   "id": "0bd69dd7",
   "metadata": {},
   "outputs": [
    {
     "data": {
      "text/plain": [
       "0.625"
      ]
     },
     "execution_count": 211,
     "metadata": {},
     "output_type": "execute_result"
    }
   ],
   "source": [
    "count/(8*604)"
   ]
  },
  {
   "cell_type": "markdown",
   "id": "de2de991",
   "metadata": {},
   "source": [
    "### finetuned\n",
    "\n",
    "Stack : 0.625\n",
    "ClevrA : 0.90\n",
    "ClevrB : 0.6\n"
   ]
  },
  {
   "cell_type": "markdown",
   "id": "54cf6533",
   "metadata": {},
   "source": [
    "### Pretrained\n",
    "\n",
    "valA: 0 1000\n",
    "\n"
   ]
  },
  {
   "cell_type": "markdown",
   "id": "bbf9f863",
   "metadata": {},
   "source": [
    "## Custom image and question"
   ]
  },
  {
   "cell_type": "code",
   "execution_count": 79,
   "id": "9180fdc5",
   "metadata": {},
   "outputs": [],
   "source": [
    "pretrained ='/coc/scratch/sanisetty3/DLM/OFA-base-vqa/'\n",
    "finetuned = '/coc/scratch/sanisetty3/DLM/ofa-base-vqa/'"
   ]
  },
  {
   "cell_type": "code",
   "execution_count": 81,
   "id": "8d4f7f10",
   "metadata": {},
   "outputs": [
    {
     "name": "stdout",
     "output_type": "stream",
     "text": [
      "/coc/scratch/sanisetty3/DLM/OFA-base-vqa/\n",
      "<super: <class 'OFATokenizer'>, <OFATokenizer object>>\n"
     ]
    }
   ],
   "source": [
    "tokenizer_p = OFATokenizer.from_pretrained(pretrained)\n",
    "model_p = OFAModelForVQA.from_pretrained(pretrained, use_cache=False).cuda()\n",
    "model_f = OFAModelForVQA.from_pretrained(finetuned, use_cache=False).cuda()\n"
   ]
  },
  {
   "cell_type": "code",
   "execution_count": null,
   "id": "f77fe416",
   "metadata": {},
   "outputs": [],
   "source": []
  },
  {
   "cell_type": "code",
   "execution_count": 82,
   "id": "ad0f3e44",
   "metadata": {},
   "outputs": [],
   "source": [
    "mean, std = [0.5, 0.5, 0.5], [0.5, 0.5, 0.5]\n",
    "resolution = 480\n",
    "\n",
    "patch_resize_transform = transforms.Compose([\n",
    "    lambda image: image.convert(\"RGB\"),\n",
    "    transforms.Resize((resolution, resolution), interpolation=Image.BICUBIC),\n",
    "    transforms.ToTensor(), \n",
    "    transforms.Normalize(mean=mean, std=std)\n",
    "])"
   ]
  },
  {
   "cell_type": "code",
   "execution_count": 88,
   "id": "06a188d0",
   "metadata": {},
   "outputs": [],
   "source": [
    "vqa_root = \"/srv/scratch/sanisetty3/DLM/sornet/data/block_stacking/images/*.png\"\n",
    "img_list = glob(vqa_root)"
   ]
  },
  {
   "cell_type": "code",
   "execution_count": null,
   "id": "366be764",
   "metadata": {},
   "outputs": [],
   "source": []
  },
  {
   "cell_type": "code",
   "execution_count": 211,
   "id": "caf7452b",
   "metadata": {},
   "outputs": [
    {
     "data": {
      "image/png": "[encoded data removed]",
      "text/plain": [
       "<PIL.PngImagePlugin.PngImageFile image mode=RGBA size=320x180 at 0x7F01EF77EF50>"
      ]
     },
     "execution_count": 211,
     "metadata": {},
     "output_type": "execute_result"
    }
   ],
   "source": [
    "txt = \"What color block is behind the blue block?\"\n",
    "inputs = tokenizer_p([txt], return_tensors=\"pt\").input_ids\n",
    "img = Image.open(img_list[0])\n",
    "patch_img = patch_resize_transform(img).unsqueeze(0)\n",
    "img"
   ]
  },
  {
   "cell_type": "code",
   "execution_count": null,
   "id": "e722391a",
   "metadata": {},
   "outputs": [],
   "source": []
  },
  {
   "cell_type": "markdown",
   "id": "99ccc0d0",
   "metadata": {},
   "source": [
    "### Pretrained"
   ]
  },
  {
   "cell_type": "code",
   "execution_count": 212,
   "id": "1371a429",
   "metadata": {},
   "outputs": [],
   "source": [
    "custom_gen = model_p.generate(inputs.cuda(), patch_images=patch_img.cuda(), num_beams=5, no_repeat_ngram_size=3)"
   ]
  },
  {
   "cell_type": "code",
   "execution_count": 213,
   "id": "28ef6a38",
   "metadata": {},
   "outputs": [
    {
     "data": {
      "image/png": "[encoded data removed]",
      "text/plain": [
       "<PIL.PngImagePlugin.PngImageFile image mode=RGBA size=320x180 at 0x7F01EF77EF50>"
      ]
     },
     "metadata": {},
     "output_type": "display_data"
    },
    {
     "name": "stdout",
     "output_type": "stream",
     "text": [
      "What color block is behind the blue block?\n",
      "red\n"
     ]
    }
   ],
   "source": [
    "display(img)\n",
    "print(txt)\n",
    "print(tokenizer_p.batch_decode(custom_gen, skip_special_tokens=True)[0].strip())"
   ]
  },
  {
   "cell_type": "markdown",
   "id": "6d323399",
   "metadata": {},
   "source": [
    "### Fine tuned"
   ]
  },
  {
   "cell_type": "code",
   "execution_count": 314,
   "id": "758fdf48",
   "metadata": {},
   "outputs": [
    {
     "data": {
      "image/png": "[encoded data removed]",
      "text/plain": [
       "<PIL.PngImagePlugin.PngImageFile image mode=RGBA size=320x180 at 0x7F0196CCDF90>"
      ]
     },
     "execution_count": 314,
     "metadata": {},
     "output_type": "execute_result"
    }
   ],
   "source": [
    "txt = \"Are there any blocks above the pink block?\"\n",
    "inputs = tokenizer_p([txt], return_tensors=\"pt\").input_ids\n",
    "img = Image.open(img_list[4])\n",
    "patch_img = patch_resize_transform(img).unsqueeze(0)\n",
    "img"
   ]
  },
  {
   "cell_type": "code",
   "execution_count": 312,
   "id": "648a796d",
   "metadata": {},
   "outputs": [],
   "source": [
    "custom_gen_fin = model_f.generate(inputs.cuda(), patch_images=patch_img.cuda(), num_beams=5, no_repeat_ngram_size=3)"
   ]
  },
  {
   "cell_type": "code",
   "execution_count": 313,
   "id": "eaeaae71",
   "metadata": {},
   "outputs": [
    {
     "data": {
      "image/png": "[encoded data removed]",
      "text/plain": [
       "<PIL.PngImagePlugin.PngImageFile image mode=RGBA size=304x231 at 0x7F0194853110>"
      ]
     },
     "metadata": {},
     "output_type": "display_data"
    },
    {
     "name": "stdout",
     "output_type": "stream",
     "text": [
      "What color block is below the cyan block?\n",
      "no\n"
     ]
    }
   ],
   "source": [
    "display(img)\n",
    "print(txt)\n",
    "print(tokenizer_p.batch_decode(custom_gen_fin, skip_special_tokens=True)[0].strip())"
   ]
  },
  {
   "cell_type": "code",
   "execution_count": null,
   "id": "651b0efc",
   "metadata": {},
   "outputs": [],
   "source": []
  },
  {
   "cell_type": "code",
   "execution_count": null,
   "id": "ab7113c1",
   "metadata": {},
   "outputs": [],
   "source": []
  },
  {
   "cell_type": "code",
   "execution_count": null,
   "id": "8a8cdd33",
   "metadata": {},
   "outputs": [],
   "source": []
  },
  {
   "cell_type": "code",
   "execution_count": null,
   "id": "eb17a3dc",
   "metadata": {},
   "outputs": [],
   "source": []
  },
  {
   "cell_type": "markdown",
   "id": "8106fc34",
   "metadata": {},
   "source": [
    "## Push to hub"
   ]
  },
  {
   "cell_type": "code",
   "execution_count": 153,
   "id": "e1e12fac",
   "metadata": {},
   "outputs": [],
   "source": [
    "from core.ofa import OFATokenizer\n",
    "from core.ofa.modeling_ofa import OFAModelForVQA\n",
    "from core.ofa.configuration_ofa import OFAConfig"
   ]
  },
  {
   "cell_type": "code",
   "execution_count": 130,
   "id": "77d00bc6",
   "metadata": {},
   "outputs": [],
   "source": [
    "pretrained ='/coc/scratch/sanisetty3/DLM/OFA-base-vqa/'\n",
    "finetuned = '/coc/scratch/sanisetty3/DLM/ofa-base-vqa/'"
   ]
  },
  {
   "cell_type": "code",
   "execution_count": 77,
   "id": "7886faf0",
   "metadata": {},
   "outputs": [],
   "source": [
    "# fine_tuned =\"/coc/scratch/sanisetty3/DLM/OFA-tiny-vqa-finetune/\"\n",
    "# pretrained ='/coc/scratch/sanisetty3/DLM/OFA-tiny/'\n",
    "\n",
    "tokenizer_p = OFATokenizer.from_pretrained(pretrained)\n",
    "model_f = OFAModelForVQA.from_pretrained(finetuned, use_cache=False).cuda()\n",
    "tokenizer_p = OFATokenizer.from_pretrained(finetuned)\n"
   ]
  },
  {
   "cell_type": "code",
   "execution_count": null,
   "id": "26fa4002",
   "metadata": {},
   "outputs": [],
   "source": []
  },
  {
   "cell_type": "code",
   "execution_count": 134,
   "id": "ac3c095a",
   "metadata": {},
   "outputs": [],
   "source": [
    "# from huggingface_hub import notebook_login\n",
    "\n",
    "# notebook_login()"
   ]
  },
  {
   "cell_type": "code",
   "execution_count": 133,
   "id": "4374423f",
   "metadata": {},
   "outputs": [],
   "source": [
    "# !transformers-cli repo create OFA-base-vqa-finetune"
   ]
  },
  {
   "cell_type": "markdown",
   "id": "2a901e5c",
   "metadata": {},
   "source": [
    "## Cleaning json"
   ]
  },
  {
   "cell_type": "code",
   "execution_count": 12,
   "id": "34aca3e2",
   "metadata": {},
   "outputs": [],
   "source": [
    "import re"
   ]
  },
  {
   "cell_type": "code",
   "execution_count": null,
   "id": "e4e13ca3",
   "metadata": {},
   "outputs": [],
   "source": [
    "\"What color is the <Z2> <C2> <M2> <S2> [that is] <R> the <Z> <C> <M> <S>?\",\n",
    "\"What is the color of the <Z2> <C2> <M2> <S2> [that is] <R> the <Z> <C> <M> <S>?\",\n",
    "\"The <Z2> <C2> <M2> <S2> [that is] <R> the <Z> <C> <M> <S> is what color?\"\n",
    "\n",
    "<R> includes closest farthest and six directions.\n",
    "\n",
    "\"What number of <Z2> <C2> <M2> <S2>s are <R> the <Z> <C> <M> <S>?\",\n",
    "\"How many <Z2> <C2> <M2> <S2>s are <R> the <Z> <C> <M> <S>?\"\n",
    "\"Are there any <Z2> <C2> <M2> <S2>s <R> the <Z> <C> <M> <S>?\""
   ]
  },
  {
   "cell_type": "code",
   "execution_count": 34,
   "id": "255d3457",
   "metadata": {},
   "outputs": [],
   "source": [
    "ann_file = \"/srv/scratch/sanisetty3/DLM/sornet/data/bowl_place/bowl_train_questions.json\""
   ]
  },
  {
   "cell_type": "code",
   "execution_count": 35,
   "id": "1a14a2e9",
   "metadata": {},
   "outputs": [
    {
     "data": {
      "text/plain": [
       "11840"
      ]
     },
     "execution_count": 35,
     "metadata": {},
     "output_type": "execute_result"
    }
   ],
   "source": [
    "with open(ann_file) as f:\n",
    "    ques = json.load(f)\n",
    "len(ques[\"questions\"])"
   ]
  },
  {
   "cell_type": "code",
   "execution_count": 40,
   "id": "0b89c47f",
   "metadata": {},
   "outputs": [],
   "source": [
    "\n",
    "r1 = re.compile('.*inside.*cube.*')\n",
    "r2 = re.compile('.*inside.*block.*')\n",
    "r3 = re.compile('.*below.*bowl.*')\n",
    "\n",
    "new_ques_dict = []\n",
    "for item in ques[\"questions\"]:\n",
    "    quest = item[\"question\"]\n",
    "    if r1.match(quest) is not None:\n",
    "        continue\n",
    "    if r2.match(quest) is not None:\n",
    "        continue\n",
    "    if r3.match(quest) is not None:\n",
    "        continue\n",
    "        \n",
    "    new_ques_dict.append(item)\n",
    "    \n",
    "    \n",
    "new_questions = {\"questions\" : new_ques_dict}\n",
    "json_object = json.dumps(new_questions, indent=4)\n",
    " \n",
    "# Writing to sample.json\n",
    "with open(\"/srv/scratch/sanisetty3/DLM/sornet/data/bowl_place/bowl_train_questions.json\", \"w\") as outfile:\n",
    "    outfile.write(json_object)"
   ]
  },
  {
   "cell_type": "code",
   "execution_count": 41,
   "id": "05a78e5b",
   "metadata": {},
   "outputs": [
    {
     "data": {
      "text/plain": [
       "11797"
      ]
     },
     "execution_count": 41,
     "metadata": {},
     "output_type": "execute_result"
    }
   ],
   "source": [
    "len(new_ques_dict)"
   ]
  },
  {
   "cell_type": "code",
   "execution_count": 42,
   "id": "bdb5faba",
   "metadata": {},
   "outputs": [
    {
     "data": {
      "text/plain": [
       "43"
      ]
     },
     "execution_count": 42,
     "metadata": {},
     "output_type": "execute_result"
    }
   ],
   "source": [
    "11840 - 11797"
   ]
  },
  {
   "cell_type": "code",
   "execution_count": null,
   "id": "407528e0",
   "metadata": {},
   "outputs": [],
   "source": []
  },
  {
   "cell_type": "code",
   "execution_count": null,
   "id": "503d509c",
   "metadata": {},
   "outputs": [],
   "source": []
  },
  {
   "cell_type": "code",
   "execution_count": 43,
   "id": "1978a0a3",
   "metadata": {},
   "outputs": [],
   "source": [
    "json_object = json.dumps(new_questions, indent=4)\n",
    " \n",
    "# Writing to sample.json\n",
    "with open(\"/srv/scratch/sanisetty3/DLM/sornet/data/bowl_place/bowl_train_questions.json\", \"w\") as outfile:\n",
    "    outfile.write(json_object)"
   ]
  },
  {
   "cell_type": "code",
   "execution_count": null,
   "id": "5e753008",
   "metadata": {},
   "outputs": [],
   "source": []
  }
 ],
 "metadata": {
  "kernelspec": {
   "display_name": "Python 3 (ipykernel)",
   "language": "python",
   "name": "python3"
  },
  "language_info": {
   "codemirror_mode": {
    "name": "ipython",
    "version": 3
   },
   "file_extension": ".py",
   "mimetype": "text/x-python",
   "name": "python",
   "nbconvert_exporter": "python",
   "pygments_lexer": "ipython3",
   "version": "3.9.16"
  }
 },
 "nbformat": 4,
 "nbformat_minor": 5
}
