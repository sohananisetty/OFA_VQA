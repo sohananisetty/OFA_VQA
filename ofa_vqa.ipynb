{
 "cells": [
  {
   "cell_type": "code",
   "execution_count": 1,
   "id": "ff98f73d",
   "metadata": {},
   "outputs": [
    {
     "name": "stdout",
     "output_type": "stream",
     "text": [
      "Using device: cuda\n",
      "\n",
      "GeForce RTX 2080 Ti\n",
      "Memory Usage:\n",
      "Allocated: 0.0 GB\n",
      "Cached:    0.0 GB\n"
     ]
    }
   ],
   "source": [
    "# setting device on GPU if available, else CPU\n",
    "import torch\n",
    "device = torch.device('cuda' if torch.cuda.is_available() else 'cpu')\n",
    "print('Using device:', device)\n",
    "print()\n",
    "\n",
    "#Additional Info when using cuda\n",
    "if device.type == 'cuda':\n",
    "    print(torch.cuda.get_device_name(0))\n",
    "    print('Memory Usage:')\n",
    "    print('Allocated:', round(torch.cuda.memory_allocated(0)/1024**3,1), 'GB')\n",
    "    \n",
    "    print('Cached:   ', round(torch.cuda.memory_reserved(0)/1024**3,1), 'GB')\n",
    "if torch.cuda.device_count() > 1:\n",
    "    print(\"Using \", torch.cuda.device_count(), \"GPUs!\")"
   ]
  },
  {
   "cell_type": "code",
   "execution_count": 2,
   "id": "a9557b63",
   "metadata": {},
   "outputs": [],
   "source": [
    "%load_ext autoreload\n",
    "%autoreload 2"
   ]
  },
  {
   "cell_type": "code",
   "execution_count": 3,
   "id": "162b27ef",
   "metadata": {},
   "outputs": [],
   "source": [
    "import copy\n",
    "import os\n",
    "import random\n",
    "import cv2\n",
    "import numpy as np\n",
    "from PIL import Image\n",
    "import matplotlib.pyplot as plt\n",
    "from glob import glob\n",
    "import functools\n",
    "from PIL import Image\n",
    "import argparse\n",
    "import os\n",
    "import numpy as np\n",
    "import random\n",
    "import time\n",
    "import datetime\n",
    "import json\n",
    "from pathlib import Path\n",
    "\n",
    "\n",
    "import torch\n",
    "import torch.nn as nn\n",
    "import torch.nn.functional as F\n",
    "from torch.utils.data import DataLoader\n",
    "import transformers"
   ]
  },
  {
   "cell_type": "code",
   "execution_count": 4,
   "id": "90cd98bd",
   "metadata": {},
   "outputs": [],
   "source": [
    "from PIL import Image\n",
    "from torchvision import transforms\n",
    "from core.ofa import OFATokenizer, OFAModel\n",
    "from core.ofa.generate import sequence_generator"
   ]
  },
  {
   "cell_type": "code",
   "execution_count": 5,
   "id": "f6c5cfdb",
   "metadata": {},
   "outputs": [],
   "source": [
    "from transformers import (\n",
    "    HfArgumentParser,\n",
    "    TrainingArguments,\n",
    ")"
   ]
  },
  {
   "cell_type": "code",
   "execution_count": 6,
   "id": "4e8348fc",
   "metadata": {},
   "outputs": [],
   "source": [
    "from ctl.vqa_arguments import VQAArguments"
   ]
  },
  {
   "cell_type": "code",
   "execution_count": 7,
   "id": "422b9ec0",
   "metadata": {},
   "outputs": [],
   "source": [
    "from core.datasets.vqa_gen_dataset import VqaGenDataset , VQACollator, VqaDataset\n",
    "from core.ofa.label_smoothed_cross_entropy import AdjustLabelSmoothedCrossEntropyCriterion\n",
    "from core.ofa import OFATokenizer\n",
    "from core.ofa.modeling_ofa import OFAModelForVQA"
   ]
  },
  {
   "cell_type": "code",
   "execution_count": null,
   "id": "9ec3bc1c",
   "metadata": {},
   "outputs": [],
   "source": []
  },
  {
   "cell_type": "code",
   "execution_count": 8,
   "id": "1524d7e3",
   "metadata": {},
   "outputs": [
    {
     "name": "stdout",
     "output_type": "stream",
     "text": [
      "/coc/scratch/sanisetty3/DLM//OFA-tiny\n",
      "<super: <class 'OFATokenizer'>, <OFATokenizer object>>\n"
     ]
    },
    {
     "name": "stderr",
     "output_type": "stream",
     "text": [
      "/srv/share2/sanisetty3/miniconda3/envs/ai-choreo/lib/python3.7/site-packages/torch/functional.py:504: UserWarning: torch.meshgrid: in an upcoming release, it will be required to pass the indexing argument. (Triggered internally at /opt/conda/conda-bld/pytorch_1670525553989/work/aten/src/ATen/native/TensorShape.cpp:3190.)\n",
      "  return _VF.meshgrid(tensors, **kwargs)  # type: ignore[attr-defined]\n"
     ]
    }
   ],
   "source": [
    "pretrained ='/coc/scratch/sanisetty3/DLM//OFA-tiny'\n",
    "\n",
    "tokenizer = OFATokenizer.from_pretrained(pretrained)\n",
    "model = OFAModelForVQA.from_pretrained(pretrained, use_cache=False)"
   ]
  },
  {
   "cell_type": "code",
   "execution_count": 9,
   "id": "0b317599",
   "metadata": {},
   "outputs": [],
   "source": [
    "ann_file = os.path.join('/srv/scratch/sanisetty3/DLM/AliceMind/mPLUG/data/json/vqa_ocr_object/' ,\"vqa_train_ocr.json\")\n",
    "vqa_root = '/srv/datasets/coco/'\n"
   ]
  },
  {
   "cell_type": "code",
   "execution_count": 63,
   "id": "2213e5df",
   "metadata": {},
   "outputs": [],
   "source": [
    "\n",
    "def new_arange(x, *size):\n",
    "    r\"\"\"\n",
    "    Return a Tensor of `size` filled with a range function on the device of x.\n",
    "    If size is empty, using the size of the variable x.\n",
    "    \"\"\"\n",
    "    if len(size) == 0:\n",
    "        size = x.size()\n",
    "    return torch.arange(size[-1], device=x.device).expand(*size).contiguous()\n"
   ]
  },
  {
   "cell_type": "code",
   "execution_count": 148,
   "id": "7d011d72",
   "metadata": {},
   "outputs": [
    {
     "name": "stderr",
     "output_type": "stream",
     "text": [
      "/srv/share2/sanisetty3/miniconda3/envs/ai-choreo/lib/python3.7/site-packages/torchvision/transforms/transforms.py:330: UserWarning: Argument 'interpolation' of type int is deprecated since 0.13 and will be removed in 0.15. Please use InterpolationMode enum.\n",
      "  \"Argument 'interpolation' of type int is deprecated since 0.13 and will be removed in 0.15. \"\n"
     ]
    }
   ],
   "source": [
    "ds = VqaDataset(\n",
    "    ann_file=[ann_file],\n",
    "    vqa_root=vqa_root,\n",
    ")\n"
   ]
  },
  {
   "cell_type": "code",
   "execution_count": 149,
   "id": "ae9b7ad3",
   "metadata": {},
   "outputs": [],
   "source": [
    "data_collator = VQACollator(tokenizer=tokenizer, max_seq_length=128)\n"
   ]
  },
  {
   "cell_type": "code",
   "execution_count": 150,
   "id": "82d355d2",
   "metadata": {},
   "outputs": [
    {
     "data": {
      "text/plain": [
       "443752"
      ]
     },
     "execution_count": 150,
     "metadata": {},
     "output_type": "execute_result"
    }
   ],
   "source": [
    "len(ds)"
   ]
  },
  {
   "cell_type": "code",
   "execution_count": 151,
   "id": "6eafd0b3",
   "metadata": {},
   "outputs": [],
   "source": [
    "dl = DataLoader(ds, batch_size = 8, collate_fn=data_collator ,num_workers = 0, shuffle = True)\n"
   ]
  },
  {
   "cell_type": "code",
   "execution_count": 162,
   "id": "98261d6e",
   "metadata": {},
   "outputs": [],
   "source": [
    "for batch in dl:\n",
    "    break"
   ]
  },
  {
   "cell_type": "code",
   "execution_count": 163,
   "id": "68a7f70c",
   "metadata": {},
   "outputs": [
    {
     "data": {
      "text/plain": [
       "dict_keys(['input_ids', 'patch_images', 'patch_masks', 'decoder_input_ids', 'target', 'return_loss', 'attention_mask'])"
      ]
     },
     "execution_count": 163,
     "metadata": {},
     "output_type": "execute_result"
    }
   ],
   "source": [
    "batch.keys()"
   ]
  },
  {
   "cell_type": "code",
   "execution_count": 164,
   "id": "6aa8e708",
   "metadata": {},
   "outputs": [
    {
     "name": "stdout",
     "output_type": "stream",
     "text": [
      "[' where is a heart?', ' what does the lady right front have in her hand?', \" is this harry potter's owl?\", ' what is the lady doing?', ' what color are the earbuds?', ' which room is this?', ' what is the person doing?', ' what tool do many people use other than this to till the ground?']\n"
     ]
    }
   ],
   "source": [
    "print(tokenizer.batch_decode(batch[\"input_ids\"], skip_special_tokens=True))"
   ]
  },
  {
   "cell_type": "code",
   "execution_count": 165,
   "id": "fbeb5421",
   "metadata": {},
   "outputs": [
    {
     "name": "stdout",
     "output_type": "stream",
     "text": [
      "['on collar', 'fork', 'no', 'milking cow', 'white', 'kitchen', 'skiing', 'hoe']\n"
     ]
    }
   ],
   "source": [
    "print(tokenizer.batch_decode(batch[\"target\"], skip_special_tokens=True))"
   ]
  },
  {
   "cell_type": "code",
   "execution_count": 166,
   "id": "cdfaae87",
   "metadata": {},
   "outputs": [],
   "source": [
    "target = batch[\"target\"]"
   ]
  },
  {
   "cell_type": "code",
   "execution_count": 167,
   "id": "1749e803",
   "metadata": {},
   "outputs": [
    {
     "data": {
      "text/plain": [
       "tensor([[  261, 19008,     2,     1],\n",
       "        [34886,     2,     1,     1],\n",
       "        [ 2362,     2,     1,     1],\n",
       "        [22238,  7037, 12094,     2],\n",
       "        [ 9830,     2,     1,     1],\n",
       "        [23199,  8224,     2,     1],\n",
       "        [13828,   154,     2,     1],\n",
       "        [23712,     2,     1,     1]])"
      ]
     },
     "execution_count": 167,
     "metadata": {},
     "output_type": "execute_result"
    }
   ],
   "source": [
    "target"
   ]
  },
  {
   "cell_type": "code",
   "execution_count": 168,
   "id": "389e319d",
   "metadata": {},
   "outputs": [],
   "source": [
    "decoder_input_ids = batch[\"decoder_input_ids\"]"
   ]
  },
  {
   "cell_type": "code",
   "execution_count": 169,
   "id": "b2419e30",
   "metadata": {},
   "outputs": [
    {
     "data": {
      "text/plain": [
       "tensor([[    0,   261, 19008,     1],\n",
       "        [    0, 34886,     1,     1],\n",
       "        [    0,  2362,     1,     1],\n",
       "        [    0, 22238,  7037, 12094],\n",
       "        [    0,  9830,     1,     1],\n",
       "        [    0, 23199,  8224,     1],\n",
       "        [    0, 13828,   154,     1],\n",
       "        [    0, 23712,     1,     1]])"
      ]
     },
     "execution_count": 169,
     "metadata": {},
     "output_type": "execute_result"
    }
   ],
   "source": [
    "decoder_input_ids"
   ]
  },
  {
   "cell_type": "code",
   "execution_count": 170,
   "id": "f524d078",
   "metadata": {},
   "outputs": [
    {
     "data": {
      "text/plain": [
       "tensor([[1, 1, 1, 0],\n",
       "        [1, 1, 0, 0],\n",
       "        [1, 1, 0, 0],\n",
       "        [1, 1, 1, 1],\n",
       "        [1, 1, 0, 0],\n",
       "        [1, 1, 1, 0],\n",
       "        [1, 1, 1, 0],\n",
       "        [1, 1, 0, 0]])"
      ]
     },
     "execution_count": 170,
     "metadata": {},
     "output_type": "execute_result"
    }
   ],
   "source": [
    "at_mask = batch[\"attention_mask\"]\n",
    "at_mask"
   ]
  },
  {
   "cell_type": "code",
   "execution_count": null,
   "id": "53547f9d",
   "metadata": {},
   "outputs": [],
   "source": []
  },
  {
   "cell_type": "code",
   "execution_count": 171,
   "id": "3be31a89",
   "metadata": {},
   "outputs": [],
   "source": [
    "loss_fnc = AdjustLabelSmoothedCrossEntropyCriterion()"
   ]
  },
  {
   "cell_type": "code",
   "execution_count": 172,
   "id": "538ed705",
   "metadata": {},
   "outputs": [],
   "source": [
    "outp = model(**batch)"
   ]
  },
  {
   "cell_type": "code",
   "execution_count": null,
   "id": "cc89df91",
   "metadata": {},
   "outputs": [],
   "source": []
  },
  {
   "cell_type": "code",
   "execution_count": 173,
   "id": "8337f2e3",
   "metadata": {},
   "outputs": [
    {
     "data": {
      "text/plain": [
       "torch.Size([8, 4, 59457])"
      ]
     },
     "execution_count": 173,
     "metadata": {},
     "output_type": "execute_result"
    }
   ],
   "source": [
    "outp[\"logits\"].shape"
   ]
  },
  {
   "cell_type": "code",
   "execution_count": null,
   "id": "cec91259",
   "metadata": {},
   "outputs": [],
   "source": []
  },
  {
   "cell_type": "code",
   "execution_count": 174,
   "id": "1738f69f",
   "metadata": {},
   "outputs": [],
   "source": [
    "lprobs = model.get_normalized_probs(outp, log_probs=True) * 1\n",
    "target = model.get_targets(batch)\n"
   ]
  },
  {
   "cell_type": "code",
   "execution_count": 175,
   "id": "9aff0a4c",
   "metadata": {},
   "outputs": [
    {
     "data": {
      "text/plain": [
       "torch.Size([8, 4, 59457])"
      ]
     },
     "execution_count": 175,
     "metadata": {},
     "output_type": "execute_result"
    }
   ],
   "source": [
    "lprobs.shape"
   ]
  },
  {
   "cell_type": "code",
   "execution_count": 176,
   "id": "5875e177",
   "metadata": {},
   "outputs": [
    {
     "data": {
      "text/plain": [
       "torch.Size([8, 4])"
      ]
     },
     "execution_count": 176,
     "metadata": {},
     "output_type": "execute_result"
    }
   ],
   "source": [
    "target.shape"
   ]
  },
  {
   "cell_type": "code",
   "execution_count": 177,
   "id": "c10a53c0",
   "metadata": {},
   "outputs": [],
   "source": [
    "lprobs1 = lprobs[target != tokenizer.pad_token_id]\n"
   ]
  },
  {
   "cell_type": "code",
   "execution_count": 178,
   "id": "dc5648e2",
   "metadata": {},
   "outputs": [],
   "source": [
    "target2 = target[target != tokenizer.pad_token_id]"
   ]
  },
  {
   "cell_type": "code",
   "execution_count": 179,
   "id": "6ea875c8",
   "metadata": {},
   "outputs": [
    {
     "data": {
      "text/plain": [
       "torch.Size([21, 59457])"
      ]
     },
     "execution_count": 179,
     "metadata": {},
     "output_type": "execute_result"
    }
   ],
   "source": [
    "lprobs1.shape"
   ]
  },
  {
   "cell_type": "code",
   "execution_count": null,
   "id": "530c8a04",
   "metadata": {},
   "outputs": [],
   "source": []
  },
  {
   "cell_type": "code",
   "execution_count": null,
   "id": "e8e1f696",
   "metadata": {},
   "outputs": [],
   "source": []
  },
  {
   "cell_type": "code",
   "execution_count": null,
   "id": "2be5093a",
   "metadata": {},
   "outputs": [],
   "source": []
  },
  {
   "cell_type": "code",
   "execution_count": 181,
   "id": "5475facc",
   "metadata": {},
   "outputs": [],
   "source": [
    "loss, sample_size, logging_output = loss_fnc(model,batch,0)"
   ]
  },
  {
   "cell_type": "code",
   "execution_count": 183,
   "id": "519ad5c4",
   "metadata": {},
   "outputs": [
    {
     "data": {
      "text/plain": [
       "{'loss': tensor(152.7043),\n",
       " 'nll_loss': tensor(152.7043),\n",
       " 'n_correct': 10,\n",
       " 'total': 21}"
      ]
     },
     "execution_count": 183,
     "metadata": {},
     "output_type": "execute_result"
    }
   ],
   "source": [
    "logging_output"
   ]
  },
  {
   "cell_type": "code",
   "execution_count": null,
   "id": "34270aaf",
   "metadata": {},
   "outputs": [],
   "source": []
  },
  {
   "cell_type": "code",
   "execution_count": null,
   "id": "4948f1f2",
   "metadata": {},
   "outputs": [],
   "source": []
  },
  {
   "cell_type": "code",
   "execution_count": 26,
   "id": "b625d58e",
   "metadata": {},
   "outputs": [],
   "source": [
    "mean, std = [0.5, 0.5, 0.5], [0.5, 0.5, 0.5]\n",
    "resolution = 480"
   ]
  },
  {
   "cell_type": "code",
   "execution_count": 27,
   "id": "91f9f899",
   "metadata": {},
   "outputs": [
    {
     "name": "stderr",
     "output_type": "stream",
     "text": [
      "/srv/share2/sanisetty3/miniconda3/envs/DLM/lib/python3.9/site-packages/torchvision/transforms/transforms.py:332: UserWarning: Argument interpolation should be of type InterpolationMode instead of int. Please, use InterpolationMode enum.\n",
      "  warnings.warn(\n"
     ]
    }
   ],
   "source": [
    "patch_resize_transform = transforms.Compose([\n",
    "    lambda image: image.convert(\"RGB\"),\n",
    "    transforms.Resize((resolution, resolution), interpolation=Image.BICUBIC),\n",
    "    transforms.ToTensor(), \n",
    "    transforms.Normalize(mean=mean, std=std)\n",
    "])"
   ]
  },
  {
   "cell_type": "code",
   "execution_count": 28,
   "id": "758a8d16",
   "metadata": {},
   "outputs": [],
   "source": [
    "txt = \"How many blocks are there?\"\n",
    "inputs = tokenizer([txt], return_tensors=\"pt\").input_ids\n",
    "img = Image.open('./samples/i1.jpeg')\n",
    "patch_img = patch_resize_transform(img).unsqueeze(0)"
   ]
  },
  {
   "cell_type": "code",
   "execution_count": 29,
   "id": "e3c7a88d",
   "metadata": {},
   "outputs": [
    {
     "data": {
      "image/png": "[encoded data removed]",
      "text/plain": [
       "<PIL.JpegImagePlugin.JpegImageFile image mode=RGB size=320x180>"
      ]
     },
     "execution_count": 29,
     "metadata": {},
     "output_type": "execute_result"
    }
   ],
   "source": [
    "img"
   ]
  },
  {
   "cell_type": "code",
   "execution_count": 69,
   "id": "d6fc6de5",
   "metadata": {},
   "outputs": [],
   "source": [
    "model = OFAModelForVQA.from_pretrained(ckpt_dir, use_cache=False)"
   ]
  },
  {
   "cell_type": "code",
   "execution_count": 70,
   "id": "75bafe73",
   "metadata": {},
   "outputs": [],
   "source": [
    "check = torch.load(\"./OFA-tiny/pytorch_model.bin\")"
   ]
  },
  {
   "cell_type": "code",
   "execution_count": null,
   "id": "5ecc688a",
   "metadata": {},
   "outputs": [],
   "source": []
  },
  {
   "cell_type": "code",
   "execution_count": 23,
   "id": "74d00a03",
   "metadata": {},
   "outputs": [],
   "source": [
    "gen = model.generate(inputs, patch_images=patch_img, num_beams=5, no_repeat_ngram_size=3)"
   ]
  },
  {
   "cell_type": "code",
   "execution_count": 18,
   "id": "b0768495",
   "metadata": {},
   "outputs": [],
   "source": [
    "import transformers"
   ]
  },
  {
   "cell_type": "code",
   "execution_count": null,
   "id": "51b35852",
   "metadata": {},
   "outputs": [],
   "source": []
  },
  {
   "cell_type": "code",
   "execution_count": 24,
   "id": "94dbf0d8",
   "metadata": {},
   "outputs": [
    {
     "data": {
      "image/png": "[encoded data removed]",
      "text/plain": [
       "<PIL.JpegImagePlugin.JpegImageFile image mode=RGB size=320x180>"
      ]
     },
     "metadata": {},
     "output_type": "display_data"
    },
    {
     "name": "stdout",
     "output_type": "stream",
     "text": [
      "2\n"
     ]
    }
   ],
   "source": [
    "display(img)\n",
    "print(tokenizer.batch_decode(gen, skip_special_tokens=True)[0].strip())"
   ]
  },
  {
   "cell_type": "code",
   "execution_count": 24,
   "id": "f5448929",
   "metadata": {},
   "outputs": [],
   "source": [
    "batch = {\n",
    "            \"input_ids\": inputs,\n",
    "            \"patch_images\":patch_img,\n",
    "            'return_loss': True,\n",
    "            \"target\" :inputs,\n",
    "\n",
    "        }"
   ]
  },
  {
   "cell_type": "code",
   "execution_count": 21,
   "id": "a75608c5",
   "metadata": {},
   "outputs": [],
   "source": [
    "def f(input_ids,patch_images,return_loss,defrw = 6):\n",
    "    print(input_ids.shape)\n",
    "    print(patch_images.shape)\n",
    "    print(return_loss)"
   ]
  },
  {
   "cell_type": "code",
   "execution_count": 25,
   "id": "54725fc5",
   "metadata": {},
   "outputs": [
    {
     "ename": "TypeError",
     "evalue": "f() got an unexpected keyword argument 'target'",
     "output_type": "error",
     "traceback": [
      "\u001b[0;31m---------------------------------------------------------------------------\u001b[0m",
      "\u001b[0;31mTypeError\u001b[0m                                 Traceback (most recent call last)",
      "\u001b[0;32m<ipython-input-25-0d8ec8dd9419>\u001b[0m in \u001b[0;36m<module>\u001b[0;34m\u001b[0m\n\u001b[0;32m----> 1\u001b[0;31m \u001b[0mf\u001b[0m\u001b[0;34m(\u001b[0m\u001b[0;34m**\u001b[0m\u001b[0mbatch\u001b[0m\u001b[0;34m)\u001b[0m\u001b[0;34m\u001b[0m\u001b[0;34m\u001b[0m\u001b[0m\n\u001b[0m",
      "\u001b[0;31mTypeError\u001b[0m: f() got an unexpected keyword argument 'target'"
     ]
    }
   ],
   "source": [
    "f(**batch)"
   ]
  },
  {
   "cell_type": "code",
   "execution_count": null,
   "id": "1991c5f9",
   "metadata": {},
   "outputs": [],
   "source": []
  },
  {
   "cell_type": "code",
   "execution_count": null,
   "id": "362a743e",
   "metadata": {},
   "outputs": [],
   "source": []
  }
 ],
 "metadata": {
  "kernelspec": {
   "display_name": "Python 3",
   "language": "python",
   "name": "python3"
  },
  "language_info": {
   "codemirror_mode": {
    "name": "ipython",
    "version": 3
   },
   "file_extension": ".py",
   "mimetype": "text/x-python",
   "name": "python",
   "nbconvert_exporter": "python",
   "pygments_lexer": "ipython3",
   "version": "3.7.11"
  }
 },
 "nbformat": 4,
 "nbformat_minor": 5
}
