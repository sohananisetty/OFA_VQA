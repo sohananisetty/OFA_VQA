{
 "cells": [
  {
   "cell_type": "code",
   "execution_count": 1,
   "id": "ff98f73d",
   "metadata": {},
   "outputs": [
    {
     "name": "stdout",
     "output_type": "stream",
     "text": [
      "Using device: cuda\n",
      "\n",
      "TITAN Xp\n",
      "Memory Usage:\n",
      "Allocated: 0.0 GB\n",
      "Cached:    0.0 GB\n"
     ]
    }
   ],
   "source": [
    "# setting device on GPU if available, else CPU\n",
    "import torch\n",
    "device = torch.device('cuda' if torch.cuda.is_available() else 'cpu')\n",
    "print('Using device:', device)\n",
    "print()\n",
    "\n",
    "#Additional Info when using cuda\n",
    "if device.type == 'cuda':\n",
    "    print(torch.cuda.get_device_name(0))\n",
    "    print('Memory Usage:')\n",
    "    print('Allocated:', round(torch.cuda.memory_allocated(0)/1024**3,1), 'GB')\n",
    "    \n",
    "    print('Cached:   ', round(torch.cuda.memory_reserved(0)/1024**3,1), 'GB')\n",
    "if torch.cuda.device_count() > 1:\n",
    "    print(\"Using \", torch.cuda.device_count(), \"GPUs!\")"
   ]
  },
  {
   "cell_type": "code",
   "execution_count": 2,
   "id": "a9557b63",
   "metadata": {},
   "outputs": [],
   "source": [
    "%load_ext autoreload\n",
    "%autoreload 2"
   ]
  },
  {
   "cell_type": "code",
   "execution_count": 3,
   "id": "162b27ef",
   "metadata": {},
   "outputs": [],
   "source": [
    "import copy\n",
    "import os\n",
    "import random\n",
    "import cv2\n",
    "import numpy as np\n",
    "from PIL import Image\n",
    "import matplotlib.pyplot as plt\n",
    "from glob import glob\n",
    "import functools\n",
    "from PIL import Image\n",
    "import argparse\n",
    "import os\n",
    "import numpy as np\n",
    "import random\n",
    "import time\n",
    "import datetime\n",
    "import json\n",
    "from pathlib import Path\n",
    "\n",
    "\n",
    "import torch\n",
    "import torch.nn as nn\n",
    "import torch.nn.functional as F\n",
    "from torch.utils.data import DataLoader\n",
    "import transformers"
   ]
  },
  {
   "cell_type": "code",
   "execution_count": 4,
   "id": "90cd98bd",
   "metadata": {},
   "outputs": [],
   "source": [
    "from PIL import Image\n",
    "from torchvision import transforms\n",
    "from core.ofa import OFATokenizer, OFAModel\n",
    "from core.ofa.generate import sequence_generator"
   ]
  },
  {
   "cell_type": "code",
   "execution_count": 5,
   "id": "422b9ec0",
   "metadata": {},
   "outputs": [],
   "source": [
    "from core.datasets.vqa_gen_dataset import VqaGenDataset , VQACollator, VqaDataset\n",
    "from core.ofa.label_smoothed_cross_entropy import AdjustLabelSmoothedCrossEntropyCriterion\n",
    "from core.ofa import OFATokenizer\n",
    "from core.ofa.modeling_ofa import OFAModelForVQA\n",
    "from core.ofa.configuration_ofa import OFAConfig\n",
    "from accelerate import Accelerator\n",
    "from accelerate.utils import DistributedDataParallelKwargs\n",
    "from accelerate import DistributedType"
   ]
  },
  {
   "cell_type": "code",
   "execution_count": 6,
   "id": "9ec3bc1c",
   "metadata": {},
   "outputs": [],
   "source": [
    "import transformers"
   ]
  },
  {
   "cell_type": "markdown",
   "id": "e336ce8a",
   "metadata": {},
   "source": [
    "## Convert pt to pretrained bin"
   ]
  },
  {
   "cell_type": "code",
   "execution_count": 8,
   "id": "75b6a473",
   "metadata": {},
   "outputs": [],
   "source": [
    "pretrained ='/coc/scratch/sanisetty3/DLM/OFA-base-vqa/'\n",
    "fine_tuned =\"/srv/scratch/sanisetty3/DLM/OFA_VQA/checkpoints/base_vqa/ofa_vqa.14500.pt\"\n"
   ]
  },
  {
   "cell_type": "code",
   "execution_count": 9,
   "id": "3d6cf87f",
   "metadata": {},
   "outputs": [],
   "source": [
    "kwargs = DistributedDataParallelKwargs(find_unused_parameters = True)\n",
    "accelerator = Accelerator(kwargs_handlers = [kwargs])"
   ]
  },
  {
   "cell_type": "code",
   "execution_count": 10,
   "id": "964852e2",
   "metadata": {},
   "outputs": [],
   "source": [
    "# fine_tuned =\"/srv/scratch/sanisetty3/DLM/OFA_VQA/checkpoints/results/ofa_vqa.32000.pt\"\n",
    "pkg = torch.load(fine_tuned, map_location = 'cpu')"
   ]
  },
  {
   "cell_type": "code",
   "execution_count": 11,
   "id": "db7c83e0",
   "metadata": {},
   "outputs": [
    {
     "name": "stderr",
     "output_type": "stream",
     "text": [
      "/srv/share2/sanisetty3/miniconda3/envs/ai-choreo/lib/python3.7/site-packages/torch/functional.py:504: UserWarning: torch.meshgrid: in an upcoming release, it will be required to pass the indexing argument. (Triggered internally at /opt/conda/conda-bld/pytorch_1670525553989/work/aten/src/ATen/native/TensorShape.cpp:3190.)\n",
      "  return _VF.meshgrid(tensors, **kwargs)  # type: ignore[attr-defined]\n"
     ]
    }
   ],
   "source": [
    "ofa_config = OFAConfig.from_pretrained('/coc/scratch/sanisetty3/DLM/OFA-base-vqa/')\n",
    "vqa_model = OFAModelForVQA(ofa_config)"
   ]
  },
  {
   "cell_type": "code",
   "execution_count": 12,
   "id": "2ab47d40",
   "metadata": {},
   "outputs": [],
   "source": [
    "unwrapped_model = accelerator.unwrap_model(vqa_model)"
   ]
  },
  {
   "cell_type": "code",
   "execution_count": 13,
   "id": "9f3b0f70",
   "metadata": {},
   "outputs": [
    {
     "data": {
      "text/plain": [
       "<All keys matched successfully>"
      ]
     },
     "execution_count": 13,
     "metadata": {},
     "output_type": "execute_result"
    }
   ],
   "source": [
    "unwrapped_model.load_state_dict(pkg['model'])"
   ]
  },
  {
   "cell_type": "code",
   "execution_count": 14,
   "id": "81fc93a5",
   "metadata": {},
   "outputs": [],
   "source": [
    "unwrapped_model.save_pretrained('/coc/scratch/sanisetty3/DLM/ofa-base-vqa/', save_function=accelerator.save)"
   ]
  },
  {
   "cell_type": "code",
   "execution_count": null,
   "id": "6410b369",
   "metadata": {},
   "outputs": [],
   "source": []
  },
  {
   "cell_type": "code",
   "execution_count": null,
   "id": "ad09bb07",
   "metadata": {},
   "outputs": [],
   "source": []
  },
  {
   "cell_type": "code",
   "execution_count": null,
   "id": "0105424b",
   "metadata": {},
   "outputs": [],
   "source": []
  },
  {
   "cell_type": "markdown",
   "id": "e0e61a25",
   "metadata": {},
   "source": [
    "##  Weight transfer to transformer model"
   ]
  },
  {
   "cell_type": "code",
   "execution_count": 79,
   "id": "739c6e9d",
   "metadata": {},
   "outputs": [],
   "source": [
    "model_b = OFAModelForVQA.from_pretrained(\"OFA-base/\", use_cache=False)\n"
   ]
  },
  {
   "cell_type": "code",
   "execution_count": 81,
   "id": "46e156e2",
   "metadata": {},
   "outputs": [],
   "source": [
    "base = torch.load(\"OFA-base/pytorch_model.bin\")"
   ]
  },
  {
   "cell_type": "code",
   "execution_count": 172,
   "id": "cca25dbf",
   "metadata": {},
   "outputs": [],
   "source": [
    "base_vqa = torch.load(\"vqa_base_best.pt\")[\"model\"]\n",
    "del base_vqa[\"encoder.version\"]\n",
    "del base_vqa[\"decoder.version\"]"
   ]
  },
  {
   "cell_type": "code",
   "execution_count": null,
   "id": "23144c2f",
   "metadata": {},
   "outputs": [],
   "source": []
  },
  {
   "cell_type": "code",
   "execution_count": 173,
   "id": "defc4e1d",
   "metadata": {},
   "outputs": [],
   "source": [
    "def change_key(self, old, new):\n",
    "    for _ in range(len(self)):\n",
    "        k, v = self.popitem(False)\n",
    "        self[new if old == k else k] = v"
   ]
  },
  {
   "cell_type": "code",
   "execution_count": 174,
   "id": "906e7340",
   "metadata": {},
   "outputs": [],
   "source": [
    " my_dic_keys = list(base_vqa.keys())"
   ]
  },
  {
   "cell_type": "code",
   "execution_count": 175,
   "id": "ee4b7eeb",
   "metadata": {},
   "outputs": [
    {
     "name": "stdout",
     "output_type": "stream",
     "text": [
      "encoder.layers.0.attn_ln.weight\n",
      "encoder.layers.0.attn_ln.bias\n",
      "encoder.layers.0.ffn_layernorm.weight\n",
      "encoder.layers.0.ffn_layernorm.bias\n",
      "encoder.layers.1.attn_ln.weight\n",
      "encoder.layers.1.attn_ln.bias\n",
      "encoder.layers.1.ffn_layernorm.weight\n",
      "encoder.layers.1.ffn_layernorm.bias\n",
      "encoder.layers.2.attn_ln.weight\n",
      "encoder.layers.2.attn_ln.bias\n",
      "encoder.layers.2.ffn_layernorm.weight\n",
      "encoder.layers.2.ffn_layernorm.bias\n",
      "encoder.layers.3.attn_ln.weight\n",
      "encoder.layers.3.attn_ln.bias\n",
      "encoder.layers.3.ffn_layernorm.weight\n",
      "encoder.layers.3.ffn_layernorm.bias\n",
      "encoder.layers.4.attn_ln.weight\n",
      "encoder.layers.4.attn_ln.bias\n",
      "encoder.layers.4.ffn_layernorm.weight\n",
      "encoder.layers.4.ffn_layernorm.bias\n",
      "encoder.layers.5.attn_ln.weight\n",
      "encoder.layers.5.attn_ln.bias\n",
      "encoder.layers.5.ffn_layernorm.weight\n",
      "encoder.layers.5.ffn_layernorm.bias\n"
     ]
    }
   ],
   "source": [
    "for i in my_dic_keys:\n",
    "#     print(i)\n",
    "    if \"ffn_layernorm\" in i and \"encoder\" in i:\n",
    "        new = str(i).replace(\"ffn_layernorm\",\"ffn_layer_norm\")\n",
    "        change_key(base_vqa , i , new)\n",
    "        print(i)\n",
    "    if \"attn_ln\" in i and \"encoder\" in i:\n",
    "        new = str(i).replace(\"attn_ln\",\"self_attn_mid_layer_norm\")\n",
    "        change_key(base_vqa , i , new)\n",
    "        print(i)\n",
    "        \n",
    "    if \"encoder_attn\" in i and \"decoder\" in i:\n",
    "        new = str(i).replace(\"encoder_attn\",\"cross_attn\")\n",
    "        change_key(base_vqa , i , new)\n",
    "        \n",
    "    if \"ffn_layernorm\" in i and \"decoder\" in i:\n",
    "        new = str(i).replace(\"ffn_layernorm\",\"ffn_layer_norm\")\n",
    "        change_key(base_vqa , i , new) \n",
    "        \n",
    "    if \"cross_attn_ln\" in i and \"decoder\" in i:\n",
    "        new = str(i).replace(\"cross_attn_ln\",\"cross_attn_mid_layer_norm\")\n",
    "        change_key(base_vqa , i , new) \n",
    "        \n",
    "    if \"self_attn_ln\" in i and \"decoder\" in i:\n",
    "        new = str(i).replace(\"self_attn_ln\",\"self_attn_mid_layer_norm\")\n",
    "        change_key(base_vqa , i , new) "
   ]
  },
  {
   "cell_type": "code",
   "execution_count": 176,
   "id": "d706aea5",
   "metadata": {},
   "outputs": [
    {
     "data": {
      "text/plain": [
       "0"
      ]
     },
     "execution_count": 176,
     "metadata": {},
     "output_type": "execute_result"
    }
   ],
   "source": [
    "mis = []\n",
    "for i in (base_vqa.keys()):\n",
    "    \n",
    "    if i in base.keys():\n",
    "        continue\n",
    "    else:\n",
    "        print(i)\n",
    "        mis.append(i)\n",
    "\n",
    "len(mis)"
   ]
  },
  {
   "cell_type": "code",
   "execution_count": null,
   "id": "3173da88",
   "metadata": {},
   "outputs": [],
   "source": []
  },
  {
   "cell_type": "code",
   "execution_count": null,
   "id": "38b24d5b",
   "metadata": {},
   "outputs": [],
   "source": []
  },
  {
   "cell_type": "code",
   "execution_count": 177,
   "id": "8533e4a1",
   "metadata": {},
   "outputs": [],
   "source": [
    "torch.save(base_vqa , \"OFA-base-vqa/pytorch_model.bin\")"
   ]
  },
  {
   "cell_type": "code",
   "execution_count": 178,
   "id": "13a746d3",
   "metadata": {},
   "outputs": [],
   "source": [
    "model_p = OFAModelForVQA.from_pretrained(\"OFA-base-vqa/\", use_cache=False)\n"
   ]
  },
  {
   "cell_type": "markdown",
   "id": "e204c4b6",
   "metadata": {},
   "source": [
    "## Test VQAv2"
   ]
  },
  {
   "cell_type": "code",
   "execution_count": 7,
   "id": "ea38b937",
   "metadata": {},
   "outputs": [
    {
     "ename": "NameError",
     "evalue": "name 'pretrained' is not defined",
     "output_type": "error",
     "traceback": [
      "\u001b[0;31m---------------------------------------------------------------------------\u001b[0m",
      "\u001b[0;31mNameError\u001b[0m                                 Traceback (most recent call last)",
      "Cell \u001b[0;32mIn[7], line 1\u001b[0m\n\u001b[0;32m----> 1\u001b[0m tokenizer_p \u001b[38;5;241m=\u001b[39m OFATokenizer\u001b[38;5;241m.\u001b[39mfrom_pretrained(\u001b[43mpretrained\u001b[49m)\n",
      "\u001b[0;31mNameError\u001b[0m: name 'pretrained' is not defined"
     ]
    }
   ],
   "source": [
    "tokenizer_p = OFATokenizer.from_pretrained(pretrained)\n"
   ]
  },
  {
   "cell_type": "code",
   "execution_count": null,
   "id": "2e60cf9a",
   "metadata": {},
   "outputs": [],
   "source": [
    "model_p = OFAModelForVQA.from_pretrained(pretrained, use_cache=False)\n",
    "model_f = OFAModelForVQA.from_pretrained('/coc/scratch/sanisetty3/DLM/OFA-tiny-fine-tune/', use_cache=False)"
   ]
  },
  {
   "cell_type": "code",
   "execution_count": null,
   "id": "91f9f899",
   "metadata": {},
   "outputs": [],
   "source": [
    "mean, std = [0.5, 0.5, 0.5], [0.5, 0.5, 0.5]\n",
    "resolution = 480\n",
    "\n",
    "patch_resize_transform = transforms.Compose([\n",
    "    lambda image: image.convert(\"RGB\"),\n",
    "    transforms.Resize((resolution, resolution), interpolation=Image.BICUBIC),\n",
    "    transforms.ToTensor(), \n",
    "    transforms.Normalize(mean=mean, std=std)\n",
    "])"
   ]
  },
  {
   "cell_type": "code",
   "execution_count": 155,
   "id": "758a8d16",
   "metadata": {},
   "outputs": [],
   "source": [
    "ann_file = os.path.join('/srv/scratch/sanisetty3/DLM/AliceMind/mPLUG/data/json/vqa_ocr_object/' ,\"vqa_train_ocr.json\")\n",
    "vqa_root = '/srv/datasets/coco/'\n"
   ]
  },
  {
   "cell_type": "code",
   "execution_count": 156,
   "id": "75bafe73",
   "metadata": {},
   "outputs": [
    {
     "name": "stdout",
     "output_type": "stream",
     "text": [
      "\n"
     ]
    }
   ],
   "source": [
    "ds = VqaDataset(\n",
    "    ann_file=[ann_file],\n",
    "    vqa_root=vqa_root,\n",
    ")\n",
    "data_collator = VQACollator(tokenizer=tokenizer_p, max_seq_length=128)\n",
    "dl = DataLoader(ds, batch_size = 8, collate_fn=data_collator ,num_workers = 0, shuffle = True)\n"
   ]
  },
  {
   "cell_type": "code",
   "execution_count": 157,
   "id": "9b960b8c",
   "metadata": {},
   "outputs": [],
   "source": [
    "for batch in dl:\n",
    "    break"
   ]
  },
  {
   "cell_type": "code",
   "execution_count": 158,
   "id": "428f7e2a",
   "metadata": {},
   "outputs": [
    {
     "name": "stdout",
     "output_type": "stream",
     "text": [
      "[' what fruit is growing on the bush?', ' is the horse outside?', ' is the saddle western?', ' how many frisbees is the man holding?', ' what is his name?', ' where is the clock?', ' does the tennis player have an audience?', ' what are the men looking at online?']\n"
     ]
    }
   ],
   "source": [
    "print(tokenizer_p.batch_decode(batch[\"input_ids\"], skip_special_tokens=True))"
   ]
  },
  {
   "cell_type": "code",
   "execution_count": 159,
   "id": "cca4f710",
   "metadata": {},
   "outputs": [
    {
     "name": "stdout",
     "output_type": "stream",
     "text": [
      "['oranges', 'yes', 'yes', '2', 'lin', 'table', 'no', 'work']\n"
     ]
    }
   ],
   "source": [
    "print(tokenizer_p.batch_decode(batch[\"target\"], skip_special_tokens=True))"
   ]
  },
  {
   "cell_type": "code",
   "execution_count": 160,
   "id": "c26622a3",
   "metadata": {},
   "outputs": [
    {
     "name": "stderr",
     "output_type": "stream",
     "text": [
      "Clipping input data to the valid range for imshow with RGB data ([0..1] for floats or [0..255] for integers).\n"
     ]
    },
    {
     "data": {
      "text/plain": [
       "<matplotlib.image.AxesImage at 0x7f51a9d18c50>"
      ]
     },
     "execution_count": 160,
     "metadata": {},
     "output_type": "execute_result"
    },
    {
     "data": {
      "image/png": "[encoded data removed]",
      "text/plain": [
       "<Figure size 432x288 with 1 Axes>"
      ]
     },
     "metadata": {
      "needs_background": "light"
     },
     "output_type": "display_data"
    }
   ],
   "source": [
    "plt.imshow(batch[\"patch_images\"][0].permute(1,2,0).cpu().numpy())"
   ]
  },
  {
   "cell_type": "code",
   "execution_count": null,
   "id": "b01792bd",
   "metadata": {},
   "outputs": [],
   "source": []
  },
  {
   "cell_type": "code",
   "execution_count": null,
   "id": "c254c810",
   "metadata": {},
   "outputs": [],
   "source": []
  },
  {
   "cell_type": "code",
   "execution_count": null,
   "id": "a93cf7fd",
   "metadata": {},
   "outputs": [],
   "source": []
  },
  {
   "cell_type": "markdown",
   "id": "72e17ce1",
   "metadata": {},
   "source": [
    "## Test Stack"
   ]
  },
  {
   "cell_type": "code",
   "execution_count": 8,
   "id": "401cd81c",
   "metadata": {},
   "outputs": [],
   "source": [
    "pretrained ='/coc/scratch/sanisetty3/DLM/OFA-base-vqa/'\n",
    "finetuned = '/coc/scratch/sanisetty3/DLM/ofa-base-vqa/'"
   ]
  },
  {
   "cell_type": "code",
   "execution_count": 9,
   "id": "0149b7f2",
   "metadata": {},
   "outputs": [
    {
     "name": "stdout",
     "output_type": "stream",
     "text": [
      "/coc/scratch/sanisetty3/DLM/OFA-base-vqa/\n",
      "<super: <class 'OFATokenizer'>, <OFATokenizer object>>\n"
     ]
    },
    {
     "name": "stderr",
     "output_type": "stream",
     "text": [
      "/srv/share2/sanisetty3/miniconda3/envs/DLM/lib/python3.9/site-packages/torch/functional.py:504: UserWarning: torch.meshgrid: in an upcoming release, it will be required to pass the indexing argument. (Triggered internally at ../aten/src/ATen/native/TensorShape.cpp:3190.)\n",
      "  return _VF.meshgrid(tensors, **kwargs)  # type: ignore[attr-defined]\n"
     ]
    }
   ],
   "source": [
    "tokenizer_p = OFATokenizer.from_pretrained(pretrained)\n",
    "model_p = OFAModelForVQA.from_pretrained(pretrained, use_cache=False)\n"
   ]
  },
  {
   "cell_type": "code",
   "execution_count": 10,
   "id": "9449f47c",
   "metadata": {},
   "outputs": [],
   "source": [
    "model_f = OFAModelForVQA.from_pretrained(finetuned, use_cache=False)\n"
   ]
  },
  {
   "cell_type": "code",
   "execution_count": 11,
   "id": "2a184dcb",
   "metadata": {},
   "outputs": [
    {
     "name": "stderr",
     "output_type": "stream",
     "text": [
      "/srv/share2/sanisetty3/miniconda3/envs/DLM/lib/python3.9/site-packages/torchvision/transforms/transforms.py:329: UserWarning: Argument 'interpolation' of type int is deprecated since 0.13 and will be removed in 0.15. Please use InterpolationMode enum.\n",
      "  warnings.warn(\n"
     ]
    }
   ],
   "source": [
    "mean, std = [0.5, 0.5, 0.5], [0.5, 0.5, 0.5]\n",
    "resolution = 480\n",
    "\n",
    "patch_resize_transform = transforms.Compose([\n",
    "    lambda image: image.convert(\"RGB\"),\n",
    "    transforms.Resize((resolution, resolution), interpolation=Image.BICUBIC),\n",
    "    transforms.ToTensor(), \n",
    "    transforms.Normalize(mean=mean, std=std)\n",
    "])"
   ]
  },
  {
   "cell_type": "code",
   "execution_count": 12,
   "id": "31462c23",
   "metadata": {},
   "outputs": [],
   "source": [
    "from core.datasets.vqa_gen_dataset import VQACollator, VqaDataset,VqaStackDataset,CLEVRVQADataset\n"
   ]
  },
  {
   "cell_type": "code",
   "execution_count": 13,
   "id": "32aedff6",
   "metadata": {},
   "outputs": [],
   "source": [
    "ann_file = \"/srv/scratch/sanisetty3/DLM/sornet/data/block_stacking/Relational_dataset/stack_train_questions.json\"\n",
    "vqa_root = \"/srv/scratch/sanisetty3/DLM/sornet/data/block_stacking/Relational_dataset/images\""
   ]
  },
  {
   "cell_type": "code",
   "execution_count": 39,
   "id": "061b5fbb",
   "metadata": {},
   "outputs": [
    {
     "name": "stdout",
     "output_type": "stream",
     "text": [
      "\n"
     ]
    },
    {
     "name": "stderr",
     "output_type": "stream",
     "text": [
      "/srv/share2/sanisetty3/miniconda3/envs/DLM/lib/python3.9/site-packages/torchvision/transforms/transforms.py:329: UserWarning: Argument 'interpolation' of type int is deprecated since 0.13 and will be removed in 0.15. Please use InterpolationMode enum.\n",
      "  warnings.warn(\n"
     ]
    }
   ],
   "source": [
    "ds = VqaStackDataset(\n",
    "    ann_file=ann_file,\n",
    "    vqa_root=vqa_root,\n",
    ")\n",
    "stack_data_collator = VQACollator(tokenizer=tokenizer_p, max_seq_length=128)\n",
    "stack_dl = DataLoader(ds, batch_size = 8, collate_fn=stack_data_collator ,num_workers = 0, shuffle = True)\n"
   ]
  },
  {
   "cell_type": "code",
   "execution_count": 21,
   "id": "b59c990e",
   "metadata": {},
   "outputs": [],
   "source": [
    "ds = CLEVRVQADataset(split=\"valA\")\n",
    "data_collator = VQACollator(tokenizer=tokenizer_p, max_seq_length=128)\n",
    "dl = DataLoader(ds, batch_size = 8, collate_fn=data_collator ,num_workers = 0, shuffle = True)\n"
   ]
  },
  {
   "cell_type": "code",
   "execution_count": 15,
   "id": "67a9a72f",
   "metadata": {},
   "outputs": [],
   "source": [
    "for batch in dl:\n",
    "    break"
   ]
  },
  {
   "cell_type": "code",
   "execution_count": 16,
   "id": "eab6aa18",
   "metadata": {},
   "outputs": [
    {
     "name": "stdout",
     "output_type": "stream",
     "text": [
      "[' there is a brown cube; are there any red cubes in front of it?', ' there is a cyan thing; are there any cyan things behind it?', ' the object that is underneath the yellow thing is what color?', ' there is a purple thing; are there any red cubes above, it?', ' what is the color of the block that is below the red thing?', ' there is a thing behind the gray cube; what is its color?', ' there is a cube underneath the green thing; what is its color?', ' there is a green block; are there any cyan cubes to the right of it?']\n"
     ]
    }
   ],
   "source": [
    "print(tokenizer_p.batch_decode(batch[\"input_ids\"], skip_special_tokens=True))"
   ]
  },
  {
   "cell_type": "code",
   "execution_count": 17,
   "id": "4820a3c9",
   "metadata": {},
   "outputs": [
    {
     "name": "stdout",
     "output_type": "stream",
     "text": [
      "['False', 'False', 'gray', 'False', 'blue', 'brown', 'purple', 'False']\n"
     ]
    }
   ],
   "source": [
    "print(tokenizer_p.batch_decode(batch[\"target\"], skip_special_tokens=True))"
   ]
  },
  {
   "cell_type": "code",
   "execution_count": null,
   "id": "0ab71bd1",
   "metadata": {},
   "outputs": [],
   "source": []
  },
  {
   "cell_type": "code",
   "execution_count": null,
   "id": "bf4eca22",
   "metadata": {},
   "outputs": [],
   "source": []
  },
  {
   "cell_type": "code",
   "execution_count": null,
   "id": "516f8af8",
   "metadata": {},
   "outputs": [],
   "source": []
  },
  {
   "cell_type": "code",
   "execution_count": null,
   "id": "a936a044",
   "metadata": {},
   "outputs": [],
   "source": []
  },
  {
   "cell_type": "markdown",
   "id": "8223d201",
   "metadata": {},
   "source": [
    "### Pretrained"
   ]
  },
  {
   "cell_type": "code",
   "execution_count": 28,
   "id": "0257887e",
   "metadata": {},
   "outputs": [],
   "source": []
  },
  {
   "cell_type": "code",
   "execution_count": 29,
   "id": "9d206567",
   "metadata": {},
   "outputs": [],
   "source": []
  },
  {
   "cell_type": "code",
   "execution_count": 20,
   "id": "5386f2ef",
   "metadata": {},
   "outputs": [
    {
     "name": "stdout",
     "output_type": "stream",
     "text": [
      "['False', 'False', 'gray', 'False', 'blue', 'brown', 'purple', 'False']\n"
     ]
    }
   ],
   "source": [
    "print(tokenizer_p.batch_decode(batch[\"target\"], skip_special_tokens=True))"
   ]
  },
  {
   "cell_type": "code",
   "execution_count": 22,
   "id": "74d00a03",
   "metadata": {},
   "outputs": [],
   "source": [
    "gen = model_p.generate(batch[\"input_ids\"], patch_images=batch[\"patch_images\"], num_beams=5, no_repeat_ngram_size=3)"
   ]
  },
  {
   "cell_type": "code",
   "execution_count": 23,
   "id": "596211dc",
   "metadata": {},
   "outputs": [
    {
     "data": {
      "text/plain": [
       "[' yes', ' yes', ' gray', ' yes', ' blue', ' blue', ' purple', ' yes']"
      ]
     },
     "execution_count": 23,
     "metadata": {},
     "output_type": "execute_result"
    }
   ],
   "source": [
    "tokenizer_p.batch_decode(gen, skip_special_tokens=True)"
   ]
  },
  {
   "cell_type": "code",
   "execution_count": 30,
   "id": "dd6889d4",
   "metadata": {},
   "outputs": [],
   "source": [
    "indx = 2\n",
    "img = batch[\"patch_images\"][indx].permute(1,2,0).cpu().numpy()*[0.5, 0.5, 0.5]+ [0.5, 0.5, 0.5]"
   ]
  },
  {
   "cell_type": "code",
   "execution_count": 31,
   "id": "94dbf0d8",
   "metadata": {},
   "outputs": [
    {
     "name": "stdout",
     "output_type": "stream",
     "text": [
      "the object that is underneath the yellow thing is what color?\n",
      "gray\n"
     ]
    },
    {
     "data": {
      "image/png": "[encoded data removed]",
      "text/plain": [
       "<Figure size 640x480 with 1 Axes>"
      ]
     },
     "metadata": {},
     "output_type": "display_data"
    }
   ],
   "source": [
    "plt.imshow(img)\n",
    "print(tokenizer_p.batch_decode(batch[\"input_ids\"], skip_special_tokens=True)[indx].strip())\n",
    "print(tokenizer_p.batch_decode(gen, skip_special_tokens=True)[indx].strip())"
   ]
  },
  {
   "cell_type": "code",
   "execution_count": null,
   "id": "4688b891",
   "metadata": {},
   "outputs": [],
   "source": []
  },
  {
   "cell_type": "code",
   "execution_count": null,
   "id": "924cb584",
   "metadata": {},
   "outputs": [],
   "source": []
  },
  {
   "cell_type": "markdown",
   "id": "481574aa",
   "metadata": {},
   "source": [
    "### Finetuned"
   ]
  },
  {
   "cell_type": "code",
   "execution_count": 32,
   "id": "794206c5",
   "metadata": {},
   "outputs": [
    {
     "name": "stdout",
     "output_type": "stream",
     "text": [
      "['False', 'False', 'gray', 'False', 'blue', 'brown', 'purple', 'False']\n"
     ]
    }
   ],
   "source": [
    "print(tokenizer_p.batch_decode(batch[\"target\"], skip_special_tokens=True))"
   ]
  },
  {
   "cell_type": "code",
   "execution_count": 25,
   "id": "1aade543",
   "metadata": {},
   "outputs": [],
   "source": [
    "gen_fin = model_f.generate(batch[\"input_ids\"], patch_images=batch[\"patch_images\"], num_beams=5, no_repeat_ngram_size=3)"
   ]
  },
  {
   "cell_type": "code",
   "execution_count": 46,
   "id": "7da1f7f4",
   "metadata": {},
   "outputs": [
    {
     "data": {
      "text/plain": [
       "(16, 3)"
      ]
     },
     "execution_count": 46,
     "metadata": {},
     "output_type": "execute_result"
    }
   ],
   "source": [
    "np.vstack([gen_fin , gen_fin]).shape"
   ]
  },
  {
   "cell_type": "code",
   "execution_count": 26,
   "id": "0ad92ed3",
   "metadata": {},
   "outputs": [
    {
     "data": {
      "text/plain": [
       "['no', 'no', 'gray', 'no', 'blue', 'green', 'blue', 'no']"
      ]
     },
     "execution_count": 26,
     "metadata": {},
     "output_type": "execute_result"
    }
   ],
   "source": [
    "tokenizer_p.batch_decode(gen_fin, skip_special_tokens=True)"
   ]
  },
  {
   "cell_type": "code",
   "execution_count": 27,
   "id": "4d5826ea",
   "metadata": {},
   "outputs": [
    {
     "name": "stdout",
     "output_type": "stream",
     "text": [
      "there is a brown cube; are there any red cubes in front of it?\n",
      "no\n"
     ]
    },
    {
     "data": {
      "image/png": "[encoded data removed]",
      "text/plain": [
       "<Figure size 640x480 with 1 Axes>"
      ]
     },
     "metadata": {},
     "output_type": "display_data"
    }
   ],
   "source": [
    "plt.imshow(img)\n",
    "print(tokenizer_p.batch_decode(batch[\"input_ids\"], skip_special_tokens=True)[indx].strip())\n",
    "print(tokenizer_p.batch_decode(gen_fin, skip_special_tokens=True)[indx].strip())"
   ]
  },
  {
   "cell_type": "markdown",
   "id": "3c289158",
   "metadata": {},
   "source": [
    "## Eval script"
   ]
  },
  {
   "cell_type": "code",
   "execution_count": null,
   "id": "43029e05",
   "metadata": {},
   "outputs": [],
   "source": []
  },
  {
   "cell_type": "code",
   "execution_count": 35,
   "id": "f7a96eff",
   "metadata": {},
   "outputs": [],
   "source": [
    "from evaluate import evaluator\n",
    "\n",
    "task_evaluator = evaluator(\"question-answering\")\n"
   ]
  },
  {
   "cell_type": "code",
   "execution_count": 36,
   "id": "e8c7f876",
   "metadata": {},
   "outputs": [],
   "source": [
    "from datasets import load_metric"
   ]
  },
  {
   "cell_type": "code",
   "execution_count": 40,
   "id": "ecdbeec0",
   "metadata": {},
   "outputs": [],
   "source": [
    "metric = load_metric('accuracy','f1')"
   ]
  },
  {
   "cell_type": "code",
   "execution_count": null,
   "id": "f25c522f",
   "metadata": {},
   "outputs": [],
   "source": []
  },
  {
   "cell_type": "code",
   "execution_count": 48,
   "id": "8e767cd0",
   "metadata": {},
   "outputs": [
    {
     "name": "stderr",
     "output_type": "stream",
     "text": [
      "  0%|                                                                  | 0/604 [00:00<?, ?it/s]/srv/share2/sanisetty3/miniconda3/envs/DLM/lib/python3.9/site-packages/transformers/generation/utils.py:1273: UserWarning: Neither `max_length` nor `max_new_tokens` has been set, `max_length` will default to 20 (`generation_config.max_length`). Controlling `max_length` via the config is deprecated and `max_length` will be removed from the config in v5 of Transformers -- we recommend using `max_new_tokens` to control the maximum length of the generation.\n",
      "  warnings.warn(\n",
      "  2%|▉                                                      | 10/604 [06:43<6:39:15, 40.33s/it]\n"
     ]
    },
    {
     "ename": "KeyboardInterrupt",
     "evalue": "",
     "output_type": "error",
     "traceback": [
      "\u001b[0;31m---------------------------------------------------------------------------\u001b[0m",
      "\u001b[0;31mKeyboardInterrupt\u001b[0m                         Traceback (most recent call last)",
      "Cell \u001b[0;32mIn[48], line 10\u001b[0m\n\u001b[1;32m      7\u001b[0m \u001b[38;5;28;01mexcept\u001b[39;00m: \n\u001b[1;32m      8\u001b[0m     targets \u001b[38;5;241m=\u001b[39m batch[\u001b[38;5;124m\"\u001b[39m\u001b[38;5;124mtarget\u001b[39m\u001b[38;5;124m\"\u001b[39m]\n\u001b[0;32m---> 10\u001b[0m gen_fin \u001b[38;5;241m=\u001b[39m \u001b[43mmodel_f\u001b[49m\u001b[38;5;241;43m.\u001b[39;49m\u001b[43mgenerate\u001b[49m\u001b[43m(\u001b[49m\u001b[43mbatch\u001b[49m\u001b[43m[\u001b[49m\u001b[38;5;124;43m\"\u001b[39;49m\u001b[38;5;124;43minput_ids\u001b[39;49m\u001b[38;5;124;43m\"\u001b[39;49m\u001b[43m]\u001b[49m\u001b[43m,\u001b[49m\u001b[43m \u001b[49m\u001b[43mpatch_images\u001b[49m\u001b[38;5;241;43m=\u001b[39;49m\u001b[43mbatch\u001b[49m\u001b[43m[\u001b[49m\u001b[38;5;124;43m\"\u001b[39;49m\u001b[38;5;124;43mpatch_images\u001b[39;49m\u001b[38;5;124;43m\"\u001b[39;49m\u001b[43m]\u001b[49m\u001b[43m,\u001b[49m\u001b[43m \u001b[49m\u001b[43mnum_beams\u001b[49m\u001b[38;5;241;43m=\u001b[39;49m\u001b[38;5;241;43m5\u001b[39;49m\u001b[43m,\u001b[49m\u001b[43m \u001b[49m\u001b[43mno_repeat_ngram_size\u001b[49m\u001b[38;5;241;43m=\u001b[39;49m\u001b[38;5;241;43m3\u001b[39;49m\u001b[43m)\u001b[49m\n\u001b[1;32m     12\u001b[0m \u001b[38;5;28;01mtry\u001b[39;00m:\n\u001b[1;32m     13\u001b[0m     pred \u001b[38;5;241m=\u001b[39m np\u001b[38;5;241m.\u001b[39mvstack([pred , gen_fin])\n",
      "File \u001b[0;32m/srv/share2/sanisetty3/miniconda3/envs/DLM/lib/python3.9/site-packages/torch/autograd/grad_mode.py:27\u001b[0m, in \u001b[0;36m_DecoratorContextManager.__call__.<locals>.decorate_context\u001b[0;34m(*args, **kwargs)\u001b[0m\n\u001b[1;32m     24\u001b[0m \u001b[38;5;129m@functools\u001b[39m\u001b[38;5;241m.\u001b[39mwraps(func)\n\u001b[1;32m     25\u001b[0m \u001b[38;5;28;01mdef\u001b[39;00m \u001b[38;5;21mdecorate_context\u001b[39m(\u001b[38;5;241m*\u001b[39margs, \u001b[38;5;241m*\u001b[39m\u001b[38;5;241m*\u001b[39mkwargs):\n\u001b[1;32m     26\u001b[0m     \u001b[38;5;28;01mwith\u001b[39;00m \u001b[38;5;28mself\u001b[39m\u001b[38;5;241m.\u001b[39mclone():\n\u001b[0;32m---> 27\u001b[0m         \u001b[38;5;28;01mreturn\u001b[39;00m \u001b[43mfunc\u001b[49m\u001b[43m(\u001b[49m\u001b[38;5;241;43m*\u001b[39;49m\u001b[43margs\u001b[49m\u001b[43m,\u001b[49m\u001b[43m \u001b[49m\u001b[38;5;241;43m*\u001b[39;49m\u001b[38;5;241;43m*\u001b[39;49m\u001b[43mkwargs\u001b[49m\u001b[43m)\u001b[49m\n",
      "File \u001b[0;32m/srv/share2/sanisetty3/miniconda3/envs/DLM/lib/python3.9/site-packages/transformers/generation/utils.py:1474\u001b[0m, in \u001b[0;36mGenerationMixin.generate\u001b[0;34m(self, inputs, generation_config, logits_processor, stopping_criteria, prefix_allowed_tokens_fn, synced_gpus, **kwargs)\u001b[0m\n\u001b[1;32m   1467\u001b[0m     input_ids, model_kwargs \u001b[38;5;241m=\u001b[39m \u001b[38;5;28mself\u001b[39m\u001b[38;5;241m.\u001b[39m_expand_inputs_for_generation(\n\u001b[1;32m   1468\u001b[0m         input_ids\u001b[38;5;241m=\u001b[39minput_ids,\n\u001b[1;32m   1469\u001b[0m         expand_size\u001b[38;5;241m=\u001b[39mgeneration_config\u001b[38;5;241m.\u001b[39mnum_beams,\n\u001b[1;32m   1470\u001b[0m         is_encoder_decoder\u001b[38;5;241m=\u001b[39m\u001b[38;5;28mself\u001b[39m\u001b[38;5;241m.\u001b[39mconfig\u001b[38;5;241m.\u001b[39mis_encoder_decoder,\n\u001b[1;32m   1471\u001b[0m         \u001b[38;5;241m*\u001b[39m\u001b[38;5;241m*\u001b[39mmodel_kwargs,\n\u001b[1;32m   1472\u001b[0m     )\n\u001b[1;32m   1473\u001b[0m     \u001b[38;5;66;03m# 13. run beam search\u001b[39;00m\n\u001b[0;32m-> 1474\u001b[0m     \u001b[38;5;28;01mreturn\u001b[39;00m \u001b[38;5;28;43mself\u001b[39;49m\u001b[38;5;241;43m.\u001b[39;49m\u001b[43mbeam_search\u001b[49m\u001b[43m(\u001b[49m\n\u001b[1;32m   1475\u001b[0m \u001b[43m        \u001b[49m\u001b[43minput_ids\u001b[49m\u001b[43m,\u001b[49m\n\u001b[1;32m   1476\u001b[0m \u001b[43m        \u001b[49m\u001b[43mbeam_scorer\u001b[49m\u001b[43m,\u001b[49m\n\u001b[1;32m   1477\u001b[0m \u001b[43m        \u001b[49m\u001b[43mlogits_processor\u001b[49m\u001b[38;5;241;43m=\u001b[39;49m\u001b[43mlogits_processor\u001b[49m\u001b[43m,\u001b[49m\n\u001b[1;32m   1478\u001b[0m \u001b[43m        \u001b[49m\u001b[43mstopping_criteria\u001b[49m\u001b[38;5;241;43m=\u001b[39;49m\u001b[43mstopping_criteria\u001b[49m\u001b[43m,\u001b[49m\n\u001b[1;32m   1479\u001b[0m \u001b[43m        \u001b[49m\u001b[43mpad_token_id\u001b[49m\u001b[38;5;241;43m=\u001b[39;49m\u001b[43mgeneration_config\u001b[49m\u001b[38;5;241;43m.\u001b[39;49m\u001b[43mpad_token_id\u001b[49m\u001b[43m,\u001b[49m\n\u001b[1;32m   1480\u001b[0m \u001b[43m        \u001b[49m\u001b[43meos_token_id\u001b[49m\u001b[38;5;241;43m=\u001b[39;49m\u001b[43mgeneration_config\u001b[49m\u001b[38;5;241;43m.\u001b[39;49m\u001b[43meos_token_id\u001b[49m\u001b[43m,\u001b[49m\n\u001b[1;32m   1481\u001b[0m \u001b[43m        \u001b[49m\u001b[43moutput_scores\u001b[49m\u001b[38;5;241;43m=\u001b[39;49m\u001b[43mgeneration_config\u001b[49m\u001b[38;5;241;43m.\u001b[39;49m\u001b[43moutput_scores\u001b[49m\u001b[43m,\u001b[49m\n\u001b[1;32m   1482\u001b[0m \u001b[43m        \u001b[49m\u001b[43mreturn_dict_in_generate\u001b[49m\u001b[38;5;241;43m=\u001b[39;49m\u001b[43mgeneration_config\u001b[49m\u001b[38;5;241;43m.\u001b[39;49m\u001b[43mreturn_dict_in_generate\u001b[49m\u001b[43m,\u001b[49m\n\u001b[1;32m   1483\u001b[0m \u001b[43m        \u001b[49m\u001b[43msynced_gpus\u001b[49m\u001b[38;5;241;43m=\u001b[39;49m\u001b[43msynced_gpus\u001b[49m\u001b[43m,\u001b[49m\n\u001b[1;32m   1484\u001b[0m \u001b[43m        \u001b[49m\u001b[38;5;241;43m*\u001b[39;49m\u001b[38;5;241;43m*\u001b[39;49m\u001b[43mmodel_kwargs\u001b[49m\u001b[43m,\u001b[49m\n\u001b[1;32m   1485\u001b[0m \u001b[43m    \u001b[49m\u001b[43m)\u001b[49m\n\u001b[1;32m   1487\u001b[0m \u001b[38;5;28;01melif\u001b[39;00m is_beam_sample_gen_mode:\n\u001b[1;32m   1488\u001b[0m     \u001b[38;5;66;03m# 11. prepare logits warper\u001b[39;00m\n\u001b[1;32m   1489\u001b[0m     logits_warper \u001b[38;5;241m=\u001b[39m \u001b[38;5;28mself\u001b[39m\u001b[38;5;241m.\u001b[39m_get_logits_warper(generation_config)\n",
      "File \u001b[0;32m/srv/share2/sanisetty3/miniconda3/envs/DLM/lib/python3.9/site-packages/transformers/generation/utils.py:2775\u001b[0m, in \u001b[0;36mGenerationMixin.beam_search\u001b[0;34m(self, input_ids, beam_scorer, logits_processor, stopping_criteria, max_length, pad_token_id, eos_token_id, output_attentions, output_hidden_states, output_scores, return_dict_in_generate, synced_gpus, **model_kwargs)\u001b[0m\n\u001b[1;32m   2772\u001b[0m next_tokens \u001b[38;5;241m=\u001b[39m next_tokens \u001b[38;5;241m%\u001b[39m vocab_size\n\u001b[1;32m   2774\u001b[0m \u001b[38;5;66;03m# stateless\u001b[39;00m\n\u001b[0;32m-> 2775\u001b[0m beam_outputs \u001b[38;5;241m=\u001b[39m \u001b[43mbeam_scorer\u001b[49m\u001b[38;5;241;43m.\u001b[39;49m\u001b[43mprocess\u001b[49m\u001b[43m(\u001b[49m\n\u001b[1;32m   2776\u001b[0m \u001b[43m    \u001b[49m\u001b[43minput_ids\u001b[49m\u001b[43m,\u001b[49m\n\u001b[1;32m   2777\u001b[0m \u001b[43m    \u001b[49m\u001b[43mnext_token_scores\u001b[49m\u001b[43m,\u001b[49m\n\u001b[1;32m   2778\u001b[0m \u001b[43m    \u001b[49m\u001b[43mnext_tokens\u001b[49m\u001b[43m,\u001b[49m\n\u001b[1;32m   2779\u001b[0m \u001b[43m    \u001b[49m\u001b[43mnext_indices\u001b[49m\u001b[43m,\u001b[49m\n\u001b[1;32m   2780\u001b[0m \u001b[43m    \u001b[49m\u001b[43mpad_token_id\u001b[49m\u001b[38;5;241;43m=\u001b[39;49m\u001b[43mpad_token_id\u001b[49m\u001b[43m,\u001b[49m\n\u001b[1;32m   2781\u001b[0m \u001b[43m    \u001b[49m\u001b[43meos_token_id\u001b[49m\u001b[38;5;241;43m=\u001b[39;49m\u001b[43meos_token_id\u001b[49m\u001b[43m,\u001b[49m\n\u001b[1;32m   2782\u001b[0m \u001b[43m    \u001b[49m\u001b[43mbeam_indices\u001b[49m\u001b[38;5;241;43m=\u001b[39;49m\u001b[43mbeam_indices\u001b[49m\u001b[43m,\u001b[49m\n\u001b[1;32m   2783\u001b[0m \u001b[43m\u001b[49m\u001b[43m)\u001b[49m\n\u001b[1;32m   2785\u001b[0m beam_scores \u001b[38;5;241m=\u001b[39m beam_outputs[\u001b[38;5;124m\"\u001b[39m\u001b[38;5;124mnext_beam_scores\u001b[39m\u001b[38;5;124m\"\u001b[39m]\n\u001b[1;32m   2786\u001b[0m beam_next_tokens \u001b[38;5;241m=\u001b[39m beam_outputs[\u001b[38;5;124m\"\u001b[39m\u001b[38;5;124mnext_beam_tokens\u001b[39m\u001b[38;5;124m\"\u001b[39m]\n",
      "File \u001b[0;32m/srv/share2/sanisetty3/miniconda3/envs/DLM/lib/python3.9/site-packages/transformers/generation/beam_search.py:278\u001b[0m, in \u001b[0;36mBeamSearchScorer.process\u001b[0;34m(self, input_ids, next_scores, next_tokens, next_indices, pad_token_id, eos_token_id, beam_indices)\u001b[0m\n\u001b[1;32m    275\u001b[0m \u001b[38;5;28;01melse\u001b[39;00m:\n\u001b[1;32m    276\u001b[0m     \u001b[38;5;66;03m# add next predicted token since it is not eos_token\u001b[39;00m\n\u001b[1;32m    277\u001b[0m     next_beam_scores[batch_idx, beam_idx] \u001b[38;5;241m=\u001b[39m next_score\n\u001b[0;32m--> 278\u001b[0m     \u001b[43mnext_beam_tokens\u001b[49m\u001b[43m[\u001b[49m\u001b[43mbatch_idx\u001b[49m\u001b[43m,\u001b[49m\u001b[43m \u001b[49m\u001b[43mbeam_idx\u001b[49m\u001b[43m]\u001b[49m \u001b[38;5;241m=\u001b[39m next_token\n\u001b[1;32m    279\u001b[0m     next_beam_indices[batch_idx, beam_idx] \u001b[38;5;241m=\u001b[39m batch_beam_idx\n\u001b[1;32m    280\u001b[0m     beam_idx \u001b[38;5;241m+\u001b[39m\u001b[38;5;241m=\u001b[39m \u001b[38;5;241m1\u001b[39m\n",
      "\u001b[0;31mKeyboardInterrupt\u001b[0m: "
     ]
    }
   ],
   "source": [
    "from tqdm import tqdm\n",
    "targets = None\n",
    "pred = None\n",
    "for batch in tqdm(stack_dl):\n",
    "    try:\n",
    "        targets = np.vstack([targets , batch[\"target\"]])\n",
    "    except: \n",
    "        targets = batch[\"target\"]\n",
    "        \n",
    "    gen_fin = model_f.generate(batch[\"input_ids\"], patch_images=batch[\"patch_images\"], num_beams=5, no_repeat_ngram_size=3)\n",
    "    \n",
    "    try:\n",
    "        pred = np.vstack([pred , gen_fin])\n",
    "    except: \n",
    "        pred = gen_fin\n",
    "        \n",
    "    \n",
    "    \n",
    "    "
   ]
  },
  {
   "cell_type": "code",
   "execution_count": null,
   "id": "6adf5f6a",
   "metadata": {},
   "outputs": [],
   "source": [
    "final_score = metric.compute(predictions=pred, references=targets)"
   ]
  },
  {
   "cell_type": "code",
   "execution_count": null,
   "id": "defa45b7",
   "metadata": {},
   "outputs": [],
   "source": []
  },
  {
   "cell_type": "markdown",
   "id": "bbf9f863",
   "metadata": {},
   "source": [
    "## Custom image and question"
   ]
  },
  {
   "cell_type": "code",
   "execution_count": 24,
   "id": "9180fdc5",
   "metadata": {},
   "outputs": [],
   "source": [
    "pretrained ='/coc/scratch/sanisetty3/DLM/OFA-base-vqa/'\n",
    "fine_tuned =\"/srv/scratch/sanisetty3/DLM/ofa-vqa-tiny/\"\n"
   ]
  },
  {
   "cell_type": "code",
   "execution_count": 25,
   "id": "8d4f7f10",
   "metadata": {},
   "outputs": [
    {
     "name": "stdout",
     "output_type": "stream",
     "text": [
      "/coc/scratch/sanisetty3/DLM/OFA-huge-vqa/\n",
      "<super: <class 'OFATokenizer'>, <OFATokenizer object>>\n"
     ]
    }
   ],
   "source": [
    "tokenizer_p = OFATokenizer.from_pretrained(pretrained)\n",
    "model_p = OFAModelForVQA.from_pretrained(pretrained, use_cache=False)"
   ]
  },
  {
   "cell_type": "code",
   "execution_count": 17,
   "id": "f77fe416",
   "metadata": {},
   "outputs": [],
   "source": [
    "model_f = OFAModelForVQA.from_pretrained(fine_tuned, use_cache=False)"
   ]
  },
  {
   "cell_type": "code",
   "execution_count": 18,
   "id": "ad0f3e44",
   "metadata": {},
   "outputs": [
    {
     "name": "stderr",
     "output_type": "stream",
     "text": [
      "/srv/share2/sanisetty3/miniconda3/envs/DLM/lib/python3.9/site-packages/torchvision/transforms/transforms.py:329: UserWarning: Argument 'interpolation' of type int is deprecated since 0.13 and will be removed in 0.15. Please use InterpolationMode enum.\n",
      "  warnings.warn(\n"
     ]
    }
   ],
   "source": [
    "mean, std = [0.5, 0.5, 0.5], [0.5, 0.5, 0.5]\n",
    "resolution = 480\n",
    "\n",
    "patch_resize_transform = transforms.Compose([\n",
    "    lambda image: image.convert(\"RGB\"),\n",
    "    transforms.Resize((resolution, resolution), interpolation=Image.BICUBIC),\n",
    "    transforms.ToTensor(), \n",
    "    transforms.Normalize(mean=mean, std=std)\n",
    "])"
   ]
  },
  {
   "cell_type": "code",
   "execution_count": 121,
   "id": "caf7452b",
   "metadata": {},
   "outputs": [
    {
     "data": {
      "image/png": "[encoded data removed]",
      "text/plain": [
       "<PIL.PngImagePlugin.PngImageFile image mode=RGBA size=304x231 at 0x7F2153168590>"
      ]
     },
     "execution_count": 121,
     "metadata": {},
     "output_type": "execute_result"
    }
   ],
   "source": [
    "txt = \"Is the yellow block on top of the red block?\"\n",
    "inputs = tokenizer_p([txt], return_tensors=\"pt\").input_ids\n",
    "img = Image.open('./samples/00.png')\n",
    "patch_img = patch_resize_transform(img).unsqueeze(0)\n",
    "img"
   ]
  },
  {
   "cell_type": "code",
   "execution_count": null,
   "id": "e722391a",
   "metadata": {},
   "outputs": [],
   "source": []
  },
  {
   "cell_type": "markdown",
   "id": "99ccc0d0",
   "metadata": {},
   "source": [
    "### Pretrained"
   ]
  },
  {
   "cell_type": "code",
   "execution_count": 122,
   "id": "1371a429",
   "metadata": {},
   "outputs": [],
   "source": [
    "custom_gen = model_p.generate(inputs, patch_images=patch_img, num_beams=5, no_repeat_ngram_size=3)"
   ]
  },
  {
   "cell_type": "code",
   "execution_count": 123,
   "id": "28ef6a38",
   "metadata": {},
   "outputs": [
    {
     "data": {
      "image/png": "[encoded data removed]",
      "text/plain": [
       "<PIL.PngImagePlugin.PngImageFile image mode=RGBA size=304x231 at 0x7F2153168590>"
      ]
     },
     "metadata": {},
     "output_type": "display_data"
    },
    {
     "name": "stdout",
     "output_type": "stream",
     "text": [
      "yellow block on top of red block no\n"
     ]
    }
   ],
   "source": [
    "display(img)\n",
    "print(tokenizer_p.batch_decode(custom_gen, skip_special_tokens=True)[0].strip())"
   ]
  },
  {
   "cell_type": "markdown",
   "id": "6d323399",
   "metadata": {},
   "source": [
    "### Fine tuned"
   ]
  },
  {
   "cell_type": "code",
   "execution_count": 124,
   "id": "648a796d",
   "metadata": {},
   "outputs": [],
   "source": [
    "custom_gen_fin = model_f.generate(inputs, patch_images=patch_img, num_beams=5, no_repeat_ngram_size=3)"
   ]
  },
  {
   "cell_type": "code",
   "execution_count": 125,
   "id": "eaeaae71",
   "metadata": {},
   "outputs": [
    {
     "data": {
      "image/png": "[encoded data removed]",
      "text/plain": [
       "<PIL.PngImagePlugin.PngImageFile image mode=RGBA size=304x231 at 0x7F2153168590>"
      ]
     },
     "metadata": {},
     "output_type": "display_data"
    },
    {
     "name": "stdout",
     "output_type": "stream",
     "text": [
      "no\n"
     ]
    }
   ],
   "source": [
    "display(img)\n",
    "print(tokenizer_p.batch_decode(custom_gen_fin, skip_special_tokens=True)[0].strip())"
   ]
  },
  {
   "cell_type": "markdown",
   "id": "8106fc34",
   "metadata": {},
   "source": [
    "## Push to hub"
   ]
  },
  {
   "cell_type": "code",
   "execution_count": 1,
   "id": "e1e12fac",
   "metadata": {},
   "outputs": [],
   "source": [
    "from core.ofa import OFATokenizer\n",
    "from core.ofa.modeling_ofa import OFAModelForVQA\n",
    "from core.ofa.configuration_ofa import OFAConfig"
   ]
  },
  {
   "cell_type": "code",
   "execution_count": 5,
   "id": "7886faf0",
   "metadata": {},
   "outputs": [
    {
     "name": "stdout",
     "output_type": "stream",
     "text": [
      "/coc/scratch/sanisetty3/DLM/OFA-tiny-vqa-finetune/\n",
      "<super: <class 'OFATokenizer'>, <OFATokenizer object>>\n"
     ]
    }
   ],
   "source": [
    "fine_tuned =\"/coc/scratch/sanisetty3/DLM/OFA-tiny-vqa-finetune/\"\n",
    "pretrained ='/coc/scratch/sanisetty3/DLM/OFA-tiny/'\n",
    "\n",
    "tokenizer_p = OFATokenizer.from_pretrained(fine_tuned)\n"
   ]
  },
  {
   "cell_type": "code",
   "execution_count": null,
   "id": "26fa4002",
   "metadata": {},
   "outputs": [],
   "source": []
  },
  {
   "cell_type": "code",
   "execution_count": 6,
   "id": "ac3c095a",
   "metadata": {},
   "outputs": [
    {
     "name": "stdout",
     "output_type": "stream",
     "text": [
      "Token is valid.\n",
      "\u001b[1m\u001b[31mCannot authenticate through git-credential as no helper is defined on your machine.\n",
      "You might have to re-authenticate when pushing to the Hugging Face Hub.\n",
      "Run the following command in your terminal in case you want to set the 'store' credential helper as default.\n",
      "\n",
      "git config --global credential.helper store\n",
      "\n",
      "Read https://git-scm.com/book/en/v2/Git-Tools-Credential-Storage for more details.\u001b[0m\n",
      "Token has not been saved to git credential helper.\n",
      "Your token has been saved to /nethome/sanisetty3/.cache/huggingface/token\n",
      "Login successful\n"
     ]
    }
   ],
   "source": [
    "from huggingface_hub import notebook_login\n",
    "\n",
    "notebook_login()"
   ]
  },
  {
   "cell_type": "code",
   "execution_count": 8,
   "id": "4374423f",
   "metadata": {},
   "outputs": [
    {
     "name": "stdout",
     "output_type": "stream",
     "text": [
      "\u001b[1m\u001b[31mWARNING! Managing repositories through transformers-cli is deprecated. Please use `huggingface-cli` instead.\u001b[0m\n",
      "\u001b[90mgit version 2.7.4\u001b[0m\n",
      "\u001b[90mgit-lfs/2.7.2 (GitHub; linux amd64; go 1.12.4)\u001b[0m\n",
      "\n",
      "Traceback (most recent call last):\n",
      "  File \"/srv/share2/sanisetty3/miniconda3/envs/DLM/bin/transformers-cli\", line 8, in <module>\n",
      "    sys.exit(main())\n",
      "  File \"/srv/share2/sanisetty3/miniconda3/envs/DLM/lib/python3.9/site-packages/transformers/commands/transformers_cli.py\", line 55, in main\n",
      "    service.run()\n",
      "  File \"/srv/share2/sanisetty3/miniconda3/envs/DLM/lib/python3.9/site-packages/transformers/commands/user.py\", line 177, in run\n",
      "    user, _ = whoami(token)\n",
      "ValueError: too many values to unpack (expected 2)\n"
     ]
    }
   ],
   "source": [
    "!transformers-cli repo create OFA-tiny-vqa-finetune"
   ]
  },
  {
   "cell_type": "code",
   "execution_count": null,
   "id": "0b89c47f",
   "metadata": {},
   "outputs": [],
   "source": []
  }
 ],
 "metadata": {
  "kernelspec": {
   "display_name": "Python 3 (ipykernel)",
   "language": "python",
   "name": "python3"
  },
  "language_info": {
   "codemirror_mode": {
    "name": "ipython",
    "version": 3
   },
   "file_extension": ".py",
   "mimetype": "text/x-python",
   "name": "python",
   "nbconvert_exporter": "python",
   "pygments_lexer": "ipython3",
   "version": "3.9.16"
  }
 },
 "nbformat": 4,
 "nbformat_minor": 5
}
